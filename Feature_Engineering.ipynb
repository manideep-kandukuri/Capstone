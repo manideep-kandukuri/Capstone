{
 "cells": [
  {
   "cell_type": "code",
   "execution_count": null,
   "metadata": {
    "id": "DXOqmisnIY_F"
   },
   "outputs": [],
   "source": [
    "import pandas as pd\n",
    "import numpy as np\n",
    "import matplotlib.pyplot as plt\n",
    "import seaborn as sns"
   ]
  },
  {
   "cell_type": "code",
   "execution_count": null,
   "metadata": {
    "colab": {
     "base_uri": "https://localhost:8080/",
     "height": 598
    },
    "id": "PPzPZr70JKFG",
    "outputId": "1a13a06a-a69b-4355-9e1e-08e7446319d4"
   },
   "outputs": [
    {
     "data": {
      "text/html": [
       "<div>\n",
       "<style scoped>\n",
       "    .dataframe tbody tr th:only-of-type {\n",
       "        vertical-align: middle;\n",
       "    }\n",
       "\n",
       "    .dataframe tbody tr th {\n",
       "        vertical-align: top;\n",
       "    }\n",
       "\n",
       "    .dataframe thead th {\n",
       "        text-align: right;\n",
       "    }\n",
       "</style>\n",
       "<table border=\"1\" class=\"dataframe\">\n",
       "  <thead>\n",
       "    <tr style=\"text-align: right;\">\n",
       "      <th></th>\n",
       "      <th>Hotel_Address</th>\n",
       "      <th>Additional_Number_of_Scoring</th>\n",
       "      <th>Review_Date</th>\n",
       "      <th>Average_Score</th>\n",
       "      <th>Hotel_Name</th>\n",
       "      <th>Reviewer_Nationality</th>\n",
       "      <th>Negative_Review</th>\n",
       "      <th>Review_Total_Negative_Word_Counts</th>\n",
       "      <th>Total_Number_of_Reviews</th>\n",
       "      <th>Positive_Review</th>\n",
       "      <th>Review_Total_Positive_Word_Counts</th>\n",
       "      <th>Total_Number_of_Reviews_Reviewer_Has_Given</th>\n",
       "      <th>Reviewer_Score</th>\n",
       "      <th>Tags</th>\n",
       "      <th>days_since_review</th>\n",
       "      <th>lat</th>\n",
       "      <th>lng</th>\n",
       "    </tr>\n",
       "  </thead>\n",
       "  <tbody>\n",
       "    <tr>\n",
       "      <th>0</th>\n",
       "      <td>s Gravesandestraat 55 Oost 1092 AA Amsterdam ...</td>\n",
       "      <td>194</td>\n",
       "      <td>8/3/2017</td>\n",
       "      <td>7.7</td>\n",
       "      <td>Hotel Arena</td>\n",
       "      <td>Russia</td>\n",
       "      <td>I am so angry that i made this post available...</td>\n",
       "      <td>397</td>\n",
       "      <td>1403</td>\n",
       "      <td>Only the park outside of the hotel was beauti...</td>\n",
       "      <td>11</td>\n",
       "      <td>7</td>\n",
       "      <td>2.9</td>\n",
       "      <td>[' Leisure trip ', ' Couple ', ' Duplex Double...</td>\n",
       "      <td>0 days</td>\n",
       "      <td>52.360576</td>\n",
       "      <td>4.915968</td>\n",
       "    </tr>\n",
       "    <tr>\n",
       "      <th>1</th>\n",
       "      <td>s Gravesandestraat 55 Oost 1092 AA Amsterdam ...</td>\n",
       "      <td>194</td>\n",
       "      <td>8/3/2017</td>\n",
       "      <td>7.7</td>\n",
       "      <td>Hotel Arena</td>\n",
       "      <td>Ireland</td>\n",
       "      <td>No Negative</td>\n",
       "      <td>0</td>\n",
       "      <td>1403</td>\n",
       "      <td>No real complaints the hotel was great great ...</td>\n",
       "      <td>105</td>\n",
       "      <td>7</td>\n",
       "      <td>7.5</td>\n",
       "      <td>[' Leisure trip ', ' Couple ', ' Duplex Double...</td>\n",
       "      <td>0 days</td>\n",
       "      <td>52.360576</td>\n",
       "      <td>4.915968</td>\n",
       "    </tr>\n",
       "    <tr>\n",
       "      <th>2</th>\n",
       "      <td>s Gravesandestraat 55 Oost 1092 AA Amsterdam ...</td>\n",
       "      <td>194</td>\n",
       "      <td>7/31/2017</td>\n",
       "      <td>7.7</td>\n",
       "      <td>Hotel Arena</td>\n",
       "      <td>Australia</td>\n",
       "      <td>Rooms are nice but for elderly a bit difficul...</td>\n",
       "      <td>42</td>\n",
       "      <td>1403</td>\n",
       "      <td>Location was good and staff were ok It is cut...</td>\n",
       "      <td>21</td>\n",
       "      <td>9</td>\n",
       "      <td>7.1</td>\n",
       "      <td>[' Leisure trip ', ' Family with young childre...</td>\n",
       "      <td>3 days</td>\n",
       "      <td>52.360576</td>\n",
       "      <td>4.915968</td>\n",
       "    </tr>\n",
       "    <tr>\n",
       "      <th>3</th>\n",
       "      <td>s Gravesandestraat 55 Oost 1092 AA Amsterdam ...</td>\n",
       "      <td>194</td>\n",
       "      <td>7/31/2017</td>\n",
       "      <td>7.7</td>\n",
       "      <td>Hotel Arena</td>\n",
       "      <td>United Kingdom</td>\n",
       "      <td>My room was dirty and I was afraid to walk ba...</td>\n",
       "      <td>210</td>\n",
       "      <td>1403</td>\n",
       "      <td>Great location in nice surroundings the bar a...</td>\n",
       "      <td>26</td>\n",
       "      <td>1</td>\n",
       "      <td>3.8</td>\n",
       "      <td>[' Leisure trip ', ' Solo traveler ', ' Duplex...</td>\n",
       "      <td>3 days</td>\n",
       "      <td>52.360576</td>\n",
       "      <td>4.915968</td>\n",
       "    </tr>\n",
       "    <tr>\n",
       "      <th>4</th>\n",
       "      <td>s Gravesandestraat 55 Oost 1092 AA Amsterdam ...</td>\n",
       "      <td>194</td>\n",
       "      <td>7/24/2017</td>\n",
       "      <td>7.7</td>\n",
       "      <td>Hotel Arena</td>\n",
       "      <td>New Zealand</td>\n",
       "      <td>You When I booked with your company on line y...</td>\n",
       "      <td>140</td>\n",
       "      <td>1403</td>\n",
       "      <td>Amazing location and building Romantic setting</td>\n",
       "      <td>8</td>\n",
       "      <td>3</td>\n",
       "      <td>6.7</td>\n",
       "      <td>[' Leisure trip ', ' Couple ', ' Suite ', ' St...</td>\n",
       "      <td>10 days</td>\n",
       "      <td>52.360576</td>\n",
       "      <td>4.915968</td>\n",
       "    </tr>\n",
       "  </tbody>\n",
       "</table>\n",
       "</div>"
      ],
      "text/plain": [
       "                                       Hotel_Address  ...       lng\n",
       "0   s Gravesandestraat 55 Oost 1092 AA Amsterdam ...  ...  4.915968\n",
       "1   s Gravesandestraat 55 Oost 1092 AA Amsterdam ...  ...  4.915968\n",
       "2   s Gravesandestraat 55 Oost 1092 AA Amsterdam ...  ...  4.915968\n",
       "3   s Gravesandestraat 55 Oost 1092 AA Amsterdam ...  ...  4.915968\n",
       "4   s Gravesandestraat 55 Oost 1092 AA Amsterdam ...  ...  4.915968\n",
       "\n",
       "[5 rows x 17 columns]"
      ]
     },
     "execution_count": 2,
     "metadata": {
      "tags": []
     },
     "output_type": "execute_result"
    }
   ],
   "source": [
    "df = pd.read_csv('/content/drive/My Drive/capstone/Hotel_Reviews.csv')\n",
    "df.head()"
   ]
  },
  {
   "cell_type": "code",
   "execution_count": null,
   "metadata": {
    "id": "yXqIskbwRmhI"
   },
   "outputs": [],
   "source": [
    "#taking only 50k samples into another dataframe as df1\n",
    "df1 = df.sample(50000,random_state=250)\n"
   ]
  },
  {
   "cell_type": "code",
   "execution_count": null,
   "metadata": {
    "id": "yn-lNj_JRrxm"
   },
   "outputs": [],
   "source": [
    "df1.reset_index(inplace =True)"
   ]
  },
  {
   "cell_type": "code",
   "execution_count": null,
   "metadata": {
    "colab": {
     "base_uri": "https://localhost:8080/",
     "height": 650
    },
    "id": "V2ozef-gRvAZ",
    "outputId": "3a2bd080-b09c-4ad9-a2bf-aaa67a94c181"
   },
   "outputs": [
    {
     "data": {
      "text/html": [
       "<div>\n",
       "<style scoped>\n",
       "    .dataframe tbody tr th:only-of-type {\n",
       "        vertical-align: middle;\n",
       "    }\n",
       "\n",
       "    .dataframe tbody tr th {\n",
       "        vertical-align: top;\n",
       "    }\n",
       "\n",
       "    .dataframe thead th {\n",
       "        text-align: right;\n",
       "    }\n",
       "</style>\n",
       "<table border=\"1\" class=\"dataframe\">\n",
       "  <thead>\n",
       "    <tr style=\"text-align: right;\">\n",
       "      <th></th>\n",
       "      <th>Hotel_Address</th>\n",
       "      <th>Additional_Number_of_Scoring</th>\n",
       "      <th>Review_Date</th>\n",
       "      <th>Average_Score</th>\n",
       "      <th>Hotel_Name</th>\n",
       "      <th>Reviewer_Nationality</th>\n",
       "      <th>Negative_Review</th>\n",
       "      <th>Review_Total_Negative_Word_Counts</th>\n",
       "      <th>Total_Number_of_Reviews</th>\n",
       "      <th>Positive_Review</th>\n",
       "      <th>Review_Total_Positive_Word_Counts</th>\n",
       "      <th>Total_Number_of_Reviews_Reviewer_Has_Given</th>\n",
       "      <th>Reviewer_Score</th>\n",
       "      <th>Tags</th>\n",
       "      <th>days_since_review</th>\n",
       "      <th>lat</th>\n",
       "      <th>lng</th>\n",
       "    </tr>\n",
       "  </thead>\n",
       "  <tbody>\n",
       "    <tr>\n",
       "      <th>0</th>\n",
       "      <td>Paseo Garc a Faria 37 47 Sant Mart 08019 Barce...</td>\n",
       "      <td>241</td>\n",
       "      <td>8/30/2016</td>\n",
       "      <td>8.2</td>\n",
       "      <td>Occidental Atenea Mar Adults Only</td>\n",
       "      <td>Italy</td>\n",
       "      <td>Bathtub and sink flush wasn t working properl...</td>\n",
       "      <td>138</td>\n",
       "      <td>2500</td>\n",
       "      <td>We ve had a room with sea view and was lovely...</td>\n",
       "      <td>48</td>\n",
       "      <td>8</td>\n",
       "      <td>7.5</td>\n",
       "      <td>[' Leisure trip ', ' Couple ', ' Superior Doub...</td>\n",
       "      <td>338 day</td>\n",
       "      <td>41.402362</td>\n",
       "      <td>2.211905</td>\n",
       "    </tr>\n",
       "    <tr>\n",
       "      <th>1</th>\n",
       "      <td>Prins Hendrikkade 59 72 Amsterdam City Center ...</td>\n",
       "      <td>493</td>\n",
       "      <td>12/8/2016</td>\n",
       "      <td>8.6</td>\n",
       "      <td>NH Collection Amsterdam Barbizon Palace</td>\n",
       "      <td>Gabon</td>\n",
       "      <td>The bedroom was tight and very small They exp...</td>\n",
       "      <td>23</td>\n",
       "      <td>2865</td>\n",
       "      <td>To be near to the main train station</td>\n",
       "      <td>9</td>\n",
       "      <td>3</td>\n",
       "      <td>5.4</td>\n",
       "      <td>[' Business trip ', ' Group ', ' Premium Doubl...</td>\n",
       "      <td>238 day</td>\n",
       "      <td>52.376418</td>\n",
       "      <td>4.900220</td>\n",
       "    </tr>\n",
       "    <tr>\n",
       "      <th>2</th>\n",
       "      <td>Bryanston Street Marble Arch Westminster Borou...</td>\n",
       "      <td>908</td>\n",
       "      <td>2/16/2016</td>\n",
       "      <td>8.5</td>\n",
       "      <td>Amba Hotel Marble Arch</td>\n",
       "      <td>United Kingdom</td>\n",
       "      <td>No Negative</td>\n",
       "      <td>0</td>\n",
       "      <td>3980</td>\n",
       "      <td>Great to have ipads in the room and the break...</td>\n",
       "      <td>13</td>\n",
       "      <td>8</td>\n",
       "      <td>9.2</td>\n",
       "      <td>[' Leisure trip ', ' Couple ', ' Standard Doub...</td>\n",
       "      <td>534 day</td>\n",
       "      <td>51.514400</td>\n",
       "      <td>-0.156551</td>\n",
       "    </tr>\n",
       "    <tr>\n",
       "      <th>3</th>\n",
       "      <td>6 rue Balzac 8th arr 75008 Paris France</td>\n",
       "      <td>117</td>\n",
       "      <td>7/8/2017</td>\n",
       "      <td>8.3</td>\n",
       "      <td>H tel Balzac</td>\n",
       "      <td>Pakistan</td>\n",
       "      <td>There was only one small issue with the room ...</td>\n",
       "      <td>47</td>\n",
       "      <td>694</td>\n",
       "      <td>The location was excellent It was off the Cha...</td>\n",
       "      <td>79</td>\n",
       "      <td>1</td>\n",
       "      <td>9.2</td>\n",
       "      <td>[' Leisure trip ', ' Couple ', ' Superior Doub...</td>\n",
       "      <td>26 days</td>\n",
       "      <td>48.873278</td>\n",
       "      <td>2.300417</td>\n",
       "    </tr>\n",
       "    <tr>\n",
       "      <th>4</th>\n",
       "      <td>16 22 Great Russell Street Camden London WC1B ...</td>\n",
       "      <td>300</td>\n",
       "      <td>3/26/2016</td>\n",
       "      <td>9.0</td>\n",
       "      <td>The Bloomsbury Hotel</td>\n",
       "      <td>United Kingdom</td>\n",
       "      <td>Price of breakfast was high We went to an ama...</td>\n",
       "      <td>68</td>\n",
       "      <td>1254</td>\n",
       "      <td>Amazing location and quality of hotel Being c...</td>\n",
       "      <td>25</td>\n",
       "      <td>1</td>\n",
       "      <td>9.6</td>\n",
       "      <td>[' Leisure trip ', ' Couple ', ' Superior Doub...</td>\n",
       "      <td>495 day</td>\n",
       "      <td>51.517167</td>\n",
       "      <td>-0.129053</td>\n",
       "    </tr>\n",
       "  </tbody>\n",
       "</table>\n",
       "</div>"
      ],
      "text/plain": [
       "                                       Hotel_Address  ...       lng\n",
       "0  Paseo Garc a Faria 37 47 Sant Mart 08019 Barce...  ...  2.211905\n",
       "1  Prins Hendrikkade 59 72 Amsterdam City Center ...  ...  4.900220\n",
       "2  Bryanston Street Marble Arch Westminster Borou...  ... -0.156551\n",
       "3            6 rue Balzac 8th arr 75008 Paris France  ...  2.300417\n",
       "4  16 22 Great Russell Street Camden London WC1B ...  ... -0.129053\n",
       "\n",
       "[5 rows x 17 columns]"
      ]
     },
     "execution_count": 5,
     "metadata": {
      "tags": []
     },
     "output_type": "execute_result"
    }
   ],
   "source": [
    "# df1.head()\n",
    "df1 = df1.drop('index',axis=1)\n",
    "df1.head()"
   ]
  },
  {
   "cell_type": "code",
   "execution_count": null,
   "metadata": {
    "id": "JIb1mE3yJPSQ"
   },
   "outputs": [],
   "source": [
    "#append both positive and negative reviews\n",
    "review = []\n",
    "for row in range(0,len(df1)):\n",
    "    review.append(''.join(str(x) for x in df1.iloc[row,[6,9]]))\n",
    "#     review = review.strip()\n"
   ]
  },
  {
   "cell_type": "code",
   "execution_count": null,
   "metadata": {
    "colab": {
     "base_uri": "https://localhost:8080/",
     "height": 198
    },
    "id": "Ja1WeXF6O5Z2",
    "outputId": "c6fc65e2-2828-462f-9840-ba4c510291d0"
   },
   "outputs": [
    {
     "data": {
      "text/html": [
       "<div>\n",
       "<style scoped>\n",
       "    .dataframe tbody tr th:only-of-type {\n",
       "        vertical-align: middle;\n",
       "    }\n",
       "\n",
       "    .dataframe tbody tr th {\n",
       "        vertical-align: top;\n",
       "    }\n",
       "\n",
       "    .dataframe thead th {\n",
       "        text-align: right;\n",
       "    }\n",
       "</style>\n",
       "<table border=\"1\" class=\"dataframe\">\n",
       "  <thead>\n",
       "    <tr style=\"text-align: right;\">\n",
       "      <th></th>\n",
       "      <th>0</th>\n",
       "    </tr>\n",
       "  </thead>\n",
       "  <tbody>\n",
       "    <tr>\n",
       "      <th>0</th>\n",
       "      <td>Bathtub and sink flush wasn t working properl...</td>\n",
       "    </tr>\n",
       "    <tr>\n",
       "      <th>1</th>\n",
       "      <td>The bedroom was tight and very small They exp...</td>\n",
       "    </tr>\n",
       "    <tr>\n",
       "      <th>2</th>\n",
       "      <td>No Negative Great to have ipads in the room an...</td>\n",
       "    </tr>\n",
       "    <tr>\n",
       "      <th>3</th>\n",
       "      <td>There was only one small issue with the room ...</td>\n",
       "    </tr>\n",
       "    <tr>\n",
       "      <th>4</th>\n",
       "      <td>Price of breakfast was high We went to an ama...</td>\n",
       "    </tr>\n",
       "  </tbody>\n",
       "</table>\n",
       "</div>"
      ],
      "text/plain": [
       "                                                   0\n",
       "0   Bathtub and sink flush wasn t working properl...\n",
       "1   The bedroom was tight and very small They exp...\n",
       "2  No Negative Great to have ipads in the room an...\n",
       "3   There was only one small issue with the room ...\n",
       "4   Price of breakfast was high We went to an ama..."
      ]
     },
     "execution_count": 7,
     "metadata": {
      "tags": []
     },
     "output_type": "execute_result"
    }
   ],
   "source": [
    "review = pd.DataFrame(review)\n",
    "review.head()"
   ]
  },
  {
   "cell_type": "code",
   "execution_count": null,
   "metadata": {
    "colab": {
     "base_uri": "https://localhost:8080/",
     "height": 198
    },
    "id": "OOLLVJhWQYYV",
    "outputId": "bb7adbed-0ef6-4eff-803b-895fcaaf7736"
   },
   "outputs": [
    {
     "data": {
      "text/html": [
       "<div>\n",
       "<style scoped>\n",
       "    .dataframe tbody tr th:only-of-type {\n",
       "        vertical-align: middle;\n",
       "    }\n",
       "\n",
       "    .dataframe tbody tr th {\n",
       "        vertical-align: top;\n",
       "    }\n",
       "\n",
       "    .dataframe thead th {\n",
       "        text-align: right;\n",
       "    }\n",
       "</style>\n",
       "<table border=\"1\" class=\"dataframe\">\n",
       "  <thead>\n",
       "    <tr style=\"text-align: right;\">\n",
       "      <th></th>\n",
       "      <th>reviews</th>\n",
       "    </tr>\n",
       "  </thead>\n",
       "  <tbody>\n",
       "    <tr>\n",
       "      <th>0</th>\n",
       "      <td>Bathtub and sink flush wasn t working properl...</td>\n",
       "    </tr>\n",
       "    <tr>\n",
       "      <th>1</th>\n",
       "      <td>The bedroom was tight and very small They exp...</td>\n",
       "    </tr>\n",
       "    <tr>\n",
       "      <th>2</th>\n",
       "      <td>No Negative Great to have ipads in the room an...</td>\n",
       "    </tr>\n",
       "    <tr>\n",
       "      <th>3</th>\n",
       "      <td>There was only one small issue with the room ...</td>\n",
       "    </tr>\n",
       "    <tr>\n",
       "      <th>4</th>\n",
       "      <td>Price of breakfast was high We went to an ama...</td>\n",
       "    </tr>\n",
       "  </tbody>\n",
       "</table>\n",
       "</div>"
      ],
      "text/plain": [
       "                                             reviews\n",
       "0   Bathtub and sink flush wasn t working properl...\n",
       "1   The bedroom was tight and very small They exp...\n",
       "2  No Negative Great to have ipads in the room an...\n",
       "3   There was only one small issue with the room ...\n",
       "4   Price of breakfast was high We went to an ama..."
      ]
     },
     "execution_count": 8,
     "metadata": {
      "tags": []
     },
     "output_type": "execute_result"
    }
   ],
   "source": [
    "review.columns = ['reviews']\n",
    "review.head()"
   ]
  },
  {
   "cell_type": "code",
   "execution_count": null,
   "metadata": {
    "colab": {
     "base_uri": "https://localhost:8080/",
     "height": 198
    },
    "id": "243qozbUQbMg",
    "outputId": "64bf9319-6eea-4b96-cc6a-000bb3b50145"
   },
   "outputs": [
    {
     "data": {
      "text/html": [
       "<div>\n",
       "<style scoped>\n",
       "    .dataframe tbody tr th:only-of-type {\n",
       "        vertical-align: middle;\n",
       "    }\n",
       "\n",
       "    .dataframe tbody tr th {\n",
       "        vertical-align: top;\n",
       "    }\n",
       "\n",
       "    .dataframe thead th {\n",
       "        text-align: right;\n",
       "    }\n",
       "</style>\n",
       "<table border=\"1\" class=\"dataframe\">\n",
       "  <thead>\n",
       "    <tr style=\"text-align: right;\">\n",
       "      <th></th>\n",
       "      <th>reviews</th>\n",
       "    </tr>\n",
       "  </thead>\n",
       "  <tbody>\n",
       "    <tr>\n",
       "      <th>0</th>\n",
       "      <td>Bathtub and sink flush wasn t working properl...</td>\n",
       "    </tr>\n",
       "    <tr>\n",
       "      <th>1</th>\n",
       "      <td>The bedroom was tight and very small They exp...</td>\n",
       "    </tr>\n",
       "    <tr>\n",
       "      <th>2</th>\n",
       "      <td>Great to have ipads in the room and the break...</td>\n",
       "    </tr>\n",
       "    <tr>\n",
       "      <th>3</th>\n",
       "      <td>There was only one small issue with the room ...</td>\n",
       "    </tr>\n",
       "    <tr>\n",
       "      <th>4</th>\n",
       "      <td>Price of breakfast was high We went to an ama...</td>\n",
       "    </tr>\n",
       "  </tbody>\n",
       "</table>\n",
       "</div>"
      ],
      "text/plain": [
       "                                             reviews\n",
       "0   Bathtub and sink flush wasn t working properl...\n",
       "1   The bedroom was tight and very small They exp...\n",
       "2   Great to have ipads in the room and the break...\n",
       "3   There was only one small issue with the room ...\n",
       "4   Price of breakfast was high We went to an ama..."
      ]
     },
     "execution_count": 9,
     "metadata": {
      "tags": []
     },
     "output_type": "execute_result"
    }
   ],
   "source": [
    "review['reviews'] = review['reviews'].apply(lambda x:x.replace('No Negative',''))\n",
    "review['reviews'] = review['reviews'].apply(lambda x:x.replace('No Positive',''))\n",
    "review.head()"
   ]
  },
  {
   "cell_type": "code",
   "execution_count": null,
   "metadata": {
    "id": "z9IKluzUQeLV"
   },
   "outputs": [],
   "source": [
    "\n",
    "#appending the combined column(i.e review ) in df1\n",
    "df1['reviews'] = review"
   ]
  },
  {
   "cell_type": "code",
   "execution_count": null,
   "metadata": {
    "colab": {
     "base_uri": "https://localhost:8080/"
    },
    "id": "yKnSa4JbQlTz",
    "outputId": "1877afbc-3e47-481e-a045-79e513174710"
   },
   "outputs": [
    {
     "data": {
      "text/plain": [
       "Hotel_Address                                   0\n",
       "Additional_Number_of_Scoring                    0\n",
       "Review_Date                                     0\n",
       "Average_Score                                   0\n",
       "Hotel_Name                                      0\n",
       "Reviewer_Nationality                            0\n",
       "Negative_Review                                 0\n",
       "Review_Total_Negative_Word_Counts               0\n",
       "Total_Number_of_Reviews                         0\n",
       "Positive_Review                                 0\n",
       "Review_Total_Positive_Word_Counts               0\n",
       "Total_Number_of_Reviews_Reviewer_Has_Given      0\n",
       "Reviewer_Score                                  0\n",
       "Tags                                            0\n",
       "days_since_review                               0\n",
       "lat                                           323\n",
       "lng                                           323\n",
       "reviews                                         0\n",
       "dtype: int64"
      ]
     },
     "execution_count": 11,
     "metadata": {
      "tags": []
     },
     "output_type": "execute_result"
    }
   ],
   "source": [
    "df1.isnull().sum()"
   ]
  },
  {
   "cell_type": "code",
   "execution_count": null,
   "metadata": {
    "id": "Z0L-z56UQo60"
   },
   "outputs": [],
   "source": [
    "df1 = df1.dropna()\n",
    "df1.reset_index(inplace=True)"
   ]
  },
  {
   "cell_type": "code",
   "execution_count": null,
   "metadata": {
    "colab": {
     "base_uri": "https://localhost:8080/"
    },
    "id": "-whwIex2SHz0",
    "outputId": "ea8b9445-57f0-441c-ce13-8962fec6e3f6"
   },
   "outputs": [
    {
     "data": {
      "text/plain": [
       "index                                         0\n",
       "Hotel_Address                                 0\n",
       "Additional_Number_of_Scoring                  0\n",
       "Review_Date                                   0\n",
       "Average_Score                                 0\n",
       "Hotel_Name                                    0\n",
       "Reviewer_Nationality                          0\n",
       "Negative_Review                               0\n",
       "Review_Total_Negative_Word_Counts             0\n",
       "Total_Number_of_Reviews                       0\n",
       "Positive_Review                               0\n",
       "Review_Total_Positive_Word_Counts             0\n",
       "Total_Number_of_Reviews_Reviewer_Has_Given    0\n",
       "Reviewer_Score                                0\n",
       "Tags                                          0\n",
       "days_since_review                             0\n",
       "lat                                           0\n",
       "lng                                           0\n",
       "reviews                                       0\n",
       "dtype: int64"
      ]
     },
     "execution_count": 13,
     "metadata": {
      "tags": []
     },
     "output_type": "execute_result"
    }
   ],
   "source": [
    "df1.isnull().sum()"
   ]
  },
  {
   "cell_type": "code",
   "execution_count": null,
   "metadata": {
    "id": "72HGsJzTSJqs"
   },
   "outputs": [],
   "source": [
    "# making a copy of df1 after removing all the null values \n",
    "df2 = df1.copy(deep=True)"
   ]
  },
  {
   "cell_type": "code",
   "execution_count": null,
   "metadata": {
    "colab": {
     "base_uri": "https://localhost:8080/"
    },
    "id": "7nah0BqgSTQE",
    "outputId": "fac0d748-337c-4e3b-dc3a-2970474672e3"
   },
   "outputs": [
    {
     "data": {
      "text/plain": [
       "Kingdom        25555\n",
       "Spain           5735\n",
       "France          5651\n",
       "Netherlands     5550\n",
       "Italy           3645\n",
       "Austria         3541\n",
       "Name: Hotel_Country, dtype: int64"
      ]
     },
     "execution_count": 15,
     "metadata": {
      "tags": []
     },
     "output_type": "execute_result"
    }
   ],
   "source": [
    "#Extracting the Country from the 'Hotel_Address' and creating the new column\n",
    "df2['Hotel_Country'] = df2['Hotel_Address'].apply(lambda x: x.split()[-1])\n",
    "df2['Hotel_Country'].value_counts()"
   ]
  },
  {
   "cell_type": "code",
   "execution_count": null,
   "metadata": {
    "id": "omGkhMoZShN5"
   },
   "outputs": [],
   "source": [
    "#Replaced the Kingdom as 'United Kingdom' \n",
    "df2['Hotel_Country'] = df2['Hotel_Country'].replace('Kingdom','United Kingdom')"
   ]
  },
  {
   "cell_type": "code",
   "execution_count": null,
   "metadata": {
    "colab": {
     "base_uri": "https://localhost:8080/"
    },
    "id": "E7fUmAsTSjqG",
    "outputId": "9b9e49dc-e6e9-4fd6-dd26-5cd5152cdc0b"
   },
   "outputs": [
    {
     "data": {
      "text/plain": [
       "201608    2669\n",
       "201607    2515\n",
       "201610    2320\n",
       "201707    2311\n",
       "201605    2297\n",
       "201609    2190\n",
       "201705    2184\n",
       "201701    2151\n",
       "201706    2099\n",
       "201604    2074\n",
       "201704    2066\n",
       "201606    2051\n",
       "201612    2042\n",
       "201703    1960\n",
       "201603    1930\n",
       "201509    1903\n",
       "201702    1887\n",
       "201508    1883\n",
       "201601    1850\n",
       "201510    1844\n",
       "201602    1827\n",
       "201611    1763\n",
       "201511    1741\n",
       "201512    1737\n",
       "201708     383\n",
       "Name: year_Month, dtype: int64"
      ]
     },
     "execution_count": 17,
     "metadata": {
      "tags": []
     },
     "output_type": "execute_result"
    }
   ],
   "source": [
    "#Here Review_Date is a str \n",
    "# and extracting the year and month from the date \n",
    "# and storing as yyyymm as one column/feature\n",
    "yr = df2.Review_Date.str[-4:]  \n",
    "month =df2.Review_Date.str[:2]\n",
    "month = month.apply(lambda x:x.replace('/',''))\n",
    "# df2['year_Month'] = ((df2.Review_Date.str[-4:].astype(int)*100)+(df2.Review_Date.str[:2].astype(int))).astype(str)\n",
    "df2['year_Month'] = ((yr.astype(int)*100)+(month.astype(int))).astype(str)\n",
    "df2['review_month'] = month.astype(int)\n",
    "df2['year_Month'].value_counts()"
   ]
  },
  {
   "cell_type": "code",
   "execution_count": null,
   "metadata": {
    "id": "r3zdRTDGS5w6"
   },
   "outputs": [],
   "source": [
    "# 'Reviewer_Nationality' columns contains spaces .\n",
    "# treating the spaces as replacing it with 'Others'\n",
    "df2['Reviewer_Nationality'] = df2['Reviewer_Nationality'].replace(' ','Others')"
   ]
  },
  {
   "cell_type": "code",
   "execution_count": null,
   "metadata": {
    "colab": {
     "base_uri": "https://localhost:8080/",
     "height": 685
    },
    "id": "gP3iOyXnTLcY",
    "outputId": "14886162-91ad-4cd9-e5e8-96778fadcafa"
   },
   "outputs": [
    {
     "data": {
      "text/html": [
       "<div>\n",
       "<style scoped>\n",
       "    .dataframe tbody tr th:only-of-type {\n",
       "        vertical-align: middle;\n",
       "    }\n",
       "\n",
       "    .dataframe tbody tr th {\n",
       "        vertical-align: top;\n",
       "    }\n",
       "\n",
       "    .dataframe thead th {\n",
       "        text-align: right;\n",
       "    }\n",
       "</style>\n",
       "<table border=\"1\" class=\"dataframe\">\n",
       "  <thead>\n",
       "    <tr style=\"text-align: right;\">\n",
       "      <th></th>\n",
       "      <th>index</th>\n",
       "      <th>Hotel_Address</th>\n",
       "      <th>Additional_Number_of_Scoring</th>\n",
       "      <th>Review_Date</th>\n",
       "      <th>Average_Score</th>\n",
       "      <th>Hotel_Name</th>\n",
       "      <th>Reviewer_Nationality</th>\n",
       "      <th>Negative_Review</th>\n",
       "      <th>Review_Total_Negative_Word_Counts</th>\n",
       "      <th>Total_Number_of_Reviews</th>\n",
       "      <th>Positive_Review</th>\n",
       "      <th>Review_Total_Positive_Word_Counts</th>\n",
       "      <th>Total_Number_of_Reviews_Reviewer_Has_Given</th>\n",
       "      <th>Reviewer_Score</th>\n",
       "      <th>Tags</th>\n",
       "      <th>days_since_review</th>\n",
       "      <th>lat</th>\n",
       "      <th>lng</th>\n",
       "      <th>reviews</th>\n",
       "      <th>Hotel_Country</th>\n",
       "      <th>year_Month</th>\n",
       "      <th>review_month</th>\n",
       "    </tr>\n",
       "  </thead>\n",
       "  <tbody>\n",
       "    <tr>\n",
       "      <th>0</th>\n",
       "      <td>0</td>\n",
       "      <td>Paseo Garc a Faria 37 47 Sant Mart 08019 Barce...</td>\n",
       "      <td>241</td>\n",
       "      <td>8/30/2016</td>\n",
       "      <td>8.2</td>\n",
       "      <td>Occidental Atenea Mar Adults Only</td>\n",
       "      <td>Italy</td>\n",
       "      <td>Bathtub and sink flush wasn t working properl...</td>\n",
       "      <td>138</td>\n",
       "      <td>2500</td>\n",
       "      <td>We ve had a room with sea view and was lovely...</td>\n",
       "      <td>48</td>\n",
       "      <td>8</td>\n",
       "      <td>7.5</td>\n",
       "      <td>[' Leisure trip ', ' Couple ', ' Superior Doub...</td>\n",
       "      <td>338 day</td>\n",
       "      <td>41.402362</td>\n",
       "      <td>2.211905</td>\n",
       "      <td>Bathtub and sink flush wasn t working properl...</td>\n",
       "      <td>Spain</td>\n",
       "      <td>201608</td>\n",
       "      <td>8</td>\n",
       "    </tr>\n",
       "    <tr>\n",
       "      <th>1</th>\n",
       "      <td>1</td>\n",
       "      <td>Prins Hendrikkade 59 72 Amsterdam City Center ...</td>\n",
       "      <td>493</td>\n",
       "      <td>12/8/2016</td>\n",
       "      <td>8.6</td>\n",
       "      <td>NH Collection Amsterdam Barbizon Palace</td>\n",
       "      <td>Gabon</td>\n",
       "      <td>The bedroom was tight and very small They exp...</td>\n",
       "      <td>23</td>\n",
       "      <td>2865</td>\n",
       "      <td>To be near to the main train station</td>\n",
       "      <td>9</td>\n",
       "      <td>3</td>\n",
       "      <td>5.4</td>\n",
       "      <td>[' Business trip ', ' Group ', ' Premium Doubl...</td>\n",
       "      <td>238 day</td>\n",
       "      <td>52.376418</td>\n",
       "      <td>4.900220</td>\n",
       "      <td>The bedroom was tight and very small They exp...</td>\n",
       "      <td>Netherlands</td>\n",
       "      <td>201612</td>\n",
       "      <td>12</td>\n",
       "    </tr>\n",
       "    <tr>\n",
       "      <th>2</th>\n",
       "      <td>2</td>\n",
       "      <td>Bryanston Street Marble Arch Westminster Borou...</td>\n",
       "      <td>908</td>\n",
       "      <td>2/16/2016</td>\n",
       "      <td>8.5</td>\n",
       "      <td>Amba Hotel Marble Arch</td>\n",
       "      <td>United Kingdom</td>\n",
       "      <td>No Negative</td>\n",
       "      <td>0</td>\n",
       "      <td>3980</td>\n",
       "      <td>Great to have ipads in the room and the break...</td>\n",
       "      <td>13</td>\n",
       "      <td>8</td>\n",
       "      <td>9.2</td>\n",
       "      <td>[' Leisure trip ', ' Couple ', ' Standard Doub...</td>\n",
       "      <td>534 day</td>\n",
       "      <td>51.514400</td>\n",
       "      <td>-0.156551</td>\n",
       "      <td>Great to have ipads in the room and the break...</td>\n",
       "      <td>United Kingdom</td>\n",
       "      <td>201602</td>\n",
       "      <td>2</td>\n",
       "    </tr>\n",
       "    <tr>\n",
       "      <th>3</th>\n",
       "      <td>3</td>\n",
       "      <td>6 rue Balzac 8th arr 75008 Paris France</td>\n",
       "      <td>117</td>\n",
       "      <td>7/8/2017</td>\n",
       "      <td>8.3</td>\n",
       "      <td>H tel Balzac</td>\n",
       "      <td>Pakistan</td>\n",
       "      <td>There was only one small issue with the room ...</td>\n",
       "      <td>47</td>\n",
       "      <td>694</td>\n",
       "      <td>The location was excellent It was off the Cha...</td>\n",
       "      <td>79</td>\n",
       "      <td>1</td>\n",
       "      <td>9.2</td>\n",
       "      <td>[' Leisure trip ', ' Couple ', ' Superior Doub...</td>\n",
       "      <td>26 days</td>\n",
       "      <td>48.873278</td>\n",
       "      <td>2.300417</td>\n",
       "      <td>There was only one small issue with the room ...</td>\n",
       "      <td>France</td>\n",
       "      <td>201707</td>\n",
       "      <td>7</td>\n",
       "    </tr>\n",
       "    <tr>\n",
       "      <th>4</th>\n",
       "      <td>4</td>\n",
       "      <td>16 22 Great Russell Street Camden London WC1B ...</td>\n",
       "      <td>300</td>\n",
       "      <td>3/26/2016</td>\n",
       "      <td>9.0</td>\n",
       "      <td>The Bloomsbury Hotel</td>\n",
       "      <td>United Kingdom</td>\n",
       "      <td>Price of breakfast was high We went to an ama...</td>\n",
       "      <td>68</td>\n",
       "      <td>1254</td>\n",
       "      <td>Amazing location and quality of hotel Being c...</td>\n",
       "      <td>25</td>\n",
       "      <td>1</td>\n",
       "      <td>9.6</td>\n",
       "      <td>[' Leisure trip ', ' Couple ', ' Superior Doub...</td>\n",
       "      <td>495 day</td>\n",
       "      <td>51.517167</td>\n",
       "      <td>-0.129053</td>\n",
       "      <td>Price of breakfast was high We went to an ama...</td>\n",
       "      <td>United Kingdom</td>\n",
       "      <td>201603</td>\n",
       "      <td>3</td>\n",
       "    </tr>\n",
       "  </tbody>\n",
       "</table>\n",
       "</div>"
      ],
      "text/plain": [
       "   index  ... review_month\n",
       "0      0  ...            8\n",
       "1      1  ...           12\n",
       "2      2  ...            2\n",
       "3      3  ...            7\n",
       "4      4  ...            3\n",
       "\n",
       "[5 rows x 22 columns]"
      ]
     },
     "execution_count": 19,
     "metadata": {
      "tags": []
     },
     "output_type": "execute_result"
    }
   ],
   "source": [
    "df2.head()"
   ]
  },
  {
   "cell_type": "code",
   "execution_count": null,
   "metadata": {
    "colab": {
     "base_uri": "https://localhost:8080/"
    },
    "id": "3yQVtrMoTZml",
    "outputId": "beb35ae5-4b87-429f-9283-019f8684e9f6"
   },
   "outputs": [
    {
     "name": "stderr",
     "output_type": "stream",
     "text": [
      "/usr/local/lib/python3.6/dist-packages/ipykernel_launcher.py:2: SettingWithCopyWarning: \n",
      "A value is trying to be set on a copy of a slice from a DataFrame\n",
      "\n",
      "See the caveats in the documentation: https://pandas.pydata.org/pandas-docs/stable/user_guide/indexing.html#returning-a-view-versus-a-copy\n",
      "  \n",
      "/usr/local/lib/python3.6/dist-packages/ipykernel_launcher.py:3: SettingWithCopyWarning: \n",
      "A value is trying to be set on a copy of a slice from a DataFrame\n",
      "\n",
      "See the caveats in the documentation: https://pandas.pydata.org/pandas-docs/stable/user_guide/indexing.html#returning-a-view-versus-a-copy\n",
      "  This is separate from the ipykernel package so we can avoid doing imports until\n"
     ]
    }
   ],
   "source": [
    "for i in range(0,len(df2['Tags'])):\n",
    "    df2['Tags'][i] = df2['Tags'][i].replace('[','').replace(']','').replace(\"'\",'').strip()\n",
    "    df2['Tags'][i] = df2['Tags'][i].split(',')"
   ]
  },
  {
   "cell_type": "code",
   "execution_count": null,
   "metadata": {
    "id": "M5mKEoGpT5cM"
   },
   "outputs": [],
   "source": [
    "df2['Trip'] = df2['Tags'].apply(lambda x : [str(x[i]) for i in range(0,len(x)) if 'trip' in x[i]])"
   ]
  },
  {
   "cell_type": "code",
   "execution_count": null,
   "metadata": {
    "id": "FBfy_Wu8UIJQ"
   },
   "outputs": [],
   "source": [
    "df2['Trip'] =  df2['Trip'].apply(lambda x: x[0].strip() if len(x) !=0 else 'Nan')"
   ]
  },
  {
   "cell_type": "code",
   "execution_count": null,
   "metadata": {
    "id": "EShWNYg7UOpD"
   },
   "outputs": [],
   "source": [
    "#Dropping the index column which was created while resetting the index\n",
    "df2 = df2.drop('index',axis=1)"
   ]
  },
  {
   "cell_type": "code",
   "execution_count": null,
   "metadata": {
    "colab": {
     "base_uri": "https://localhost:8080/",
     "height": 685
    },
    "id": "KpVTLbUyURlx",
    "outputId": "2ed67a4d-a794-467f-93d7-421023867970"
   },
   "outputs": [
    {
     "data": {
      "text/html": [
       "<div>\n",
       "<style scoped>\n",
       "    .dataframe tbody tr th:only-of-type {\n",
       "        vertical-align: middle;\n",
       "    }\n",
       "\n",
       "    .dataframe tbody tr th {\n",
       "        vertical-align: top;\n",
       "    }\n",
       "\n",
       "    .dataframe thead th {\n",
       "        text-align: right;\n",
       "    }\n",
       "</style>\n",
       "<table border=\"1\" class=\"dataframe\">\n",
       "  <thead>\n",
       "    <tr style=\"text-align: right;\">\n",
       "      <th></th>\n",
       "      <th>Hotel_Address</th>\n",
       "      <th>Additional_Number_of_Scoring</th>\n",
       "      <th>Review_Date</th>\n",
       "      <th>Average_Score</th>\n",
       "      <th>Hotel_Name</th>\n",
       "      <th>Reviewer_Nationality</th>\n",
       "      <th>Negative_Review</th>\n",
       "      <th>Review_Total_Negative_Word_Counts</th>\n",
       "      <th>Total_Number_of_Reviews</th>\n",
       "      <th>Positive_Review</th>\n",
       "      <th>Review_Total_Positive_Word_Counts</th>\n",
       "      <th>Total_Number_of_Reviews_Reviewer_Has_Given</th>\n",
       "      <th>Reviewer_Score</th>\n",
       "      <th>Tags</th>\n",
       "      <th>days_since_review</th>\n",
       "      <th>lat</th>\n",
       "      <th>lng</th>\n",
       "      <th>reviews</th>\n",
       "      <th>Hotel_Country</th>\n",
       "      <th>year_Month</th>\n",
       "      <th>review_month</th>\n",
       "      <th>Trip</th>\n",
       "    </tr>\n",
       "  </thead>\n",
       "  <tbody>\n",
       "    <tr>\n",
       "      <th>0</th>\n",
       "      <td>Paseo Garc a Faria 37 47 Sant Mart 08019 Barce...</td>\n",
       "      <td>241</td>\n",
       "      <td>8/30/2016</td>\n",
       "      <td>8.2</td>\n",
       "      <td>Occidental Atenea Mar Adults Only</td>\n",
       "      <td>Italy</td>\n",
       "      <td>Bathtub and sink flush wasn t working properl...</td>\n",
       "      <td>138</td>\n",
       "      <td>2500</td>\n",
       "      <td>We ve had a room with sea view and was lovely...</td>\n",
       "      <td>48</td>\n",
       "      <td>8</td>\n",
       "      <td>7.5</td>\n",
       "      <td>[Leisure trip ,   Couple ,   Superior Double o...</td>\n",
       "      <td>338 day</td>\n",
       "      <td>41.402362</td>\n",
       "      <td>2.211905</td>\n",
       "      <td>Bathtub and sink flush wasn t working properl...</td>\n",
       "      <td>Spain</td>\n",
       "      <td>201608</td>\n",
       "      <td>8</td>\n",
       "      <td>Leisure trip</td>\n",
       "    </tr>\n",
       "    <tr>\n",
       "      <th>1</th>\n",
       "      <td>Prins Hendrikkade 59 72 Amsterdam City Center ...</td>\n",
       "      <td>493</td>\n",
       "      <td>12/8/2016</td>\n",
       "      <td>8.6</td>\n",
       "      <td>NH Collection Amsterdam Barbizon Palace</td>\n",
       "      <td>Gabon</td>\n",
       "      <td>The bedroom was tight and very small They exp...</td>\n",
       "      <td>23</td>\n",
       "      <td>2865</td>\n",
       "      <td>To be near to the main train station</td>\n",
       "      <td>9</td>\n",
       "      <td>3</td>\n",
       "      <td>5.4</td>\n",
       "      <td>[Business trip ,   Group ,   Premium Double or...</td>\n",
       "      <td>238 day</td>\n",
       "      <td>52.376418</td>\n",
       "      <td>4.900220</td>\n",
       "      <td>The bedroom was tight and very small They exp...</td>\n",
       "      <td>Netherlands</td>\n",
       "      <td>201612</td>\n",
       "      <td>12</td>\n",
       "      <td>Business trip</td>\n",
       "    </tr>\n",
       "    <tr>\n",
       "      <th>2</th>\n",
       "      <td>Bryanston Street Marble Arch Westminster Borou...</td>\n",
       "      <td>908</td>\n",
       "      <td>2/16/2016</td>\n",
       "      <td>8.5</td>\n",
       "      <td>Amba Hotel Marble Arch</td>\n",
       "      <td>United Kingdom</td>\n",
       "      <td>No Negative</td>\n",
       "      <td>0</td>\n",
       "      <td>3980</td>\n",
       "      <td>Great to have ipads in the room and the break...</td>\n",
       "      <td>13</td>\n",
       "      <td>8</td>\n",
       "      <td>9.2</td>\n",
       "      <td>[Leisure trip ,   Couple ,   Standard Double R...</td>\n",
       "      <td>534 day</td>\n",
       "      <td>51.514400</td>\n",
       "      <td>-0.156551</td>\n",
       "      <td>Great to have ipads in the room and the break...</td>\n",
       "      <td>United Kingdom</td>\n",
       "      <td>201602</td>\n",
       "      <td>2</td>\n",
       "      <td>Leisure trip</td>\n",
       "    </tr>\n",
       "    <tr>\n",
       "      <th>3</th>\n",
       "      <td>6 rue Balzac 8th arr 75008 Paris France</td>\n",
       "      <td>117</td>\n",
       "      <td>7/8/2017</td>\n",
       "      <td>8.3</td>\n",
       "      <td>H tel Balzac</td>\n",
       "      <td>Pakistan</td>\n",
       "      <td>There was only one small issue with the room ...</td>\n",
       "      <td>47</td>\n",
       "      <td>694</td>\n",
       "      <td>The location was excellent It was off the Cha...</td>\n",
       "      <td>79</td>\n",
       "      <td>1</td>\n",
       "      <td>9.2</td>\n",
       "      <td>[Leisure trip ,   Couple ,   Superior Double R...</td>\n",
       "      <td>26 days</td>\n",
       "      <td>48.873278</td>\n",
       "      <td>2.300417</td>\n",
       "      <td>There was only one small issue with the room ...</td>\n",
       "      <td>France</td>\n",
       "      <td>201707</td>\n",
       "      <td>7</td>\n",
       "      <td>Leisure trip</td>\n",
       "    </tr>\n",
       "    <tr>\n",
       "      <th>4</th>\n",
       "      <td>16 22 Great Russell Street Camden London WC1B ...</td>\n",
       "      <td>300</td>\n",
       "      <td>3/26/2016</td>\n",
       "      <td>9.0</td>\n",
       "      <td>The Bloomsbury Hotel</td>\n",
       "      <td>United Kingdom</td>\n",
       "      <td>Price of breakfast was high We went to an ama...</td>\n",
       "      <td>68</td>\n",
       "      <td>1254</td>\n",
       "      <td>Amazing location and quality of hotel Being c...</td>\n",
       "      <td>25</td>\n",
       "      <td>1</td>\n",
       "      <td>9.6</td>\n",
       "      <td>[Leisure trip ,   Couple ,   Superior Double R...</td>\n",
       "      <td>495 day</td>\n",
       "      <td>51.517167</td>\n",
       "      <td>-0.129053</td>\n",
       "      <td>Price of breakfast was high We went to an ama...</td>\n",
       "      <td>United Kingdom</td>\n",
       "      <td>201603</td>\n",
       "      <td>3</td>\n",
       "      <td>Leisure trip</td>\n",
       "    </tr>\n",
       "  </tbody>\n",
       "</table>\n",
       "</div>"
      ],
      "text/plain": [
       "                                       Hotel_Address  ...           Trip\n",
       "0  Paseo Garc a Faria 37 47 Sant Mart 08019 Barce...  ...   Leisure trip\n",
       "1  Prins Hendrikkade 59 72 Amsterdam City Center ...  ...  Business trip\n",
       "2  Bryanston Street Marble Arch Westminster Borou...  ...   Leisure trip\n",
       "3            6 rue Balzac 8th arr 75008 Paris France  ...   Leisure trip\n",
       "4  16 22 Great Russell Street Camden London WC1B ...  ...   Leisure trip\n",
       "\n",
       "[5 rows x 22 columns]"
      ]
     },
     "execution_count": 24,
     "metadata": {
      "tags": []
     },
     "output_type": "execute_result"
    }
   ],
   "source": [
    "df2.head()"
   ]
  },
  {
   "cell_type": "code",
   "execution_count": null,
   "metadata": {
    "id": "rqPGyJkOUXsf"
   },
   "outputs": [],
   "source": [
    "#Extracting the no of stayed nights from the Tags column into the new column named 'Satyed_nights'\n",
    "import re\n",
    "def tag_nights(x):\n",
    "    if ('night' in x) or ('nights' in x):\n",
    "        t = re.search(r'\\d\\snight\\D?',str(x)).span()\n",
    "        return int(x[t[0]:t[0]+1])   #t[0]:t[0]+1\n",
    "    else:\n",
    "        return 0"
   ]
  },
  {
   "cell_type": "code",
   "execution_count": null,
   "metadata": {
    "colab": {
     "base_uri": "https://localhost:8080/"
    },
    "id": "oaFBRq2SV5a4",
    "outputId": "6ba8ca7c-7ca6-4731-fa8e-fe4b60427d8f"
   },
   "outputs": [
    {
     "data": {
      "text/plain": [
       "list"
      ]
     },
     "execution_count": 26,
     "metadata": {
      "tags": []
     },
     "output_type": "execute_result"
    }
   ],
   "source": [
    "type(df2['Tags'][0])"
   ]
  },
  {
   "cell_type": "code",
   "execution_count": null,
   "metadata": {
    "colab": {
     "base_uri": "https://localhost:8080/"
    },
    "id": "vzQ-6hErUq88",
    "outputId": "28ac59fe-b60e-4748-cc08-1a5fda61f0fc"
   },
   "outputs": [
    {
     "name": "stderr",
     "output_type": "stream",
     "text": [
      "/usr/local/lib/python3.6/dist-packages/ipykernel_launcher.py:3: SettingWithCopyWarning: \n",
      "A value is trying to be set on a copy of a slice from a DataFrame\n",
      "\n",
      "See the caveats in the documentation: https://pandas.pydata.org/pandas-docs/stable/user_guide/indexing.html#returning-a-view-versus-a-copy\n",
      "  This is separate from the ipykernel package so we can avoid doing imports until\n"
     ]
    }
   ],
   "source": [
    "df2['Stayed nights'] = df2['Tags']\n",
    "for i in range(0,len(df2)):\n",
    "    df2['Stayed nights'][i] = tag_nights(str(df2['Tags'][i]))"
   ]
  },
  {
   "cell_type": "code",
   "execution_count": null,
   "metadata": {
    "colab": {
     "base_uri": "https://localhost:8080/",
     "height": 702
    },
    "id": "u9qHnF_QVW9d",
    "outputId": "20f98980-d488-45c8-d071-d09413a57b91"
   },
   "outputs": [
    {
     "data": {
      "text/html": [
       "<div>\n",
       "<style scoped>\n",
       "    .dataframe tbody tr th:only-of-type {\n",
       "        vertical-align: middle;\n",
       "    }\n",
       "\n",
       "    .dataframe tbody tr th {\n",
       "        vertical-align: top;\n",
       "    }\n",
       "\n",
       "    .dataframe thead th {\n",
       "        text-align: right;\n",
       "    }\n",
       "</style>\n",
       "<table border=\"1\" class=\"dataframe\">\n",
       "  <thead>\n",
       "    <tr style=\"text-align: right;\">\n",
       "      <th></th>\n",
       "      <th>Hotel_Address</th>\n",
       "      <th>Additional_Number_of_Scoring</th>\n",
       "      <th>Review_Date</th>\n",
       "      <th>Average_Score</th>\n",
       "      <th>Hotel_Name</th>\n",
       "      <th>Reviewer_Nationality</th>\n",
       "      <th>Negative_Review</th>\n",
       "      <th>Review_Total_Negative_Word_Counts</th>\n",
       "      <th>Total_Number_of_Reviews</th>\n",
       "      <th>Positive_Review</th>\n",
       "      <th>Review_Total_Positive_Word_Counts</th>\n",
       "      <th>Total_Number_of_Reviews_Reviewer_Has_Given</th>\n",
       "      <th>Reviewer_Score</th>\n",
       "      <th>Tags</th>\n",
       "      <th>days_since_review</th>\n",
       "      <th>lat</th>\n",
       "      <th>lng</th>\n",
       "      <th>reviews</th>\n",
       "      <th>Hotel_Country</th>\n",
       "      <th>year_Month</th>\n",
       "      <th>review_month</th>\n",
       "      <th>Trip</th>\n",
       "      <th>Stayed nights</th>\n",
       "    </tr>\n",
       "  </thead>\n",
       "  <tbody>\n",
       "    <tr>\n",
       "      <th>0</th>\n",
       "      <td>Paseo Garc a Faria 37 47 Sant Mart 08019 Barce...</td>\n",
       "      <td>241</td>\n",
       "      <td>8/30/2016</td>\n",
       "      <td>8.2</td>\n",
       "      <td>Occidental Atenea Mar Adults Only</td>\n",
       "      <td>Italy</td>\n",
       "      <td>Bathtub and sink flush wasn t working properl...</td>\n",
       "      <td>138</td>\n",
       "      <td>2500</td>\n",
       "      <td>We ve had a room with sea view and was lovely...</td>\n",
       "      <td>48</td>\n",
       "      <td>8</td>\n",
       "      <td>7.5</td>\n",
       "      <td>[Leisure trip ,   Couple ,   Superior Double o...</td>\n",
       "      <td>338 day</td>\n",
       "      <td>41.402362</td>\n",
       "      <td>2.211905</td>\n",
       "      <td>Bathtub and sink flush wasn t working properl...</td>\n",
       "      <td>Spain</td>\n",
       "      <td>201608</td>\n",
       "      <td>8</td>\n",
       "      <td>Leisure trip</td>\n",
       "      <td>6</td>\n",
       "    </tr>\n",
       "    <tr>\n",
       "      <th>1</th>\n",
       "      <td>Prins Hendrikkade 59 72 Amsterdam City Center ...</td>\n",
       "      <td>493</td>\n",
       "      <td>12/8/2016</td>\n",
       "      <td>8.6</td>\n",
       "      <td>NH Collection Amsterdam Barbizon Palace</td>\n",
       "      <td>Gabon</td>\n",
       "      <td>The bedroom was tight and very small They exp...</td>\n",
       "      <td>23</td>\n",
       "      <td>2865</td>\n",
       "      <td>To be near to the main train station</td>\n",
       "      <td>9</td>\n",
       "      <td>3</td>\n",
       "      <td>5.4</td>\n",
       "      <td>[Business trip ,   Group ,   Premium Double or...</td>\n",
       "      <td>238 day</td>\n",
       "      <td>52.376418</td>\n",
       "      <td>4.900220</td>\n",
       "      <td>The bedroom was tight and very small They exp...</td>\n",
       "      <td>Netherlands</td>\n",
       "      <td>201612</td>\n",
       "      <td>12</td>\n",
       "      <td>Business trip</td>\n",
       "      <td>2</td>\n",
       "    </tr>\n",
       "    <tr>\n",
       "      <th>2</th>\n",
       "      <td>Bryanston Street Marble Arch Westminster Borou...</td>\n",
       "      <td>908</td>\n",
       "      <td>2/16/2016</td>\n",
       "      <td>8.5</td>\n",
       "      <td>Amba Hotel Marble Arch</td>\n",
       "      <td>United Kingdom</td>\n",
       "      <td>No Negative</td>\n",
       "      <td>0</td>\n",
       "      <td>3980</td>\n",
       "      <td>Great to have ipads in the room and the break...</td>\n",
       "      <td>13</td>\n",
       "      <td>8</td>\n",
       "      <td>9.2</td>\n",
       "      <td>[Leisure trip ,   Couple ,   Standard Double R...</td>\n",
       "      <td>534 day</td>\n",
       "      <td>51.514400</td>\n",
       "      <td>-0.156551</td>\n",
       "      <td>Great to have ipads in the room and the break...</td>\n",
       "      <td>United Kingdom</td>\n",
       "      <td>201602</td>\n",
       "      <td>2</td>\n",
       "      <td>Leisure trip</td>\n",
       "      <td>1</td>\n",
       "    </tr>\n",
       "    <tr>\n",
       "      <th>3</th>\n",
       "      <td>6 rue Balzac 8th arr 75008 Paris France</td>\n",
       "      <td>117</td>\n",
       "      <td>7/8/2017</td>\n",
       "      <td>8.3</td>\n",
       "      <td>H tel Balzac</td>\n",
       "      <td>Pakistan</td>\n",
       "      <td>There was only one small issue with the room ...</td>\n",
       "      <td>47</td>\n",
       "      <td>694</td>\n",
       "      <td>The location was excellent It was off the Cha...</td>\n",
       "      <td>79</td>\n",
       "      <td>1</td>\n",
       "      <td>9.2</td>\n",
       "      <td>[Leisure trip ,   Couple ,   Superior Double R...</td>\n",
       "      <td>26 days</td>\n",
       "      <td>48.873278</td>\n",
       "      <td>2.300417</td>\n",
       "      <td>There was only one small issue with the room ...</td>\n",
       "      <td>France</td>\n",
       "      <td>201707</td>\n",
       "      <td>7</td>\n",
       "      <td>Leisure trip</td>\n",
       "      <td>6</td>\n",
       "    </tr>\n",
       "    <tr>\n",
       "      <th>4</th>\n",
       "      <td>16 22 Great Russell Street Camden London WC1B ...</td>\n",
       "      <td>300</td>\n",
       "      <td>3/26/2016</td>\n",
       "      <td>9.0</td>\n",
       "      <td>The Bloomsbury Hotel</td>\n",
       "      <td>United Kingdom</td>\n",
       "      <td>Price of breakfast was high We went to an ama...</td>\n",
       "      <td>68</td>\n",
       "      <td>1254</td>\n",
       "      <td>Amazing location and quality of hotel Being c...</td>\n",
       "      <td>25</td>\n",
       "      <td>1</td>\n",
       "      <td>9.6</td>\n",
       "      <td>[Leisure trip ,   Couple ,   Superior Double R...</td>\n",
       "      <td>495 day</td>\n",
       "      <td>51.517167</td>\n",
       "      <td>-0.129053</td>\n",
       "      <td>Price of breakfast was high We went to an ama...</td>\n",
       "      <td>United Kingdom</td>\n",
       "      <td>201603</td>\n",
       "      <td>3</td>\n",
       "      <td>Leisure trip</td>\n",
       "      <td>1</td>\n",
       "    </tr>\n",
       "  </tbody>\n",
       "</table>\n",
       "</div>"
      ],
      "text/plain": [
       "                                       Hotel_Address  ...  Stayed nights\n",
       "0  Paseo Garc a Faria 37 47 Sant Mart 08019 Barce...  ...              6\n",
       "1  Prins Hendrikkade 59 72 Amsterdam City Center ...  ...              2\n",
       "2  Bryanston Street Marble Arch Westminster Borou...  ...              1\n",
       "3            6 rue Balzac 8th arr 75008 Paris France  ...              6\n",
       "4  16 22 Great Russell Street Camden London WC1B ...  ...              1\n",
       "\n",
       "[5 rows x 23 columns]"
      ]
     },
     "execution_count": 28,
     "metadata": {
      "tags": []
     },
     "output_type": "execute_result"
    }
   ],
   "source": [
    "df2.head()"
   ]
  },
  {
   "cell_type": "code",
   "execution_count": null,
   "metadata": {
    "id": "CtA7WUaPVdoF"
   },
   "outputs": [],
   "source": [
    "#Extracting the year from the Review date and creating the new column as 'yr'\n",
    "\n",
    "df2['yr']=pd.Series(yr).astype(int)"
   ]
  },
  {
   "cell_type": "code",
   "execution_count": null,
   "metadata": {
    "colab": {
     "base_uri": "https://localhost:8080/"
    },
    "id": "-vzXfY0oXfs1",
    "outputId": "878e69aa-2a04-4f87-da0a-da96de3eba54"
   },
   "outputs": [
    {
     "name": "stdout",
     "output_type": "stream",
     "text": [
      "<class 'pandas.core.frame.DataFrame'>\n",
      "RangeIndex: 49677 entries, 0 to 49676\n",
      "Data columns (total 24 columns):\n",
      " #   Column                                      Non-Null Count  Dtype  \n",
      "---  ------                                      --------------  -----  \n",
      " 0   Hotel_Address                               49677 non-null  object \n",
      " 1   Additional_Number_of_Scoring                49677 non-null  int64  \n",
      " 2   Review_Date                                 49677 non-null  object \n",
      " 3   Average_Score                               49677 non-null  float64\n",
      " 4   Hotel_Name                                  49677 non-null  object \n",
      " 5   Reviewer_Nationality                        49677 non-null  object \n",
      " 6   Negative_Review                             49677 non-null  object \n",
      " 7   Review_Total_Negative_Word_Counts           49677 non-null  int64  \n",
      " 8   Total_Number_of_Reviews                     49677 non-null  int64  \n",
      " 9   Positive_Review                             49677 non-null  object \n",
      " 10  Review_Total_Positive_Word_Counts           49677 non-null  int64  \n",
      " 11  Total_Number_of_Reviews_Reviewer_Has_Given  49677 non-null  int64  \n",
      " 12  Reviewer_Score                              49677 non-null  float64\n",
      " 13  Tags                                        49677 non-null  object \n",
      " 14  days_since_review                           49677 non-null  object \n",
      " 15  lat                                         49677 non-null  float64\n",
      " 16  lng                                         49677 non-null  float64\n",
      " 17  reviews                                     49677 non-null  object \n",
      " 18  Hotel_Country                               49677 non-null  object \n",
      " 19  year_Month                                  49677 non-null  object \n",
      " 20  review_month                                49677 non-null  int64  \n",
      " 21  Trip                                        49677 non-null  object \n",
      " 22  Stayed nights                               49677 non-null  int64  \n",
      " 23  yr                                          49677 non-null  int64  \n",
      "dtypes: float64(4), int64(8), object(12)\n",
      "memory usage: 9.1+ MB\n"
     ]
    }
   ],
   "source": [
    "df2['review_month'] = df2['review_month'].astype(int)\n",
    "df2['Stayed nights'] = df2['Stayed nights'].astype(int)\n",
    "df2.info()"
   ]
  },
  {
   "cell_type": "code",
   "execution_count": null,
   "metadata": {
    "id": "AP905NDhXmy2"
   },
   "outputs": [],
   "source": [
    "#having Nan values in the Trip column hence replace it with others i.e Leisure trip,Business Trip and others\n",
    "df2['Trip'] = df2['Trip'].replace('Nan','Others')\n"
   ]
  },
  {
   "cell_type": "code",
   "execution_count": null,
   "metadata": {
    "colab": {
     "base_uri": "https://localhost:8080/"
    },
    "id": "z9ieAfXpYOxM",
    "outputId": "ebb9cd59-09d8-4a9f-c63f-f561bfa32fc6"
   },
   "outputs": [
    {
     "data": {
      "text/plain": [
       "Leisure trip     40280\n",
       "Business trip     7952\n",
       "Others            1445\n",
       "Name: Trip, dtype: int64"
      ]
     },
     "execution_count": 32,
     "metadata": {
      "tags": []
     },
     "output_type": "execute_result"
    }
   ],
   "source": [
    "df2.Trip.value_counts()"
   ]
  },
  {
   "cell_type": "code",
   "execution_count": null,
   "metadata": {
    "colab": {
     "base_uri": "https://localhost:8080/"
    },
    "id": "1_Y46fcQYV8M",
    "outputId": "484fc359-6a92-48ce-b93f-cbee3f4eb888"
   },
   "outputs": [
    {
     "data": {
      "text/plain": [
       "Hotel_Address                                 0\n",
       "Additional_Number_of_Scoring                  0\n",
       "Review_Date                                   0\n",
       "Average_Score                                 0\n",
       "Hotel_Name                                    0\n",
       "Reviewer_Nationality                          0\n",
       "Negative_Review                               0\n",
       "Review_Total_Negative_Word_Counts             0\n",
       "Total_Number_of_Reviews                       0\n",
       "Positive_Review                               0\n",
       "Review_Total_Positive_Word_Counts             0\n",
       "Total_Number_of_Reviews_Reviewer_Has_Given    0\n",
       "Reviewer_Score                                0\n",
       "Tags                                          0\n",
       "days_since_review                             0\n",
       "lat                                           0\n",
       "lng                                           0\n",
       "reviews                                       0\n",
       "Hotel_Country                                 0\n",
       "year_Month                                    0\n",
       "review_month                                  0\n",
       "Trip                                          0\n",
       "Stayed nights                                 0\n",
       "yr                                            0\n",
       "dtype: int64"
      ]
     },
     "execution_count": 33,
     "metadata": {
      "tags": []
     },
     "output_type": "execute_result"
    }
   ],
   "source": [
    "df2.isnull().sum()\n",
    "#no null values "
   ]
  },
  {
   "cell_type": "code",
   "execution_count": null,
   "metadata": {
    "colab": {
     "base_uri": "https://localhost:8080/",
     "height": 702
    },
    "id": "rzTBf2tOY2Fp",
    "outputId": "64df5663-f2b2-46b5-fb18-7a1460bcc35a"
   },
   "outputs": [
    {
     "data": {
      "text/html": [
       "<div>\n",
       "<style scoped>\n",
       "    .dataframe tbody tr th:only-of-type {\n",
       "        vertical-align: middle;\n",
       "    }\n",
       "\n",
       "    .dataframe tbody tr th {\n",
       "        vertical-align: top;\n",
       "    }\n",
       "\n",
       "    .dataframe thead th {\n",
       "        text-align: right;\n",
       "    }\n",
       "</style>\n",
       "<table border=\"1\" class=\"dataframe\">\n",
       "  <thead>\n",
       "    <tr style=\"text-align: right;\">\n",
       "      <th></th>\n",
       "      <th>Hotel_Address</th>\n",
       "      <th>Additional_Number_of_Scoring</th>\n",
       "      <th>Review_Date</th>\n",
       "      <th>Average_Score</th>\n",
       "      <th>Hotel_Name</th>\n",
       "      <th>Reviewer_Nationality</th>\n",
       "      <th>Negative_Review</th>\n",
       "      <th>Review_Total_Negative_Word_Counts</th>\n",
       "      <th>Total_Number_of_Reviews</th>\n",
       "      <th>Positive_Review</th>\n",
       "      <th>Review_Total_Positive_Word_Counts</th>\n",
       "      <th>Total_Number_of_Reviews_Reviewer_Has_Given</th>\n",
       "      <th>Reviewer_Score</th>\n",
       "      <th>Tags</th>\n",
       "      <th>days_since_review</th>\n",
       "      <th>lat</th>\n",
       "      <th>lng</th>\n",
       "      <th>reviews</th>\n",
       "      <th>Hotel_Country</th>\n",
       "      <th>year_Month</th>\n",
       "      <th>review_month</th>\n",
       "      <th>Trip</th>\n",
       "      <th>Stayed nights</th>\n",
       "      <th>yr</th>\n",
       "    </tr>\n",
       "  </thead>\n",
       "  <tbody>\n",
       "    <tr>\n",
       "      <th>0</th>\n",
       "      <td>Paseo Garc a Faria 37 47 Sant Mart 08019 Barce...</td>\n",
       "      <td>241</td>\n",
       "      <td>8/30/2016</td>\n",
       "      <td>8.2</td>\n",
       "      <td>Occidental Atenea Mar Adults Only</td>\n",
       "      <td>Italy</td>\n",
       "      <td>Bathtub and sink flush wasn t working properl...</td>\n",
       "      <td>138</td>\n",
       "      <td>2500</td>\n",
       "      <td>We ve had a room with sea view and was lovely...</td>\n",
       "      <td>48</td>\n",
       "      <td>8</td>\n",
       "      <td>7.5</td>\n",
       "      <td>[Leisure trip ,   Couple ,   Superior Double o...</td>\n",
       "      <td>338 day</td>\n",
       "      <td>41.402362</td>\n",
       "      <td>2.211905</td>\n",
       "      <td>Bathtub and sink flush wasn t working properl...</td>\n",
       "      <td>Spain</td>\n",
       "      <td>201608</td>\n",
       "      <td>8</td>\n",
       "      <td>Leisure trip</td>\n",
       "      <td>6</td>\n",
       "      <td>2016</td>\n",
       "    </tr>\n",
       "    <tr>\n",
       "      <th>1</th>\n",
       "      <td>Prins Hendrikkade 59 72 Amsterdam City Center ...</td>\n",
       "      <td>493</td>\n",
       "      <td>12/8/2016</td>\n",
       "      <td>8.6</td>\n",
       "      <td>NH Collection Amsterdam Barbizon Palace</td>\n",
       "      <td>Gabon</td>\n",
       "      <td>The bedroom was tight and very small They exp...</td>\n",
       "      <td>23</td>\n",
       "      <td>2865</td>\n",
       "      <td>To be near to the main train station</td>\n",
       "      <td>9</td>\n",
       "      <td>3</td>\n",
       "      <td>5.4</td>\n",
       "      <td>[Business trip ,   Group ,   Premium Double or...</td>\n",
       "      <td>238 day</td>\n",
       "      <td>52.376418</td>\n",
       "      <td>4.900220</td>\n",
       "      <td>The bedroom was tight and very small They exp...</td>\n",
       "      <td>Netherlands</td>\n",
       "      <td>201612</td>\n",
       "      <td>12</td>\n",
       "      <td>Business trip</td>\n",
       "      <td>2</td>\n",
       "      <td>2016</td>\n",
       "    </tr>\n",
       "    <tr>\n",
       "      <th>2</th>\n",
       "      <td>Bryanston Street Marble Arch Westminster Borou...</td>\n",
       "      <td>908</td>\n",
       "      <td>2/16/2016</td>\n",
       "      <td>8.5</td>\n",
       "      <td>Amba Hotel Marble Arch</td>\n",
       "      <td>United Kingdom</td>\n",
       "      <td>No Negative</td>\n",
       "      <td>0</td>\n",
       "      <td>3980</td>\n",
       "      <td>Great to have ipads in the room and the break...</td>\n",
       "      <td>13</td>\n",
       "      <td>8</td>\n",
       "      <td>9.2</td>\n",
       "      <td>[Leisure trip ,   Couple ,   Standard Double R...</td>\n",
       "      <td>534 day</td>\n",
       "      <td>51.514400</td>\n",
       "      <td>-0.156551</td>\n",
       "      <td>Great to have ipads in the room and the break...</td>\n",
       "      <td>United Kingdom</td>\n",
       "      <td>201602</td>\n",
       "      <td>2</td>\n",
       "      <td>Leisure trip</td>\n",
       "      <td>1</td>\n",
       "      <td>2016</td>\n",
       "    </tr>\n",
       "    <tr>\n",
       "      <th>3</th>\n",
       "      <td>6 rue Balzac 8th arr 75008 Paris France</td>\n",
       "      <td>117</td>\n",
       "      <td>7/8/2017</td>\n",
       "      <td>8.3</td>\n",
       "      <td>H tel Balzac</td>\n",
       "      <td>Pakistan</td>\n",
       "      <td>There was only one small issue with the room ...</td>\n",
       "      <td>47</td>\n",
       "      <td>694</td>\n",
       "      <td>The location was excellent It was off the Cha...</td>\n",
       "      <td>79</td>\n",
       "      <td>1</td>\n",
       "      <td>9.2</td>\n",
       "      <td>[Leisure trip ,   Couple ,   Superior Double R...</td>\n",
       "      <td>26 days</td>\n",
       "      <td>48.873278</td>\n",
       "      <td>2.300417</td>\n",
       "      <td>There was only one small issue with the room ...</td>\n",
       "      <td>France</td>\n",
       "      <td>201707</td>\n",
       "      <td>7</td>\n",
       "      <td>Leisure trip</td>\n",
       "      <td>6</td>\n",
       "      <td>2017</td>\n",
       "    </tr>\n",
       "    <tr>\n",
       "      <th>4</th>\n",
       "      <td>16 22 Great Russell Street Camden London WC1B ...</td>\n",
       "      <td>300</td>\n",
       "      <td>3/26/2016</td>\n",
       "      <td>9.0</td>\n",
       "      <td>The Bloomsbury Hotel</td>\n",
       "      <td>United Kingdom</td>\n",
       "      <td>Price of breakfast was high We went to an ama...</td>\n",
       "      <td>68</td>\n",
       "      <td>1254</td>\n",
       "      <td>Amazing location and quality of hotel Being c...</td>\n",
       "      <td>25</td>\n",
       "      <td>1</td>\n",
       "      <td>9.6</td>\n",
       "      <td>[Leisure trip ,   Couple ,   Superior Double R...</td>\n",
       "      <td>495 day</td>\n",
       "      <td>51.517167</td>\n",
       "      <td>-0.129053</td>\n",
       "      <td>Price of breakfast was high We went to an ama...</td>\n",
       "      <td>United Kingdom</td>\n",
       "      <td>201603</td>\n",
       "      <td>3</td>\n",
       "      <td>Leisure trip</td>\n",
       "      <td>1</td>\n",
       "      <td>2016</td>\n",
       "    </tr>\n",
       "  </tbody>\n",
       "</table>\n",
       "</div>"
      ],
      "text/plain": [
       "                                       Hotel_Address  ...    yr\n",
       "0  Paseo Garc a Faria 37 47 Sant Mart 08019 Barce...  ...  2016\n",
       "1  Prins Hendrikkade 59 72 Amsterdam City Center ...  ...  2016\n",
       "2  Bryanston Street Marble Arch Westminster Borou...  ...  2016\n",
       "3            6 rue Balzac 8th arr 75008 Paris France  ...  2017\n",
       "4  16 22 Great Russell Street Camden London WC1B ...  ...  2016\n",
       "\n",
       "[5 rows x 24 columns]"
      ]
     },
     "execution_count": 34,
     "metadata": {
      "tags": []
     },
     "output_type": "execute_result"
    }
   ],
   "source": [
    "df2.head(5)"
   ]
  },
  {
   "cell_type": "code",
   "execution_count": null,
   "metadata": {
    "colab": {
     "base_uri": "https://localhost:8080/",
     "height": 138
    },
    "id": "impm3kDZiUEm",
    "outputId": "72be209e-5797-4403-e1bf-93f59a616dce"
   },
   "outputs": [
    {
     "data": {
      "application/vnd.google.colaboratory.intrinsic+json": {
       "type": "string"
      },
      "text/plain": [
       "' Bathtub and sink flush wasn t working properly even if we told the reception The second day they removed the hand soap and didn t replaced it until we told the reception on the fourth day Cleaning ladies forgot to clean our room once even if we left every morning at 10 30am Swimming pool sun chairs are not free 20 each A bit expensive imho considering you can have 2 sun chairs and one umbrella for 30 on the beach Same for hotel bike rent 15 for 2hrs is way too much when you can rent a bicycle for 6 per day in Barcelona centre Overall Barcelona has got a general drainage issue and sometimes the whole area gets quite smelly and hotel rooms too Not their fault but the hotel management should consider it  We ve had a room with sea view and was lovely The location is great if you want to go to the beach everyday and stay away from the crowd of Barcelona centre Mattresses really comfy on big beds The hotel is quite modern and stylish '"
      ]
     },
     "execution_count": 35,
     "metadata": {
      "tags": []
     },
     "output_type": "execute_result"
    }
   ],
   "source": [
    "df2['reviews'][0]   #stopwords ('wasn','didn')"
   ]
  },
  {
   "cell_type": "code",
   "execution_count": null,
   "metadata": {
    "id": "I1mwN3lhbpbS"
   },
   "outputs": [],
   "source": [
    "# import nltk\n",
    "# nltk.download('wordnet')\n",
    "# nltk.download('punkt')\n",
    "# from nltk.stem import WordNetLemmatizer\n",
    "# from nltk.corpus import stopwords"
   ]
  },
  {
   "cell_type": "code",
   "execution_count": null,
   "metadata": {
    "id": "unNx8cClhj6w"
   },
   "outputs": [],
   "source": [
    "# nltk.word_tokenize(\"mightn't\")"
   ]
  },
  {
   "cell_type": "code",
   "execution_count": null,
   "metadata": {
    "id": "tWHWAT_1eD4B"
   },
   "outputs": [],
   "source": [
    "# lem = WordNetLemmatizer()\n",
    "# lem.lemmatize('wasnt')"
   ]
  },
  {
   "cell_type": "code",
   "execution_count": null,
   "metadata": {
    "id": "MVPKcD85eRPu"
   },
   "outputs": [],
   "source": [
    "# nltk.download('stopwords')\n",
    "# stopwords.words('english')    "
   ]
  },
  {
   "cell_type": "code",
   "execution_count": null,
   "metadata": {
    "id": "bTwfdL5ZHKvP"
   },
   "outputs": [],
   "source": [
    "# df2['reviews'][0].strip().split()"
   ]
  },
  {
   "cell_type": "code",
   "execution_count": null,
   "metadata": {
    "id": "MY4J8GZMe_SZ"
   },
   "outputs": [],
   "source": [
    "# st = df['reviews'][0].strip().split()\n",
    "# update = []\n",
    "# for word in st:\n",
    "#   if word  in ['wasn','didn','don' ,'wouldn','weren']:\n",
    "#     # st.replace(word,word[:-1]+' not')\n",
    "#     word = word[:-1]+' not'\n",
    "#     update.append(word)\n",
    "#   else:\n",
    "#     update.append(word)\n",
    "\n",
    "# update"
   ]
  },
  {
   "cell_type": "code",
   "execution_count": null,
   "metadata": {
    "id": "o7GrDq4uBvyE"
   },
   "outputs": [],
   "source": [
    "#replacing the no in the reviews columns:\n",
    "import re"
   ]
  },
  {
   "cell_type": "code",
   "execution_count": null,
   "metadata": {
    "id": "mkTLH4YaP2zS"
   },
   "outputs": [],
   "source": [
    "# this function is used to preprocess the some of the stopwords for ex: converting the 'wasn' to 'was not' (to retain the meaning of the words in the reviews )\n",
    "def text_stopwords__process(x):\n",
    "  s = ['don','aren','couldn','didn','doesn','hadn','hasn','haven','isn','mightn','mustn','needn','shouldn','wasn','weren','won','wouldn']\n",
    "  rev_list = []\n",
    "  st = re.sub('[^a-zA-Z]',' ',x)\n",
    "  st = st.lower()\n",
    "  st = st.strip().split()\n",
    "  update = ''\n",
    "  for word in st:\n",
    "    if word  in s:\n",
    "      word = word[:-1]+' not'\n",
    "      update = update+' '+word\n",
    "    else:\n",
    "     update = update+' '+word\n",
    "  rev_list.append(update.strip())\n",
    "  return rev_list"
   ]
  },
  {
   "cell_type": "code",
   "execution_count": null,
   "metadata": {
    "id": "cjvd-xvjn793"
   },
   "outputs": [],
   "source": [
    "\n",
    "# s = ['don','aren','couldn','didn','doesn','hadn','hasn','haven','isn','mightn','mustn','needn','shouldn','wasn','weren','won','wouldn']\n",
    "# rev_list = []\n",
    "# for st in df2['reviews']:\n",
    "#   st = re.sub('[^a-zA-Z]',' ',st)\n",
    "#   st = st.lower()\n",
    "#   st = st.strip().split()\n",
    "#   update = ''\n",
    "#   for word in st:\n",
    "#     if word  in s:\n",
    "#       word = word[:-1]+' not'\n",
    "#       # update.join(word)\n",
    "#       update = update+' '+word\n",
    "#     else:\n",
    "#       update = update+' '+word\n",
    "  \n",
    "#   rev_list.append(update.strip())\n"
   ]
  },
  {
   "cell_type": "code",
   "execution_count": null,
   "metadata": {
    "id": "CwXT7Vq3OeFi"
   },
   "outputs": [],
   "source": [
    "df2['test_reviews'] = df2['reviews'].apply(lambda x : text_stopwords__process(x))\n",
    "df2['test_positive_review'] = df2['Positive_Review'].apply(lambda x: text_stopwords__process(x))\n",
    "df2['test_negative_review'] = df2['Negative_Review'].apply(lambda x: text_stopwords__process(x))"
   ]
  },
  {
   "cell_type": "code",
   "execution_count": null,
   "metadata": {
    "colab": {
     "base_uri": "https://localhost:8080/",
     "height": 202
    },
    "id": "6vEXUnR5PVOM",
    "outputId": "9909d2ba-81e4-479a-e364-1ee762ea5a64"
   },
   "outputs": [
    {
     "data": {
      "text/html": [
       "<div>\n",
       "<style scoped>\n",
       "    .dataframe tbody tr th:only-of-type {\n",
       "        vertical-align: middle;\n",
       "    }\n",
       "\n",
       "    .dataframe tbody tr th {\n",
       "        vertical-align: top;\n",
       "    }\n",
       "\n",
       "    .dataframe thead th {\n",
       "        text-align: right;\n",
       "    }\n",
       "</style>\n",
       "<table border=\"1\" class=\"dataframe\">\n",
       "  <thead>\n",
       "    <tr style=\"text-align: right;\">\n",
       "      <th></th>\n",
       "      <th>Hotel_Address</th>\n",
       "      <th>Additional_Number_of_Scoring</th>\n",
       "      <th>Review_Date</th>\n",
       "      <th>Average_Score</th>\n",
       "      <th>Hotel_Name</th>\n",
       "      <th>Reviewer_Nationality</th>\n",
       "      <th>Negative_Review</th>\n",
       "      <th>Review_Total_Negative_Word_Counts</th>\n",
       "      <th>Total_Number_of_Reviews</th>\n",
       "      <th>Positive_Review</th>\n",
       "      <th>Review_Total_Positive_Word_Counts</th>\n",
       "      <th>Total_Number_of_Reviews_Reviewer_Has_Given</th>\n",
       "      <th>Reviewer_Score</th>\n",
       "      <th>Tags</th>\n",
       "      <th>days_since_review</th>\n",
       "      <th>lat</th>\n",
       "      <th>lng</th>\n",
       "      <th>reviews</th>\n",
       "      <th>Hotel_Country</th>\n",
       "      <th>year_Month</th>\n",
       "      <th>review_month</th>\n",
       "      <th>Trip</th>\n",
       "      <th>Stayed nights</th>\n",
       "      <th>yr</th>\n",
       "      <th>test_reviews</th>\n",
       "      <th>test_positive_review</th>\n",
       "      <th>test_negative_review</th>\n",
       "    </tr>\n",
       "  </thead>\n",
       "  <tbody>\n",
       "    <tr>\n",
       "      <th>0</th>\n",
       "      <td>Paseo Garc a Faria 37 47 Sant Mart 08019 Barce...</td>\n",
       "      <td>241</td>\n",
       "      <td>8/30/2016</td>\n",
       "      <td>8.2</td>\n",
       "      <td>Occidental Atenea Mar Adults Only</td>\n",
       "      <td>Italy</td>\n",
       "      <td>Bathtub and sink flush wasn t working properl...</td>\n",
       "      <td>138</td>\n",
       "      <td>2500</td>\n",
       "      <td>We ve had a room with sea view and was lovely...</td>\n",
       "      <td>48</td>\n",
       "      <td>8</td>\n",
       "      <td>7.5</td>\n",
       "      <td>[Leisure trip ,   Couple ,   Superior Double o...</td>\n",
       "      <td>338 day</td>\n",
       "      <td>41.402362</td>\n",
       "      <td>2.211905</td>\n",
       "      <td>Bathtub and sink flush wasn t working properl...</td>\n",
       "      <td>Spain</td>\n",
       "      <td>201608</td>\n",
       "      <td>8</td>\n",
       "      <td>Leisure trip</td>\n",
       "      <td>6</td>\n",
       "      <td>2016</td>\n",
       "      <td>[bathtub and sink flush was not t working prop...</td>\n",
       "      <td>[we ve had a room with sea view and was lovely...</td>\n",
       "      <td>[bathtub and sink flush was not t working prop...</td>\n",
       "    </tr>\n",
       "  </tbody>\n",
       "</table>\n",
       "</div>"
      ],
      "text/plain": [
       "                                       Hotel_Address  ...                               test_negative_review\n",
       "0  Paseo Garc a Faria 37 47 Sant Mart 08019 Barce...  ...  [bathtub and sink flush was not t working prop...\n",
       "\n",
       "[1 rows x 27 columns]"
      ]
     },
     "execution_count": 46,
     "metadata": {
      "tags": []
     },
     "output_type": "execute_result"
    }
   ],
   "source": [
    "df2.head(1)"
   ]
  },
  {
   "cell_type": "markdown",
   "metadata": {
    "id": "6pehVGhZSFRo"
   },
   "source": [
    "Dropping the irrelevant features : <br>\n",
    "1.hotel address :because we have extracted the 'Country' <br>\n",
    "2.Review_Date : extracted the year and month <br>\n",
    "3.lan and log : not much of usefull in analysis of reviews<br>\n",
    "4.positive and negative reviews : done the text preprocees and saved in the new columns<br>\n",
    "5.days_since_review:"
   ]
  },
  {
   "cell_type": "code",
   "execution_count": null,
   "metadata": {
    "id": "6Tl0SI6YQq18"
   },
   "outputs": [],
   "source": [
    "# \n",
    "df_new = df2.drop(['Hotel_Address','Review_Date','Hotel_Name','Reviewer_Nationality','lat', 'lng','Positive_Review','Negative_Review','Tags','days_since_review','year_Month'],axis=1)"
   ]
  },
  {
   "cell_type": "code",
   "execution_count": null,
   "metadata": {
    "id": "7KLX8UKpSc1L"
   },
   "outputs": [],
   "source": [
    "#saving it as new csv file :\n",
    "\n",
    "# processed_data = pd.to_csv('df_new') \n",
    "# df_new.to_csv('processed_data.csv') "
   ]
  },
  {
   "cell_type": "code",
   "execution_count": null,
   "metadata": {
    "id": "ZUp6yNLETM03"
   },
   "outputs": [],
   "source": [
    "#df_new.to_csv(r'/content/drive/My Drive/capstone/processed_data.csv', index=False) "
   ]
  },
  {
   "cell_type": "code",
   "execution_count": null,
   "metadata": {
    "colab": {
     "base_uri": "https://localhost:8080/",
     "height": 702
    },
    "id": "es0MChcXTqm7",
    "outputId": "4c3d81cf-f2f9-4e78-f03e-bb8dc00db8fe"
   },
   "outputs": [
    {
     "data": {
      "text/html": [
       "<div>\n",
       "<style scoped>\n",
       "    .dataframe tbody tr th:only-of-type {\n",
       "        vertical-align: middle;\n",
       "    }\n",
       "\n",
       "    .dataframe tbody tr th {\n",
       "        vertical-align: top;\n",
       "    }\n",
       "\n",
       "    .dataframe thead th {\n",
       "        text-align: right;\n",
       "    }\n",
       "</style>\n",
       "<table border=\"1\" class=\"dataframe\">\n",
       "  <thead>\n",
       "    <tr style=\"text-align: right;\">\n",
       "      <th></th>\n",
       "      <th>Additional_Number_of_Scoring</th>\n",
       "      <th>Average_Score</th>\n",
       "      <th>Review_Total_Negative_Word_Counts</th>\n",
       "      <th>Total_Number_of_Reviews</th>\n",
       "      <th>Review_Total_Positive_Word_Counts</th>\n",
       "      <th>Total_Number_of_Reviews_Reviewer_Has_Given</th>\n",
       "      <th>Reviewer_Score</th>\n",
       "      <th>reviews</th>\n",
       "      <th>Hotel_Country</th>\n",
       "      <th>review_month</th>\n",
       "      <th>Trip</th>\n",
       "      <th>Stayed nights</th>\n",
       "      <th>yr</th>\n",
       "      <th>test_reviews</th>\n",
       "      <th>test_positive_review</th>\n",
       "      <th>test_negative_review</th>\n",
       "    </tr>\n",
       "  </thead>\n",
       "  <tbody>\n",
       "    <tr>\n",
       "      <th>0</th>\n",
       "      <td>241</td>\n",
       "      <td>8.2</td>\n",
       "      <td>138</td>\n",
       "      <td>2500</td>\n",
       "      <td>48</td>\n",
       "      <td>8</td>\n",
       "      <td>7.5</td>\n",
       "      <td>Bathtub and sink flush wasn t working properl...</td>\n",
       "      <td>Spain</td>\n",
       "      <td>8</td>\n",
       "      <td>Leisure trip</td>\n",
       "      <td>6</td>\n",
       "      <td>2016</td>\n",
       "      <td>[bathtub and sink flush was not t working prop...</td>\n",
       "      <td>[we ve had a room with sea view and was lovely...</td>\n",
       "      <td>[bathtub and sink flush was not t working prop...</td>\n",
       "    </tr>\n",
       "    <tr>\n",
       "      <th>1</th>\n",
       "      <td>493</td>\n",
       "      <td>8.6</td>\n",
       "      <td>23</td>\n",
       "      <td>2865</td>\n",
       "      <td>9</td>\n",
       "      <td>3</td>\n",
       "      <td>5.4</td>\n",
       "      <td>The bedroom was tight and very small They exp...</td>\n",
       "      <td>Netherlands</td>\n",
       "      <td>12</td>\n",
       "      <td>Business trip</td>\n",
       "      <td>2</td>\n",
       "      <td>2016</td>\n",
       "      <td>[the bedroom was tight and very small they exp...</td>\n",
       "      <td>[to be near to the main train station]</td>\n",
       "      <td>[the bedroom was tight and very small they exp...</td>\n",
       "    </tr>\n",
       "    <tr>\n",
       "      <th>2</th>\n",
       "      <td>908</td>\n",
       "      <td>8.5</td>\n",
       "      <td>0</td>\n",
       "      <td>3980</td>\n",
       "      <td>13</td>\n",
       "      <td>8</td>\n",
       "      <td>9.2</td>\n",
       "      <td>Great to have ipads in the room and the break...</td>\n",
       "      <td>United Kingdom</td>\n",
       "      <td>2</td>\n",
       "      <td>Leisure trip</td>\n",
       "      <td>1</td>\n",
       "      <td>2016</td>\n",
       "      <td>[great to have ipads in the room and the break...</td>\n",
       "      <td>[great to have ipads in the room and the break...</td>\n",
       "      <td>[no negative]</td>\n",
       "    </tr>\n",
       "    <tr>\n",
       "      <th>3</th>\n",
       "      <td>117</td>\n",
       "      <td>8.3</td>\n",
       "      <td>47</td>\n",
       "      <td>694</td>\n",
       "      <td>79</td>\n",
       "      <td>1</td>\n",
       "      <td>9.2</td>\n",
       "      <td>There was only one small issue with the room ...</td>\n",
       "      <td>France</td>\n",
       "      <td>7</td>\n",
       "      <td>Leisure trip</td>\n",
       "      <td>6</td>\n",
       "      <td>2017</td>\n",
       "      <td>[there was only one small issue with the room ...</td>\n",
       "      <td>[the location was excellent it was off the cha...</td>\n",
       "      <td>[there was only one small issue with the room ...</td>\n",
       "    </tr>\n",
       "    <tr>\n",
       "      <th>4</th>\n",
       "      <td>300</td>\n",
       "      <td>9.0</td>\n",
       "      <td>68</td>\n",
       "      <td>1254</td>\n",
       "      <td>25</td>\n",
       "      <td>1</td>\n",
       "      <td>9.6</td>\n",
       "      <td>Price of breakfast was high We went to an ama...</td>\n",
       "      <td>United Kingdom</td>\n",
       "      <td>3</td>\n",
       "      <td>Leisure trip</td>\n",
       "      <td>1</td>\n",
       "      <td>2016</td>\n",
       "      <td>[price of breakfast was high we went to an ama...</td>\n",
       "      <td>[amazing location and quality of hotel being c...</td>\n",
       "      <td>[price of breakfast was high we went to an ama...</td>\n",
       "    </tr>\n",
       "  </tbody>\n",
       "</table>\n",
       "</div>"
      ],
      "text/plain": [
       "   Additional_Number_of_Scoring  ...                               test_negative_review\n",
       "0                           241  ...  [bathtub and sink flush was not t working prop...\n",
       "1                           493  ...  [the bedroom was tight and very small they exp...\n",
       "2                           908  ...                                      [no negative]\n",
       "3                           117  ...  [there was only one small issue with the room ...\n",
       "4                           300  ...  [price of breakfast was high we went to an ama...\n",
       "\n",
       "[5 rows x 16 columns]"
      ]
     },
     "execution_count": 50,
     "metadata": {
      "tags": []
     },
     "output_type": "execute_result"
    }
   ],
   "source": [
    "#df_new.head()"
   ]
  },
  {
   "cell_type": "code",
   "execution_count": null,
   "metadata": {
    "colab": {
     "base_uri": "https://localhost:8080/"
    },
    "id": "bwectz75UKR0",
    "outputId": "16f4683f-d7d0-45c0-e0f3-899f0b666448"
   },
   "outputs": [
    {
     "name": "stdout",
     "output_type": "stream",
     "text": [
      "<class 'pandas.core.frame.DataFrame'>\n",
      "RangeIndex: 49677 entries, 0 to 49676\n",
      "Data columns (total 16 columns):\n",
      " #   Column                                      Non-Null Count  Dtype  \n",
      "---  ------                                      --------------  -----  \n",
      " 0   Additional_Number_of_Scoring                49677 non-null  int64  \n",
      " 1   Average_Score                               49677 non-null  float64\n",
      " 2   Review_Total_Negative_Word_Counts           49677 non-null  int64  \n",
      " 3   Total_Number_of_Reviews                     49677 non-null  int64  \n",
      " 4   Review_Total_Positive_Word_Counts           49677 non-null  int64  \n",
      " 5   Total_Number_of_Reviews_Reviewer_Has_Given  49677 non-null  int64  \n",
      " 6   Reviewer_Score                              49677 non-null  float64\n",
      " 7   reviews                                     49677 non-null  object \n",
      " 8   Hotel_Country                               49677 non-null  object \n",
      " 9   review_month                                49677 non-null  int64  \n",
      " 10  Trip                                        49677 non-null  object \n",
      " 11  Stayed nights                               49677 non-null  int64  \n",
      " 12  yr                                          49677 non-null  int64  \n",
      " 13  test_reviews                                49677 non-null  object \n",
      " 14  test_positive_review                        49677 non-null  object \n",
      " 15  test_negative_review                        49677 non-null  object \n",
      "dtypes: float64(2), int64(8), object(6)\n",
      "memory usage: 6.1+ MB\n"
     ]
    }
   ],
   "source": [
    "df_new.info()"
   ]
  },
  {
   "cell_type": "code",
   "execution_count": null,
   "metadata": {
    "id": "5HeUxhB_kpOr"
   },
   "outputs": [],
   "source": [
    "#Extracting the numerical and categorical features \n",
    "num_features = [feature for feature in df_new.columns if df_new[feature].dtype != 'O']\n",
    "cat_features = [feature for feature in df_new.columns if df_new[feature].dtype == 'O']"
   ]
  },
  {
   "cell_type": "code",
   "execution_count": null,
   "metadata": {
    "colab": {
     "base_uri": "https://localhost:8080/"
    },
    "id": "eYopvXAymZJv",
    "outputId": "8fb2b8bb-d9f2-47bf-b5de-38abdba662ab"
   },
   "outputs": [
    {
     "data": {
      "text/plain": [
       "['reviews',\n",
       " 'Hotel_Country',\n",
       " 'Trip',\n",
       " 'test_reviews',\n",
       " 'test_positive_review',\n",
       " 'test_negative_review']"
      ]
     },
     "execution_count": 53,
     "metadata": {
      "tags": []
     },
     "output_type": "execute_result"
    }
   ],
   "source": [
    "cat_features"
   ]
  },
  {
   "cell_type": "code",
   "execution_count": null,
   "metadata": {
    "colab": {
     "base_uri": "https://localhost:8080/"
    },
    "id": "kqQOYFe8lOny",
    "outputId": "ce3bad65-ebf0-48a7-8557-fedf5a88ba30"
   },
   "outputs": [
    {
     "data": {
      "text/plain": [
       "['Additional_Number_of_Scoring',\n",
       " 'Average_Score',\n",
       " 'Review_Total_Negative_Word_Counts',\n",
       " 'Total_Number_of_Reviews',\n",
       " 'Review_Total_Positive_Word_Counts',\n",
       " 'Total_Number_of_Reviews_Reviewer_Has_Given',\n",
       " 'Reviewer_Score',\n",
       " 'review_month',\n",
       " 'Stayed nights',\n",
       " 'yr']"
      ]
     },
     "execution_count": 54,
     "metadata": {
      "tags": []
     },
     "output_type": "execute_result"
    }
   ],
   "source": [
    "num_features"
   ]
  },
  {
   "cell_type": "code",
   "execution_count": null,
   "metadata": {
    "id": "0yVKEMN9kxur"
   },
   "outputs": [],
   "source": []
  },
  {
   "cell_type": "code",
   "execution_count": null,
   "metadata": {
    "colab": {
     "base_uri": "https://localhost:8080/",
     "height": 1000
    },
    "id": "4F7DLTskm8EU",
    "outputId": "5b5dab21-08ad-4587-dce5-4f40a9435f83"
   },
   "outputs": [
    {
     "name": "stderr",
     "output_type": "stream",
     "text": [
      "/usr/local/lib/python3.6/dist-packages/seaborn/_decorators.py:43: FutureWarning: Pass the following variables as keyword args: x, y. From version 0.12, the only valid positional argument will be `data`, and passing other arguments without an explicit keyword will result in an error or misinterpretation.\n",
      "  FutureWarning\n"
     ]
    },
    {
     "data": {
      "image/png": "[encoded data removed]",
      "text/plain": [
       "<Figure size 432x288 with 1 Axes>"
      ]
     },
     "metadata": {
      "needs_background": "light",
      "tags": []
     },
     "output_type": "display_data"
    },
    {
     "name": "stderr",
     "output_type": "stream",
     "text": [
      "/usr/local/lib/python3.6/dist-packages/seaborn/_decorators.py:43: FutureWarning: Pass the following variables as keyword args: x, y. From version 0.12, the only valid positional argument will be `data`, and passing other arguments without an explicit keyword will result in an error or misinterpretation.\n",
      "  FutureWarning\n"
     ]
    },
    {
     "data": {
      "image/png": "[encoded data removed]",
      "text/plain": [
       "<Figure size 432x288 with 1 Axes>"
      ]
     },
     "metadata": {
      "needs_background": "light",
      "tags": []
     },
     "output_type": "display_data"
    },
    {
     "name": "stderr",
     "output_type": "stream",
     "text": [
      "/usr/local/lib/python3.6/dist-packages/seaborn/_decorators.py:43: FutureWarning: Pass the following variables as keyword args: x, y. From version 0.12, the only valid positional argument will be `data`, and passing other arguments without an explicit keyword will result in an error or misinterpretation.\n",
      "  FutureWarning\n"
     ]
    },
    {
     "data": {
      "image/png": "[encoded data removed]",
      "text/plain": [
       "<Figure size 432x288 with 1 Axes>"
      ]
     },
     "metadata": {
      "needs_background": "light",
      "tags": []
     },
     "output_type": "display_data"
    },
    {
     "name": "stderr",
     "output_type": "stream",
     "text": [
      "/usr/local/lib/python3.6/dist-packages/seaborn/_decorators.py:43: FutureWarning: Pass the following variables as keyword args: x, y. From version 0.12, the only valid positional argument will be `data`, and passing other arguments without an explicit keyword will result in an error or misinterpretation.\n",
      "  FutureWarning\n"
     ]
    },
    {
     "data": {
      "image/png": "[encoded data removed]",
      "text/plain": [
       "<Figure size 432x288 with 1 Axes>"
      ]
     },
     "metadata": {
      "needs_background": "light",
      "tags": []
     },
     "output_type": "display_data"
    },
    {
     "name": "stderr",
     "output_type": "stream",
     "text": [
      "/usr/local/lib/python3.6/dist-packages/seaborn/_decorators.py:43: FutureWarning: Pass the following variables as keyword args: x, y. From version 0.12, the only valid positional argument will be `data`, and passing other arguments without an explicit keyword will result in an error or misinterpretation.\n",
      "  FutureWarning\n"
     ]
    },
    {
     "data": {
      "image/png": "[encoded data removed]",
      "text/plain": [
       "<Figure size 432x288 with 1 Axes>"
      ]
     },
     "metadata": {
      "needs_background": "light",
      "tags": []
     },
     "output_type": "display_data"
    },
    {
     "name": "stderr",
     "output_type": "stream",
     "text": [
      "/usr/local/lib/python3.6/dist-packages/seaborn/_decorators.py:43: FutureWarning: Pass the following variables as keyword args: x, y. From version 0.12, the only valid positional argument will be `data`, and passing other arguments without an explicit keyword will result in an error or misinterpretation.\n",
      "  FutureWarning\n"
     ]
    },
    {
     "data": {
      "image/png": "[encoded data removed]",
      "text/plain": [
       "<Figure size 432x288 with 1 Axes>"
      ]
     },
     "metadata": {
      "needs_background": "light",
      "tags": []
     },
     "output_type": "display_data"
    }
   ],
   "source": [
    "num = ['Additional_Number_of_Scoring',\n",
    " 'Average_Score',\n",
    " 'Review_Total_Negative_Word_Counts',\n",
    " 'Total_Number_of_Reviews',\n",
    " 'Review_Total_Positive_Word_Counts',\n",
    " 'Total_Number_of_Reviews_Reviewer_Has_Given']\n",
    "for feature in num: \n",
    "  sns.scatterplot(df_new[feature],df_new['Reviewer_Score'])\n",
    "  plt.show()\n",
    "\n",
    "#Inference: mentioned numerical columns are not having any linear relationship with target variable i.e 'Reviewer_Score'  "
   ]
  },
  {
   "cell_type": "code",
   "execution_count": null,
   "metadata": {
    "colab": {
     "base_uri": "https://localhost:8080/"
    },
    "id": "Uqk2s3lJoAia",
    "outputId": "cbe5b5ee-6122-4f70-eb1e-69f43ab226f0"
   },
   "outputs": [
    {
     "data": {
      "text/plain": [
       "['reviews',\n",
       " 'Hotel_Country',\n",
       " 'Trip',\n",
       " 'test_reviews',\n",
       " 'test_positive_review',\n",
       " 'test_negative_review']"
      ]
     },
     "execution_count": 56,
     "metadata": {
      "tags": []
     },
     "output_type": "execute_result"
    }
   ],
   "source": [
    "# cat = ['review_month',\n",
    "#  'Stayed nights',\n",
    "#  'yr']\n",
    "cat_features\n",
    "# df_new['Hotel_Country'].value_counts(),Trip"
   ]
  },
  {
   "cell_type": "markdown",
   "metadata": {
    "id": "zxVy8TDNsY_j"
   },
   "source": [
    "Not doing any Statistical Test as our independent features are not having any linearity with the target variable"
   ]
  },
  {
   "cell_type": "markdown",
   "metadata": {
    "id": "nRQ5y5p3c6U2"
   },
   "source": [
    "Label Encodding: for categorical column"
   ]
  },
  {
   "cell_type": "code",
   "execution_count": null,
   "metadata": {
    "id": "iQUGssEwc_Fv"
   },
   "outputs": [],
   "source": [
    "from sklearn import preprocessing \n",
    "label_encoder = preprocessing.LabelEncoder()\n",
    "df_new['Hotel_Country']= label_encoder.fit_transform(df_new['Hotel_Country'] )\n",
    "df_new['Trip']= label_encoder.fit_transform(df_new['Trip'] ) "
   ]
  },
  {
   "cell_type": "code",
   "execution_count": null,
   "metadata": {
    "colab": {
     "base_uri": "https://localhost:8080/",
     "height": 335
    },
    "id": "7AlogyE4flEp",
    "outputId": "fa3427ab-e0f9-4022-b16c-32622d8d9c2f"
   },
   "outputs": [
    {
     "data": {
      "text/html": [
       "<div>\n",
       "<style scoped>\n",
       "    .dataframe tbody tr th:only-of-type {\n",
       "        vertical-align: middle;\n",
       "    }\n",
       "\n",
       "    .dataframe tbody tr th {\n",
       "        vertical-align: top;\n",
       "    }\n",
       "\n",
       "    .dataframe thead th {\n",
       "        text-align: right;\n",
       "    }\n",
       "</style>\n",
       "<table border=\"1\" class=\"dataframe\">\n",
       "  <thead>\n",
       "    <tr style=\"text-align: right;\">\n",
       "      <th></th>\n",
       "      <th>Additional_Number_of_Scoring</th>\n",
       "      <th>Average_Score</th>\n",
       "      <th>Review_Total_Negative_Word_Counts</th>\n",
       "      <th>Total_Number_of_Reviews</th>\n",
       "      <th>Review_Total_Positive_Word_Counts</th>\n",
       "      <th>Total_Number_of_Reviews_Reviewer_Has_Given</th>\n",
       "      <th>Reviewer_Score</th>\n",
       "      <th>reviews</th>\n",
       "      <th>Hotel_Country</th>\n",
       "      <th>review_month</th>\n",
       "      <th>Trip</th>\n",
       "      <th>Stayed nights</th>\n",
       "      <th>yr</th>\n",
       "      <th>test_reviews</th>\n",
       "      <th>test_positive_review</th>\n",
       "      <th>test_negative_review</th>\n",
       "    </tr>\n",
       "  </thead>\n",
       "  <tbody>\n",
       "    <tr>\n",
       "      <th>0</th>\n",
       "      <td>241</td>\n",
       "      <td>8.2</td>\n",
       "      <td>138</td>\n",
       "      <td>2500</td>\n",
       "      <td>48</td>\n",
       "      <td>8</td>\n",
       "      <td>7.5</td>\n",
       "      <td>Bathtub and sink flush wasn t working properl...</td>\n",
       "      <td>4</td>\n",
       "      <td>8</td>\n",
       "      <td>1</td>\n",
       "      <td>6</td>\n",
       "      <td>2016</td>\n",
       "      <td>[bathtub and sink flush was not t working prop...</td>\n",
       "      <td>[we ve had a room with sea view and was lovely...</td>\n",
       "      <td>[bathtub and sink flush was not t working prop...</td>\n",
       "    </tr>\n",
       "    <tr>\n",
       "      <th>1</th>\n",
       "      <td>493</td>\n",
       "      <td>8.6</td>\n",
       "      <td>23</td>\n",
       "      <td>2865</td>\n",
       "      <td>9</td>\n",
       "      <td>3</td>\n",
       "      <td>5.4</td>\n",
       "      <td>The bedroom was tight and very small They exp...</td>\n",
       "      <td>3</td>\n",
       "      <td>12</td>\n",
       "      <td>0</td>\n",
       "      <td>2</td>\n",
       "      <td>2016</td>\n",
       "      <td>[the bedroom was tight and very small they exp...</td>\n",
       "      <td>[to be near to the main train station]</td>\n",
       "      <td>[the bedroom was tight and very small they exp...</td>\n",
       "    </tr>\n",
       "  </tbody>\n",
       "</table>\n",
       "</div>"
      ],
      "text/plain": [
       "   Additional_Number_of_Scoring  ...                               test_negative_review\n",
       "0                           241  ...  [bathtub and sink flush was not t working prop...\n",
       "1                           493  ...  [the bedroom was tight and very small they exp...\n",
       "\n",
       "[2 rows x 16 columns]"
      ]
     },
     "execution_count": 58,
     "metadata": {
      "tags": []
     },
     "output_type": "execute_result"
    }
   ],
   "source": [
    "df_new.head(2)"
   ]
  },
  {
   "cell_type": "markdown",
   "metadata": {
    "id": "5QA14rxGfvTC"
   },
   "source": [
    "**Base Model Building**  <b>\n",
    "Without any review columns and <b>\n",
    "Taking 'Reviewer_Score' as target variable <b>\n"
   ]
  },
  {
   "cell_type": "code",
   "execution_count": null,
   "metadata": {
    "id": "f2x066mxfotF"
   },
   "outputs": [],
   "source": [
    "X = df_new.drop(['reviews','test_reviews','test_positive_review','test_negative_review'],axis=1)\n",
    "y = df_new['Reviewer_Score']"
   ]
  },
  {
   "cell_type": "code",
   "execution_count": null,
   "metadata": {
    "colab": {
     "base_uri": "https://localhost:8080/",
     "height": 1000
    },
    "id": "o_LrKztEW9__",
    "outputId": "8519c1d8-8817-4fb3-c5d1-3ea272e07529"
   },
   "outputs": [
    {
     "name": "stderr",
     "output_type": "stream",
     "text": [
      "/usr/local/lib/python3.6/dist-packages/seaborn/distributions.py:2551: FutureWarning: `distplot` is a deprecated function and will be removed in a future version. Please adapt your code to use either `displot` (a figure-level function with similar flexibility) or `histplot` (an axes-level function for histograms).\n",
      "  warnings.warn(msg, FutureWarning)\n"
     ]
    },
    {
     "data": {
      "image/png": "[encoded data removed]",
      "text/plain": [
       "<Figure size 432x288 with 1 Axes>"
      ]
     },
     "metadata": {
      "needs_background": "light",
      "tags": []
     },
     "output_type": "display_data"
    },
    {
     "name": "stderr",
     "output_type": "stream",
     "text": [
      "/usr/local/lib/python3.6/dist-packages/seaborn/distributions.py:2551: FutureWarning: `distplot` is a deprecated function and will be removed in a future version. Please adapt your code to use either `displot` (a figure-level function with similar flexibility) or `histplot` (an axes-level function for histograms).\n",
      "  warnings.warn(msg, FutureWarning)\n"
     ]
    },
    {
     "data": {
      "image/png": "[encoded data removed]",
      "text/plain": [
       "<Figure size 432x288 with 1 Axes>"
      ]
     },
     "metadata": {
      "needs_background": "light",
      "tags": []
     },
     "output_type": "display_data"
    },
    {
     "name": "stderr",
     "output_type": "stream",
     "text": [
      "/usr/local/lib/python3.6/dist-packages/seaborn/distributions.py:2551: FutureWarning: `distplot` is a deprecated function and will be removed in a future version. Please adapt your code to use either `displot` (a figure-level function with similar flexibility) or `histplot` (an axes-level function for histograms).\n",
      "  warnings.warn(msg, FutureWarning)\n"
     ]
    },
    {
     "data": {
      "image/png": "[encoded data removed]",
      "text/plain": [
       "<Figure size 432x288 with 1 Axes>"
      ]
     },
     "metadata": {
      "needs_background": "light",
      "tags": []
     },
     "output_type": "display_data"
    },
    {
     "name": "stderr",
     "output_type": "stream",
     "text": [
      "/usr/local/lib/python3.6/dist-packages/seaborn/distributions.py:2551: FutureWarning: `distplot` is a deprecated function and will be removed in a future version. Please adapt your code to use either `displot` (a figure-level function with similar flexibility) or `histplot` (an axes-level function for histograms).\n",
      "  warnings.warn(msg, FutureWarning)\n"
     ]
    },
    {
     "data": {
      "image/png": "[encoded data removed]",
      "text/plain": [
       "<Figure size 432x288 with 1 Axes>"
      ]
     },
     "metadata": {
      "needs_background": "light",
      "tags": []
     },
     "output_type": "display_data"
    },
    {
     "name": "stderr",
     "output_type": "stream",
     "text": [
      "/usr/local/lib/python3.6/dist-packages/seaborn/distributions.py:2551: FutureWarning: `distplot` is a deprecated function and will be removed in a future version. Please adapt your code to use either `displot` (a figure-level function with similar flexibility) or `histplot` (an axes-level function for histograms).\n",
      "  warnings.warn(msg, FutureWarning)\n"
     ]
    },
    {
     "data": {
      "image/png": "[encoded data removed]",
      "text/plain": [
       "<Figure size 432x288 with 1 Axes>"
      ]
     },
     "metadata": {
      "needs_background": "light",
      "tags": []
     },
     "output_type": "display_data"
    },
    {
     "name": "stderr",
     "output_type": "stream",
     "text": [
      "/usr/local/lib/python3.6/dist-packages/seaborn/distributions.py:2551: FutureWarning: `distplot` is a deprecated function and will be removed in a future version. Please adapt your code to use either `displot` (a figure-level function with similar flexibility) or `histplot` (an axes-level function for histograms).\n",
      "  warnings.warn(msg, FutureWarning)\n"
     ]
    },
    {
     "data": {
      "image/png": "[encoded data removed]",
      "text/plain": [
       "<Figure size 432x288 with 1 Axes>"
      ]
     },
     "metadata": {
      "needs_background": "light",
      "tags": []
     },
     "output_type": "display_data"
    },
    {
     "name": "stderr",
     "output_type": "stream",
     "text": [
      "/usr/local/lib/python3.6/dist-packages/seaborn/distributions.py:2551: FutureWarning: `distplot` is a deprecated function and will be removed in a future version. Please adapt your code to use either `displot` (a figure-level function with similar flexibility) or `histplot` (an axes-level function for histograms).\n",
      "  warnings.warn(msg, FutureWarning)\n"
     ]
    },
    {
     "data": {
      "image/png": "[encoded data removed]",
      "text/plain": [
       "<Figure size 432x288 with 1 Axes>"
      ]
     },
     "metadata": {
      "needs_background": "light",
      "tags": []
     },
     "output_type": "display_data"
    }
   ],
   "source": [
    "# distributions of the numerical columns\n",
    "num = ['Additional_Number_of_Scoring',\n",
    " 'Average_Score',\n",
    " 'Review_Total_Negative_Word_Counts',\n",
    " 'Total_Number_of_Reviews',\n",
    " 'Review_Total_Positive_Word_Counts',\n",
    " 'Total_Number_of_Reviews_Reviewer_Has_Given',\n",
    " 'Reviewer_Score']\n",
    "for feature in num: \n",
    "  sns.distplot(X[feature])\n",
    "  plt.show()"
   ]
  },
  {
   "cell_type": "code",
   "execution_count": null,
   "metadata": {
    "id": "Cqt-BZdzgt23"
   },
   "outputs": [],
   "source": [
    "from sklearn.preprocessing import StandardScaler\n",
    "from sklearn.ensemble import BaggingRegressor,RandomForestRegressor,AdaBoostRegressor\n",
    "from sklearn import model_selection\n",
    "from sklearn import metrics\n",
    "from sklearn.preprocessing import StandardScaler\n",
    "from sklearn.impute import KNNImputer\n",
    "from sklearn.tree import DecisionTreeClassifier, DecisionTreeRegressor\n",
    "from sklearn.model_selection import GridSearchCV\n",
    "# from missingpy import KNNImputer"
   ]
  },
  {
   "cell_type": "code",
   "execution_count": null,
   "metadata": {
    "colab": {
     "base_uri": "https://localhost:8080/"
    },
    "id": "8hhcbl2cg8kI",
    "outputId": "8653f4d0-17e7-46a4-cfcc-7b898829c0f5"
   },
   "outputs": [
    {
     "data": {
      "text/plain": [
       "Additional_Number_of_Scoring                  0\n",
       "Average_Score                                 0\n",
       "Review_Total_Negative_Word_Counts             0\n",
       "Total_Number_of_Reviews                       0\n",
       "Review_Total_Positive_Word_Counts             0\n",
       "Total_Number_of_Reviews_Reviewer_Has_Given    0\n",
       "Reviewer_Score                                0\n",
       "Hotel_Country                                 0\n",
       "review_month                                  0\n",
       "Trip                                          0\n",
       "Stayed nights                                 0\n",
       "yr                                            0\n",
       "dtype: int64"
      ]
     },
     "execution_count": 62,
     "metadata": {
      "tags": []
     },
     "output_type": "execute_result"
    }
   ],
   "source": [
    "X.isnull().sum() #No null values we dont require to treat "
   ]
  },
  {
   "cell_type": "code",
   "execution_count": null,
   "metadata": {
    "id": "SxJtmXdPt4fi"
   },
   "outputs": [],
   "source": [
    "sc =StandardScaler()\n",
    "X_std = pd.DataFrame(sc.fit_transform(X),columns = X.columns)"
   ]
  },
  {
   "cell_type": "code",
   "execution_count": null,
   "metadata": {
    "colab": {
     "base_uri": "https://localhost:8080/",
     "height": 145
    },
    "id": "fy5ssH5_g-X5",
    "outputId": "89adf684-9ae1-48f2-9bd3-9f0631f49d0c"
   },
   "outputs": [
    {
     "data": {
      "text/html": [
       "<div>\n",
       "<style scoped>\n",
       "    .dataframe tbody tr th:only-of-type {\n",
       "        vertical-align: middle;\n",
       "    }\n",
       "\n",
       "    .dataframe tbody tr th {\n",
       "        vertical-align: top;\n",
       "    }\n",
       "\n",
       "    .dataframe thead th {\n",
       "        text-align: right;\n",
       "    }\n",
       "</style>\n",
       "<table border=\"1\" class=\"dataframe\">\n",
       "  <thead>\n",
       "    <tr style=\"text-align: right;\">\n",
       "      <th></th>\n",
       "      <th>Additional_Number_of_Scoring</th>\n",
       "      <th>Average_Score</th>\n",
       "      <th>Review_Total_Negative_Word_Counts</th>\n",
       "      <th>Total_Number_of_Reviews</th>\n",
       "      <th>Review_Total_Positive_Word_Counts</th>\n",
       "      <th>Total_Number_of_Reviews_Reviewer_Has_Given</th>\n",
       "      <th>Reviewer_Score</th>\n",
       "      <th>Hotel_Country</th>\n",
       "      <th>review_month</th>\n",
       "      <th>Trip</th>\n",
       "      <th>Stayed nights</th>\n",
       "      <th>yr</th>\n",
       "    </tr>\n",
       "  </thead>\n",
       "  <tbody>\n",
       "    <tr>\n",
       "      <th>0</th>\n",
       "      <td>-0.519816</td>\n",
       "      <td>-0.360680</td>\n",
       "      <td>4.095994</td>\n",
       "      <td>-0.113568</td>\n",
       "      <td>1.410892</td>\n",
       "      <td>0.072453</td>\n",
       "      <td>-0.546726</td>\n",
       "      <td>0.215795</td>\n",
       "      <td>0.450586</td>\n",
       "      <td>0.315831</td>\n",
       "      <td>2.517421</td>\n",
       "      <td>-0.173866</td>\n",
       "    </tr>\n",
       "    <tr>\n",
       "      <th>1</th>\n",
       "      <td>-0.023631</td>\n",
       "      <td>0.366395</td>\n",
       "      <td>0.157978</td>\n",
       "      <td>0.041626</td>\n",
       "      <td>-0.402445</td>\n",
       "      <td>-0.381082</td>\n",
       "      <td>-1.830285</td>\n",
       "      <td>-0.366753</td>\n",
       "      <td>1.647243</td>\n",
       "      <td>-2.095350</td>\n",
       "      <td>-0.204602</td>\n",
       "      <td>-0.173866</td>\n",
       "    </tr>\n",
       "  </tbody>\n",
       "</table>\n",
       "</div>"
      ],
      "text/plain": [
       "   Additional_Number_of_Scoring  Average_Score  ...  Stayed nights        yr\n",
       "0                     -0.519816      -0.360680  ...       2.517421 -0.173866\n",
       "1                     -0.023631       0.366395  ...      -0.204602 -0.173866\n",
       "\n",
       "[2 rows x 12 columns]"
      ]
     },
     "execution_count": 64,
     "metadata": {
      "tags": []
     },
     "output_type": "execute_result"
    }
   ],
   "source": [
    "X_std.head(2)"
   ]
  },
  {
   "cell_type": "markdown",
   "metadata": {
    "id": "YclAnr7WjdYq"
   },
   "source": [
    "WE will go with Non Linear model as there are no high multicollinearity"
   ]
  },
  {
   "cell_type": "code",
   "execution_count": null,
   "metadata": {
    "colab": {
     "base_uri": "https://localhost:8080/"
    },
    "id": "ZYlzjdRk1e94",
    "outputId": "2e238d9a-4108-4d99-954e-dba04effa0d4"
   },
   "outputs": [
    {
     "data": {
      "text/plain": [
       "{'max_depth': 7}"
      ]
     },
     "execution_count": 65,
     "metadata": {
      "tags": []
     },
     "output_type": "execute_result"
    }
   ],
   "source": [
    "dt_model = DecisionTreeRegressor()\n",
    "#n_neighbors ideal search range could be 15-20% of size of data\n",
    "param={'max_depth':np.arange(1,15)}\n",
    "GS=GridSearchCV(dt_model,param,cv=3,scoring='neg_mean_squared_error')\n",
    "GS.fit(X_std,y)\n",
    "GS.best_params_\n"
   ]
  },
  {
   "cell_type": "code",
   "execution_count": null,
   "metadata": {
    "colab": {
     "base_uri": "https://localhost:8080/"
    },
    "id": "ITpFhjhO2zx2",
    "outputId": "5269acff-1457-4947-e0e3-48ee517e1172"
   },
   "outputs": [
    {
     "data": {
      "text/plain": [
       "DecisionTreeRegressor(ccp_alpha=0.0, criterion='mse', max_depth=7,\n",
       "                      max_features=None, max_leaf_nodes=None,\n",
       "                      min_impurity_decrease=0.0, min_impurity_split=None,\n",
       "                      min_samples_leaf=1, min_samples_split=2,\n",
       "                      min_weight_fraction_leaf=0.0, presort='deprecated',\n",
       "                      random_state=None, splitter='best')"
      ]
     },
     "execution_count": 66,
     "metadata": {
      "tags": []
     },
     "output_type": "execute_result"
    }
   ],
   "source": [
    "#we do k-fold cross validation now\n",
    "dt_reg = DecisionTreeRegressor(max_depth=7)\n",
    "dt_reg.fit(X_std,y)\n"
   ]
  },
  {
   "cell_type": "code",
   "execution_count": null,
   "metadata": {
    "colab": {
     "base_uri": "https://localhost:8080/"
    },
    "id": "5-k0b-8M3gmX",
    "outputId": "01937bf5-e1f9-4783-aa59-a6ea98795f67"
   },
   "outputs": [
    {
     "name": "stdout",
     "output_type": "stream",
     "text": [
      "bias_error 0.00040130637234989645\n",
      "var_error 0.0008973483274687731\n"
     ]
    }
   ],
   "source": [
    "score = model_selection.cross_val_score(dt_reg,X_std,y,cv=5,scoring='neg_mean_squared_error')\n",
    "rmse=np.sqrt(np.abs(score))\n",
    "print('bias_error',np.mean(rmse))\n",
    "print('var_error',np.std(rmse,ddof=1))"
   ]
  },
  {
   "cell_type": "code",
   "execution_count": null,
   "metadata": {
    "colab": {
     "base_uri": "https://localhost:8080/"
    },
    "id": "rspUxpdU3RLI",
    "outputId": "a0590fd6-3efd-4c05-b69e-e0516fd017b0"
   },
   "outputs": [
    {
     "data": {
      "text/plain": [
       "(0.9987013453001813, 1.000496041955119)"
      ]
     },
     "execution_count": 68,
     "metadata": {
      "tags": []
     },
     "output_type": "execute_result"
    }
   ],
   "source": [
    "1-(np.mean(rmse)+np.std(rmse,ddof=1)),1-(np.mean(rmse)-np.std(rmse,ddof=1))"
   ]
  },
  {
   "cell_type": "code",
   "execution_count": null,
   "metadata": {
    "id": "eVkkYqe1uRWd"
   },
   "outputs": [],
   "source": [
    "#With RandomForestRegressor\n",
    "rf_be=[]\n",
    "rf_ve=[]\n",
    "for n in np.arange(1,50):\n",
    "    rf = RandomForestRegressor(n_estimators=n)\n",
    "#     kf=model_selection.KFold(shuffle=True,n_splits=3,random_state=0)\n",
    "    score = model_selection.cross_val_score(rf,X_std,y,cv= 3,scoring='neg_mean_squared_error')\n",
    "    rmse=np.sqrt(np.abs(score))\n",
    "    rf_be.append(np.mean(rmse)),rf_ve.append(np.std(rmse,ddof=1))"
   ]
  },
  {
   "cell_type": "code",
   "execution_count": null,
   "metadata": {
    "colab": {
     "base_uri": "https://localhost:8080/",
     "height": 282
    },
    "id": "uxEH0LapuaII",
    "outputId": "a8dd5ae9-0c4a-435a-8161-ecd58ea4618d"
   },
   "outputs": [
    {
     "data": {
      "text/plain": [
       "(0.000312947493245894, 1)"
      ]
     },
     "execution_count": 70,
     "metadata": {
      "tags": []
     },
     "output_type": "execute_result"
    },
    {
     "data": {
      "image/png": "[encoded data removed]",
      "text/plain": [
       "<Figure size 432x288 with 1 Axes>"
      ]
     },
     "metadata": {
      "needs_background": "light",
      "tags": []
     },
     "output_type": "display_data"
    }
   ],
   "source": [
    "x_axis=np.arange(len(rf_ve))\n",
    "plt.plot(x_axis,rf_ve)\n",
    "np.min(rf_ve),np.argmin(rf_ve)"
   ]
  },
  {
   "cell_type": "code",
   "execution_count": null,
   "metadata": {
    "colab": {
     "base_uri": "https://localhost:8080/"
    },
    "id": "sDvP1msgvFAQ",
    "outputId": "b40005c0-6cee-4d31-b9d1-15d65ff8c5c3"
   },
   "outputs": [
    {
     "data": {
      "text/plain": [
       "(0.0008932751934945044, 0.0005809399074628273)"
      ]
     },
     "execution_count": 71,
     "metadata": {
      "tags": []
     },
     "output_type": "execute_result"
    }
   ],
   "source": [
    "#So at n_estimators = 7 we get the Variance error very less \n",
    "rf = RandomForestRegressor(n_estimators=7)\n",
    "rf.fit(X_std,y)\n",
    "score=model_selection.cross_val_score(rf,X_std,y,cv= 3,scoring='neg_mean_squared_error')\n",
    "rmse=np.sqrt(np.abs(score))\n",
    "np.mean(rmse),np.std(rmse,ddof=1)"
   ]
  },
  {
   "cell_type": "code",
   "execution_count": null,
   "metadata": {
    "colab": {
     "base_uri": "https://localhost:8080/"
    },
    "id": "lOiykwDkvn09",
    "outputId": "c684a9e3-d943-4715-8e6e-c17d4c0c87ce"
   },
   "outputs": [
    {
     "data": {
      "text/plain": [
       "(0.0014742151009573315, 0.00031233528603167714)"
      ]
     },
     "execution_count": 72,
     "metadata": {
      "tags": []
     },
     "output_type": "execute_result"
    }
   ],
   "source": [
    "np.mean(rmse)+np.std(rmse,ddof=1),np.mean(rmse) - np.std(rmse,ddof=1)"
   ]
  },
  {
   "cell_type": "markdown",
   "metadata": {
    "id": "JEtvnpk_xZK-"
   },
   "source": [
    "Our model will predict the 'Reviewer_score' with avg difference of 0.0008932751934945009\n"
   ]
  },
  {
   "cell_type": "code",
   "execution_count": null,
   "metadata": {
    "colab": {
     "base_uri": "https://localhost:8080/"
    },
    "id": "jK0a1Pv8x7bd",
    "outputId": "eb305ea4-212a-4650-a9ce-c7c21377736e"
   },
   "outputs": [
    {
     "data": {
      "text/plain": [
       "(0.9985257848990426, 0.9996876647139683)"
      ]
     },
     "execution_count": 73,
     "metadata": {
      "tags": []
     },
     "output_type": "execute_result"
    }
   ],
   "source": [
    "1-(np.mean(rmse)+np.std(rmse,ddof=1)),1-(np.mean(rmse) - np.std(rmse,ddof=1))\n",
    "#Our model accuracy is ranging from 99.8 to 99.9%"
   ]
  },
  {
   "cell_type": "code",
   "execution_count": null,
   "metadata": {
    "colab": {
     "base_uri": "https://localhost:8080/",
     "height": 282
    },
    "id": "NEUsojBnvz0I",
    "outputId": "4e30a5db-0cdb-45f3-8298-12130f264ad0"
   },
   "outputs": [
    {
     "data": {
      "text/plain": [
       "<matplotlib.legend.Legend at 0x7efcde7aaf28>"
      ]
     },
     "execution_count": 74,
     "metadata": {
      "tags": []
     },
     "output_type": "execute_result"
    },
    {
     "data": {
      "image/png": "[encoded data removed]",
      "text/plain": [
       "<Figure size 432x288 with 1 Axes>"
      ]
     },
     "metadata": {
      "needs_background": "light",
      "tags": []
     },
     "output_type": "display_data"
    }
   ],
   "source": [
    "plt.plot(np.arange(1,10),rf_be[:9],label='BE')\n",
    "plt.plot(np.arange(1,10),rf_ve[:9],label = 'VE')\n",
    "plt.legend()"
   ]
  },
  {
   "cell_type": "code",
   "execution_count": null,
   "metadata": {
    "id": "2SH8J6E7yr9N"
   },
   "outputs": [],
   "source": []
  },
  {
   "cell_type": "markdown",
   "metadata": {
    "id": "UeqXfNH8zKRx"
   },
   "source": [
    "# ***Now building the base model by including the reviews too***\n",
    "\n",
    "\n",
    "*   Before including the text : Preprocessing of the text need to be done (removing the text stopwords)\n",
    "*   And then converting text into numerical of the reviews (i.e taking only the reviews column which is combined review)\n",
    "\n"
   ]
  },
  {
   "cell_type": "code",
   "execution_count": null,
   "metadata": {
    "colab": {
     "base_uri": "https://localhost:8080/"
    },
    "id": "JenfIFe65_kn",
    "outputId": "53561346-3944-4e36-ee33-3a5a40d808e4"
   },
   "outputs": [
    {
     "name": "stdout",
     "output_type": "stream",
     "text": [
      "[nltk_data] Downloading package stopwords to /root/nltk_data...\n",
      "[nltk_data]   Package stopwords is already up-to-date!\n",
      "[nltk_data] Downloading package wordnet to /root/nltk_data...\n",
      "[nltk_data]   Package wordnet is already up-to-date!\n"
     ]
    },
    {
     "data": {
      "text/plain": [
       "True"
      ]
     },
     "execution_count": 75,
     "metadata": {
      "tags": []
     },
     "output_type": "execute_result"
    }
   ],
   "source": [
    "import nltk\n",
    "nltk.download('stopwords')\n",
    "nltk.download('wordnet')"
   ]
  },
  {
   "cell_type": "code",
   "execution_count": null,
   "metadata": {
    "id": "gYnnZmPVy75A"
   },
   "outputs": [],
   "source": [
    "from nltk.stem import WordNetLemmatizer\n",
    "from nltk.corpus import stopwords"
   ]
  },
  {
   "cell_type": "code",
   "execution_count": null,
   "metadata": {
    "id": "-dzeBvVM5zVP"
   },
   "outputs": [],
   "source": [
    "stopwords_l = stopwords.words('english')\n",
    "stopwords_l.remove('not')\n"
   ]
  },
  {
   "cell_type": "code",
   "execution_count": null,
   "metadata": {
    "colab": {
     "base_uri": "https://localhost:8080/"
    },
    "id": "O97YGose7nnM",
    "outputId": "7500ca4b-55c5-46b5-8bf8-3f18b45a3148"
   },
   "outputs": [
    {
     "data": {
      "text/plain": [
       "False"
      ]
     },
     "execution_count": 78,
     "metadata": {
      "tags": []
     },
     "output_type": "execute_result"
    }
   ],
   "source": [
    "'not' in stopwords_l"
   ]
  },
  {
   "cell_type": "code",
   "execution_count": null,
   "metadata": {
    "colab": {
     "base_uri": "https://localhost:8080/"
    },
    "id": "p2e-UJNl8Dmi",
    "outputId": "b0de2842-80da-4f04-8d67-3fd11e2571fb"
   },
   "outputs": [
    {
     "data": {
      "text/plain": [
       "['bathtub and sink flush was not t working properly even if we told the reception the second day they removed the hand soap and did not t replaced it until we told the reception on the fourth day cleaning ladies forgot to clean our room once even if we left every morning at am swimming pool sun chairs are not free each a bit expensive imho considering you can have sun chairs and one umbrella for on the beach same for hotel bike rent for hrs is way too much when you can rent a bicycle for per day in barcelona centre overall barcelona has got a general drainage issue and sometimes the whole area gets quite smelly and hotel rooms too not their fault but the hotel management should consider it we ve had a room with sea view and was lovely the location is great if you want to go to the beach everyday and stay away from the crowd of barcelona centre mattresses really comfy on big beds the hotel is quite modern and stylish']"
      ]
     },
     "execution_count": 79,
     "metadata": {
      "tags": []
     },
     "output_type": "execute_result"
    }
   ],
   "source": [
    "df_new['test_reviews'][0]"
   ]
  },
  {
   "cell_type": "code",
   "execution_count": null,
   "metadata": {
    "id": "X7WQx0g-8U7C"
   },
   "outputs": [],
   "source": [
    "def corpus_text(x):\n",
    "  lem = WordNetLemmatizer()\n",
    "  rv = re.sub('[^a-zA-Z]',' ',x)\n",
    "  rv = rv.lower()\n",
    "  rv = rv.split()\n",
    "    \n",
    "  rv = [lem.lemmatize(word) for word in rv if not word in stopwords_l]\n",
    "  rv =' '.join(rv)\n",
    "  return rv\n"
   ]
  },
  {
   "cell_type": "code",
   "execution_count": null,
   "metadata": {
    "id": "KvajFu1y5otx"
   },
   "outputs": [],
   "source": [
    "df_new['reviews_processed'] = df_new['test_reviews'].apply(lambda x: corpus_text(str(x)))\n",
    "df_new['positive_reviews_processed'] = df_new['test_positive_review'].apply(lambda x: corpus_text(str(x)))\n",
    "df_new['negative_reviews_processed'] = df_new['test_negative_review'].apply(lambda x: corpus_text(str(x)))"
   ]
  },
  {
   "cell_type": "code",
   "execution_count": null,
   "metadata": {
    "colab": {
     "base_uri": "https://localhost:8080/"
    },
    "id": "ep-B3wQr81fu",
    "outputId": "daf1d59e-5d86-40f3-84cb-327dc3b3e70f"
   },
   "outputs": [
    {
     "data": {
      "text/plain": [
       "Index(['Additional_Number_of_Scoring', 'Average_Score',\n",
       "       'Review_Total_Negative_Word_Counts', 'Total_Number_of_Reviews',\n",
       "       'Review_Total_Positive_Word_Counts',\n",
       "       'Total_Number_of_Reviews_Reviewer_Has_Given', 'Reviewer_Score',\n",
       "       'reviews', 'Hotel_Country', 'review_month', 'Trip', 'Stayed nights',\n",
       "       'yr', 'test_reviews', 'test_positive_review', 'test_negative_review',\n",
       "       'reviews_processed', 'positive_reviews_processed',\n",
       "       'negative_reviews_processed'],\n",
       "      dtype='object')"
      ]
     },
     "execution_count": 82,
     "metadata": {
      "tags": []
     },
     "output_type": "execute_result"
    }
   ],
   "source": [
    "df_new.columns"
   ]
  },
  {
   "cell_type": "code",
   "execution_count": null,
   "metadata": {
    "colab": {
     "base_uri": "https://localhost:8080/",
     "height": 335
    },
    "id": "H8oMzq1O-sow",
    "outputId": "41c88a5c-2997-4658-fa0f-1c3408d63f79"
   },
   "outputs": [
    {
     "data": {
      "text/html": [
       "<div>\n",
       "<style scoped>\n",
       "    .dataframe tbody tr th:only-of-type {\n",
       "        vertical-align: middle;\n",
       "    }\n",
       "\n",
       "    .dataframe tbody tr th {\n",
       "        vertical-align: top;\n",
       "    }\n",
       "\n",
       "    .dataframe thead th {\n",
       "        text-align: right;\n",
       "    }\n",
       "</style>\n",
       "<table border=\"1\" class=\"dataframe\">\n",
       "  <thead>\n",
       "    <tr style=\"text-align: right;\">\n",
       "      <th></th>\n",
       "      <th>Additional_Number_of_Scoring</th>\n",
       "      <th>Average_Score</th>\n",
       "      <th>Review_Total_Negative_Word_Counts</th>\n",
       "      <th>Total_Number_of_Reviews</th>\n",
       "      <th>Review_Total_Positive_Word_Counts</th>\n",
       "      <th>Total_Number_of_Reviews_Reviewer_Has_Given</th>\n",
       "      <th>Reviewer_Score</th>\n",
       "      <th>reviews</th>\n",
       "      <th>Hotel_Country</th>\n",
       "      <th>review_month</th>\n",
       "      <th>Trip</th>\n",
       "      <th>Stayed nights</th>\n",
       "      <th>yr</th>\n",
       "      <th>test_reviews</th>\n",
       "      <th>test_positive_review</th>\n",
       "      <th>test_negative_review</th>\n",
       "      <th>reviews_processed</th>\n",
       "      <th>positive_reviews_processed</th>\n",
       "      <th>negative_reviews_processed</th>\n",
       "    </tr>\n",
       "  </thead>\n",
       "  <tbody>\n",
       "    <tr>\n",
       "      <th>0</th>\n",
       "      <td>241</td>\n",
       "      <td>8.2</td>\n",
       "      <td>138</td>\n",
       "      <td>2500</td>\n",
       "      <td>48</td>\n",
       "      <td>8</td>\n",
       "      <td>7.5</td>\n",
       "      <td>Bathtub and sink flush wasn t working properl...</td>\n",
       "      <td>4</td>\n",
       "      <td>8</td>\n",
       "      <td>1</td>\n",
       "      <td>6</td>\n",
       "      <td>2016</td>\n",
       "      <td>[bathtub and sink flush was not t working prop...</td>\n",
       "      <td>[we ve had a room with sea view and was lovely...</td>\n",
       "      <td>[bathtub and sink flush was not t working prop...</td>\n",
       "      <td>bathtub sink flush not working properly even t...</td>\n",
       "      <td>room sea view lovely location great want go be...</td>\n",
       "      <td>bathtub sink flush not working properly even t...</td>\n",
       "    </tr>\n",
       "    <tr>\n",
       "      <th>1</th>\n",
       "      <td>493</td>\n",
       "      <td>8.6</td>\n",
       "      <td>23</td>\n",
       "      <td>2865</td>\n",
       "      <td>9</td>\n",
       "      <td>3</td>\n",
       "      <td>5.4</td>\n",
       "      <td>The bedroom was tight and very small They exp...</td>\n",
       "      <td>3</td>\n",
       "      <td>12</td>\n",
       "      <td>0</td>\n",
       "      <td>2</td>\n",
       "      <td>2016</td>\n",
       "      <td>[the bedroom was tight and very small they exp...</td>\n",
       "      <td>[to be near to the main train station]</td>\n",
       "      <td>[the bedroom was tight and very small they exp...</td>\n",
       "      <td>bedroom tight small explain hotel built old fa...</td>\n",
       "      <td>near main train station</td>\n",
       "      <td>bedroom tight small explain hotel built old fa...</td>\n",
       "    </tr>\n",
       "  </tbody>\n",
       "</table>\n",
       "</div>"
      ],
      "text/plain": [
       "   Additional_Number_of_Scoring  ...                         negative_reviews_processed\n",
       "0                           241  ...  bathtub sink flush not working properly even t...\n",
       "1                           493  ...  bedroom tight small explain hotel built old fa...\n",
       "\n",
       "[2 rows x 19 columns]"
      ]
     },
     "execution_count": 83,
     "metadata": {
      "tags": []
     },
     "output_type": "execute_result"
    }
   ],
   "source": [
    "df_new.head(2)"
   ]
  },
  {
   "cell_type": "code",
   "execution_count": null,
   "metadata": {
    "colab": {
     "base_uri": "https://localhost:8080/"
    },
    "id": "K8Mwnl5j_PRd",
    "outputId": "f0c4c07e-a532-4019-810e-18712fca2f8a"
   },
   "outputs": [
    {
     "name": "stdout",
     "output_type": "stream",
     "text": [
      "[nltk_data] Downloading package vader_lexicon to /root/nltk_data...\n",
      "[nltk_data]   Package vader_lexicon is already up-to-date!\n"
     ]
    },
    {
     "name": "stderr",
     "output_type": "stream",
     "text": [
      "/usr/local/lib/python3.6/dist-packages/nltk/twitter/__init__.py:20: UserWarning: The twython library has not been installed. Some functionality from the twitter package will not be available.\n",
      "  warnings.warn(\"The twython library has not been installed. \"\n"
     ]
    }
   ],
   "source": [
    "#Calculating the polarity score of combined positive and negative review\n",
    "import nltk\n",
    "nltk.download('vader_lexicon')\n",
    "from nltk.sentiment.vader import SentimentIntensityAnalyzer\n",
    "sid = SentimentIntensityAnalyzer()"
   ]
  },
  {
   "cell_type": "code",
   "execution_count": null,
   "metadata": {
    "id": "jeiW3U6hYPwh"
   },
   "outputs": [],
   "source": [
    "df_new['Combined_pos'] = df_new['reviews_processed'].apply(lambda x:sid.polarity_scores(x)['pos'])\n",
    "df_new['Combined_neg'] = df_new['reviews_processed'].apply(lambda x:sid.polarity_scores(x)['neg'])\n",
    "df_new['Combined_neu'] = df_new['reviews_processed'].apply(lambda x:sid.polarity_scores(x)['neu'])"
   ]
  },
  {
   "cell_type": "code",
   "execution_count": null,
   "metadata": {
    "id": "qHitqoKiYzZX"
   },
   "outputs": [],
   "source": [
    "# using tfidf vectorization to convert the "
   ]
  },
  {
   "cell_type": "code",
   "execution_count": null,
   "metadata": {
    "id": "iVI-2t0pY0Ko"
   },
   "outputs": [],
   "source": [
    "from sklearn.feature_extraction.text import TfidfVectorizer\n",
    "# tfidf = TfidfVectorizer()\n",
    "# corpus_tfidf = tfidf.fit_transform(corpus_df['corpus']).toarray()"
   ]
  },
  {
   "cell_type": "code",
   "execution_count": null,
   "metadata": {
    "id": "RTHuEgixdYGY"
   },
   "outputs": [],
   "source": [
    "\n",
    "tf = TfidfVectorizer(analyzer='word', min_df=0, stop_words='english')\n",
    "#min_df is used for removing terms that appear too frequently\n",
    "#min_df = 0.01 means \"ignore terms that appear in less than 1% of the documents\n",
    "tfidf_matrix = tf.fit_transform(df_new['reviews_processed']).toarray()"
   ]
  },
  {
   "cell_type": "code",
   "execution_count": null,
   "metadata": {
    "colab": {
     "base_uri": "https://localhost:8080/"
    },
    "id": "t0qAYjSrZs8X",
    "outputId": "eacae6d9-4afc-4f54-c05b-45b0dc43e878"
   },
   "outputs": [
    {
     "data": {
      "text/plain": [
       "array([[0., 0., 0., ..., 0., 0., 0.],\n",
       "       [0., 0., 0., ..., 0., 0., 0.],\n",
       "       [0., 0., 0., ..., 0., 0., 0.],\n",
       "       ...,\n",
       "       [0., 0., 0., ..., 0., 0., 0.],\n",
       "       [0., 0., 0., ..., 0., 0., 0.],\n",
       "       [0., 0., 0., ..., 0., 0., 0.]])"
      ]
     },
     "execution_count": 89,
     "metadata": {
      "tags": []
     },
     "output_type": "execute_result"
    }
   ],
   "source": [
    "tfidf_matrix"
   ]
  },
  {
   "cell_type": "code",
   "execution_count": null,
   "metadata": {
    "colab": {
     "base_uri": "https://localhost:8080/"
    },
    "id": "h0lDfJ6ZN1hb",
    "outputId": "af022835-20cc-4738-c326-75c243362955"
   },
   "outputs": [
    {
     "data": {
      "text/plain": [
       "(49677, (49677, 20502))"
      ]
     },
     "execution_count": 90,
     "metadata": {
      "tags": []
     },
     "output_type": "execute_result"
    }
   ],
   "source": [
    "len(tfidf_matrix),tfidf_matrix.shape  #20502 unique words in our reviews hence we got 20502 columns"
   ]
  },
  {
   "cell_type": "code",
   "execution_count": null,
   "metadata": {
    "id": "3VYUhU1BN7OT"
   },
   "outputs": [],
   "source": [
    "# X : combined revies and y = Combined_pos,Combined_neg\n",
    "\n",
    "X = df_new['reviews_processed']\n",
    "y = df_new['Combined_pos']\n",
    "y1=df_new['Combined_neg']"
   ]
  },
  {
   "cell_type": "code",
   "execution_count": null,
   "metadata": {
    "id": "xw5qDpSRSHzr"
   },
   "outputs": [],
   "source": [
    "# dt_model = DecisionTreeRegressor()\n",
    "# #n_neighbors ideal search range could be 15-20% of size of data\n",
    "# param={'max_depth':np.arange(1,10)}\n",
    "# GS=GridSearchCV(dt_model,param,cv=3,scoring='neg_mean_squared_error')\n",
    "# GS.fit(tfidf_matrix,y)\n",
    "# GS.best_params_\n"
   ]
  },
  {
   "cell_type": "code",
   "execution_count": null,
   "metadata": {
    "colab": {
     "base_uri": "https://localhost:8080/"
    },
    "id": "ojv1piFQPlcO",
    "outputId": "9de6e6fb-099c-492d-bd2b-b87201c42986"
   },
   "outputs": [
    {
     "name": "stdout",
     "output_type": "stream",
     "text": [
      "Score: 0.9460718377669801\n",
      "bias_error 0.0008932751934945044\n",
      "var_error 0.0005809399074628273\n"
     ]
    }
   ],
   "source": [
    "from sklearn.pipeline import Pipeline\n",
    "#Sub model 1: where target variable : 'Combined_pos'\n",
    "model1 = Pipeline([('tfidf', TfidfVectorizer(analyzer='word', min_df=0,stop_words= stopwords_l)),\n",
    "                     ('dt', DecisionTreeRegressor(max_depth=55)),\n",
    "])\n",
    "model1.fit(X,y)\n",
    "print('Score:',model1.score(X,y))\n",
    "scores = model_selection.cross_val_score(model1, X, y, cv= 3, scoring='neg_mean_squared_error')\n",
    "rmse = np.sqrt(np.abs(score))\n",
    "print('bias_error',np.mean(rmse))\n",
    "print('var_error',np.std(rmse,ddof=1))"
   ]
  },
  {
   "cell_type": "code",
   "execution_count": null,
   "metadata": {
    "colab": {
     "base_uri": "https://localhost:8080/"
    },
    "id": "lr8ZhKLTewuR",
    "outputId": "c710c958-fe6e-4e58-f513-db742e1ddab5"
   },
   "outputs": [
    {
     "data": {
      "text/plain": [
       "array([0.1941068])"
      ]
     },
     "execution_count": 94,
     "metadata": {
      "tags": []
     },
     "output_type": "execute_result"
    }
   ],
   "source": [
    "model1.predict(pd.Series(['the intent behind the movie good but soul was missing']))"
   ]
  },
  {
   "cell_type": "code",
   "execution_count": null,
   "metadata": {
    "colab": {
     "base_uri": "https://localhost:8080/"
    },
    "id": "gTeUqH-ZhAeX",
    "outputId": "43779585-6c50-4fb6-e859-67d78bd61bb7"
   },
   "outputs": [
    {
     "data": {
      "text/plain": [
       "array([0.1941068])"
      ]
     },
     "execution_count": 95,
     "metadata": {
      "tags": []
     },
     "output_type": "execute_result"
    }
   ],
   "source": [
    "model1.predict(pd.Series(['intent behind movie good soul missing']))"
   ]
  },
  {
   "cell_type": "code",
   "execution_count": null,
   "metadata": {
    "colab": {
     "base_uri": "https://localhost:8080/"
    },
    "id": "_oBbdFC8fW_U",
    "outputId": "30bc6e6b-e639-421a-af7f-274d7e69e469"
   },
   "outputs": [
    {
     "data": {
      "text/plain": [
       "{'compound': 0.1779, 'neg': 0.242, 'neu': 0.44, 'pos': 0.319}"
      ]
     },
     "execution_count": 96,
     "metadata": {
      "tags": []
     },
     "output_type": "execute_result"
    }
   ],
   "source": [
    "sid.polarity_scores('intent behind movie good soul missing')"
   ]
  },
  {
   "cell_type": "code",
   "execution_count": null,
   "metadata": {
    "id": "pAFbMJK2iMae"
   },
   "outputs": [],
   "source": [
    "# sid.polarity_scores('the intent behind the movie good but soul was missing')"
   ]
  },
  {
   "cell_type": "code",
   "execution_count": null,
   "metadata": {
    "colab": {
     "base_uri": "https://localhost:8080/"
    },
    "id": "6wkmlDIVf2g6",
    "outputId": "8518e38d-033a-4300-d5d5-66fb0ad8eeaa"
   },
   "outputs": [
    {
     "data": {
      "text/plain": [
       "(0.020000000000000004, 0.14)"
      ]
     },
     "execution_count": 98,
     "metadata": {
      "tags": []
     },
     "output_type": "execute_result"
    }
   ],
   "source": [
    "# 0.31-0.08,0.31+0.08\n",
    "0.08-0.06,0.08+0.06"
   ]
  },
  {
   "cell_type": "code",
   "execution_count": null,
   "metadata": {
    "colab": {
     "base_uri": "https://localhost:8080/"
    },
    "id": "km0OSvD5hO_H",
    "outputId": "dd3bba93-334d-46dd-bee4-772e7237600d"
   },
   "outputs": [
    {
     "data": {
      "text/plain": [
       "(0.125, True)"
      ]
     },
     "execution_count": 99,
     "metadata": {
      "tags": []
     },
     "output_type": "execute_result"
    }
   ],
   "source": [
    "0.319-0.194,0.125<0.14"
   ]
  },
  {
   "cell_type": "code",
   "execution_count": null,
   "metadata": {
    "colab": {
     "base_uri": "https://localhost:8080/"
    },
    "id": "_Kei1gvRiqBb",
    "outputId": "a303328a-2c73-4dd8-e133-e023289e6b95"
   },
   "outputs": [
    {
     "name": "stdout",
     "output_type": "stream",
     "text": [
      "Score: 0.9164581314888661\n",
      "bias_error 0.0008932751934945044\n",
      "var_error 0.0005809399074628273\n"
     ]
    }
   ],
   "source": [
    "#Sub model 2: where target variable : 'Combined_neg'\n",
    "model2 =  Pipeline([('tfidf', TfidfVectorizer(analyzer='word', min_df=0,stop_words= stopwords_l)),\n",
    "                     ('dt', DecisionTreeRegressor(max_depth=95)),\n",
    "])\n",
    "model2.fit(X,y1)\n",
    "print('Score:',model2.score(X,y1))\n",
    "scores = model_selection.cross_val_score(model2, X, y1, cv= 3, scoring='neg_mean_squared_error')\n",
    "rmse = np.sqrt(np.abs(score))\n",
    "print('bias_error',np.mean(rmse))\n",
    "print('var_error',np.std(rmse,ddof=1))"
   ]
  },
  {
   "cell_type": "code",
   "execution_count": null,
   "metadata": {
    "id": "KxqipsvaljwJ"
   },
   "outputs": [],
   "source": [
    "# building the submodels for positive and negative review also"
   ]
  },
  {
   "cell_type": "code",
   "execution_count": null,
   "metadata": {
    "id": "81ctSqu2zp6t"
   },
   "outputs": [],
   "source": [
    "# df_new.head(2)"
   ]
  },
  {
   "cell_type": "code",
   "execution_count": null,
   "metadata": {
    "id": "pqBKmnLKzjev"
   },
   "outputs": [],
   "source": [
    "df_new.to_pickle(\"/content/drive/My Drive/capstone/updated_processed.pkl\")"
   ]
  },
  {
   "cell_type": "markdown",
   "metadata": {
    "id": "Rco69e8jqTZT"
   },
   "source": [
    "Building the models for Positive reviews "
   ]
  },
  {
   "cell_type": "code",
   "execution_count": null,
   "metadata": {
    "colab": {
     "base_uri": "https://localhost:8080/",
     "height": 408
    },
    "id": "_6GFgznjmWiN",
    "outputId": "07445ea5-5fc6-4c2f-8894-eb3ccd88a7d2"
   },
   "outputs": [
    {
     "data": {
      "text/html": [
       "<div>\n",
       "<style scoped>\n",
       "    .dataframe tbody tr th:only-of-type {\n",
       "        vertical-align: middle;\n",
       "    }\n",
       "\n",
       "    .dataframe tbody tr th {\n",
       "        vertical-align: top;\n",
       "    }\n",
       "\n",
       "    .dataframe thead th {\n",
       "        text-align: right;\n",
       "    }\n",
       "</style>\n",
       "<table border=\"1\" class=\"dataframe\">\n",
       "  <thead>\n",
       "    <tr style=\"text-align: right;\">\n",
       "      <th></th>\n",
       "      <th>positive_reviews_processed</th>\n",
       "      <th>Positive_pos</th>\n",
       "      <th>Positive_neg</th>\n",
       "      <th>Positive_neu</th>\n",
       "    </tr>\n",
       "  </thead>\n",
       "  <tbody>\n",
       "    <tr>\n",
       "      <th>0</th>\n",
       "      <td>room sea view lovely location great want go be...</td>\n",
       "      <td>0.305</td>\n",
       "      <td>0.0</td>\n",
       "      <td>0.695</td>\n",
       "    </tr>\n",
       "    <tr>\n",
       "      <th>1</th>\n",
       "      <td>near main train station</td>\n",
       "      <td>0.000</td>\n",
       "      <td>0.0</td>\n",
       "      <td>1.000</td>\n",
       "    </tr>\n",
       "    <tr>\n",
       "      <th>2</th>\n",
       "      <td>great ipads room breakfast amazing</td>\n",
       "      <td>0.725</td>\n",
       "      <td>0.0</td>\n",
       "      <td>0.275</td>\n",
       "    </tr>\n",
       "    <tr>\n",
       "      <th>3</th>\n",
       "      <td>location excellent champ elysees minute walk a...</td>\n",
       "      <td>0.484</td>\n",
       "      <td>0.0</td>\n",
       "      <td>0.516</td>\n",
       "    </tr>\n",
       "    <tr>\n",
       "      <th>4</th>\n",
       "      <td>amazing location quality hotel close tube stat...</td>\n",
       "      <td>0.402</td>\n",
       "      <td>0.0</td>\n",
       "      <td>0.598</td>\n",
       "    </tr>\n",
       "    <tr>\n",
       "      <th>...</th>\n",
       "      <td>...</td>\n",
       "      <td>...</td>\n",
       "      <td>...</td>\n",
       "      <td>...</td>\n",
       "    </tr>\n",
       "    <tr>\n",
       "      <th>49672</th>\n",
       "      <td>bed double family instead single bed</td>\n",
       "      <td>0.000</td>\n",
       "      <td>0.0</td>\n",
       "      <td>1.000</td>\n",
       "    </tr>\n",
       "    <tr>\n",
       "      <th>49673</th>\n",
       "      <td>well equipped compact room fabulous setting ov...</td>\n",
       "      <td>0.407</td>\n",
       "      <td>0.0</td>\n",
       "      <td>0.593</td>\n",
       "    </tr>\n",
       "    <tr>\n",
       "      <th>49674</th>\n",
       "      <td>thought hotel lacked every aspect hospitality ...</td>\n",
       "      <td>0.080</td>\n",
       "      <td>0.0</td>\n",
       "      <td>0.920</td>\n",
       "    </tr>\n",
       "    <tr>\n",
       "      <th>49675</th>\n",
       "      <td>lovely location st katharines dock lovely</td>\n",
       "      <td>0.655</td>\n",
       "      <td>0.0</td>\n",
       "      <td>0.345</td>\n",
       "    </tr>\n",
       "    <tr>\n",
       "      <th>49676</th>\n",
       "      <td>bed comfortable room spacious</td>\n",
       "      <td>0.524</td>\n",
       "      <td>0.0</td>\n",
       "      <td>0.476</td>\n",
       "    </tr>\n",
       "  </tbody>\n",
       "</table>\n",
       "<p>49677 rows × 4 columns</p>\n",
       "</div>"
      ],
      "text/plain": [
       "                              positive_reviews_processed  ...  Positive_neu\n",
       "0      room sea view lovely location great want go be...  ...         0.695\n",
       "1                                near main train station  ...         1.000\n",
       "2                     great ipads room breakfast amazing  ...         0.275\n",
       "3      location excellent champ elysees minute walk a...  ...         0.516\n",
       "4      amazing location quality hotel close tube stat...  ...         0.598\n",
       "...                                                  ...  ...           ...\n",
       "49672               bed double family instead single bed  ...         1.000\n",
       "49673  well equipped compact room fabulous setting ov...  ...         0.593\n",
       "49674  thought hotel lacked every aspect hospitality ...  ...         0.920\n",
       "49675          lovely location st katharines dock lovely  ...         0.345\n",
       "49676                      bed comfortable room spacious  ...         0.476\n",
       "\n",
       "[49677 rows x 4 columns]"
      ]
     },
     "execution_count": 102,
     "metadata": {
      "tags": []
     },
     "output_type": "execute_result"
    }
   ],
   "source": [
    "positive_reviews = pd.DataFrame()\n",
    "positive_reviews['positive_reviews_processed'] = df_new['positive_reviews_processed']\n",
    "\n",
    "positive_reviews['Positive_pos'] = positive_reviews['positive_reviews_processed'].apply(lambda x:sid.polarity_scores(x)['pos'])\n",
    "positive_reviews['Positive_neg'] = positive_reviews['positive_reviews_processed'].apply(lambda x:sid.polarity_scores(x)['neg'])\n",
    "positive_reviews['Positive_neu'] = positive_reviews['positive_reviews_processed'].apply(lambda x:sid.polarity_scores(x)['neu'])\n",
    "positive_reviews"
   ]
  },
  {
   "cell_type": "code",
   "execution_count": null,
   "metadata": {
    "id": "9esBuYO3o3Mj"
   },
   "outputs": [],
   "source": [
    "# X : positive revies and y = positive_pos,negative_neg\n",
    "\n",
    "pos_X = positive_reviews['positive_reviews_processed']\n",
    "pos_y = positive_reviews['Positive_pos']\n",
    "pos_y1=positive_reviews['Positive_neg']"
   ]
  },
  {
   "cell_type": "code",
   "execution_count": null,
   "metadata": {
    "id": "dIESlyTcljz4"
   },
   "outputs": [],
   "source": [
    "#Sub model 1: where target variable : 'Positive_pos'\n",
    "Pos_model1 =  Pipeline([('tfidf', TfidfVectorizer(analyzer='word', min_df=0,stop_words= stopwords_l)),\n",
    "                     ('dt', DecisionTreeRegressor()),\n",
    "])\n",
    "Pos_model1.fit(pos_X,pos_y)\n",
    "print('Score:',Pos_model1.score(pos_X,pos_y))\n",
    "# scores = model_selection.cross_val_score(Pos_model1, pos_X, pos_y, cv= 3, scoring='neg_mean_squared_error')\n",
    "# rmse = np.sqrt(np.abs(score))\n",
    "# print('bias_error',np.mean(rmse))\n",
    "# print('var_error',np.std(rmse,ddof=1))"
   ]
  },
  {
   "cell_type": "code",
   "execution_count": null,
   "metadata": {
    "id": "UDGoN6fwrQtL"
   },
   "outputs": [],
   "source": []
  },
  {
   "cell_type": "code",
   "execution_count": null,
   "metadata": {
    "id": "l4mAKd5TqwO0"
   },
   "outputs": [],
   "source": [
    "# dt_model = DecisionTreeRegressor()\n",
    "#n_neighbors ideal search range could be 15-20% of size of data\n",
    "param={'max_depth':np.arange(1,10)}\n",
    "GS=GridSearchCV(Pos_model1,param,cv=3,scoring='neg_mean_squared_error')\n",
    "GS.fit(pos_X,pos_y)\n",
    "# Pos_model1.fit()\n",
    "GS.best_params_"
   ]
  },
  {
   "cell_type": "code",
   "execution_count": null,
   "metadata": {
    "id": "tCWgWNkfljud"
   },
   "outputs": [],
   "source": [
    "df_new.head()"
   ]
  },
  {
   "cell_type": "code",
   "execution_count": null,
   "metadata": {
    "id": "G_Q_kkBwc3lN"
   },
   "outputs": [],
   "source": [
    "# grid = GridSearchCV(model2, cv=3,scoring='neg_mean_squared_error')\n",
    "# grid.fit(train['text'], train['output'])\n",
    "# grid.score(test['text'], test['output'])"
   ]
  },
  {
   "cell_type": "code",
   "execution_count": null,
   "metadata": {
    "id": "iQoC4VAjYn9n"
   },
   "outputs": [],
   "source": [
    "# dt_model = DecisionTreeRegressor()\n",
    "# #n_neighbors ideal search range could be 15-20% of size of data\n",
    "# param={'max_depth':np.arange(1,10)}\n",
    "# GS=GridSearchCV(model2,param,cv=3,scoring='neg_mean_squared_error')\n",
    "# GS.fit(pd.DataFrame(tfidf_matrix),y1)\n",
    "# GS.best_params_"
   ]
  },
  {
   "cell_type": "code",
   "execution_count": null,
   "metadata": {
    "id": "aXX0L-96RMg1"
   },
   "outputs": [],
   "source": [
    "# model1.score(X,y)\n",
    "# dt= DecisionTreeRegressor(max_depth=55)\n",
    "# score = model_selection.cross_val_score(dt,tfidf_matrix,y,cv=5,scoring='neg_mean_squared_error')\n",
    "# rmse = np.sqrt(score)\n",
    "# print('bias_error',np.mean(rmse))\n",
    "# print('var_error',np.std(rmse,ddof=1))"
   ]
  },
  {
   "cell_type": "code",
   "execution_count": null,
   "metadata": {
    "id": "w1Q5wwB4WJAd"
   },
   "outputs": [],
   "source": [
    "# params={'model__C':[.01,.05,.1,.5,1,5,10],\n",
    "#            'model__penalty':['l1','l2']}\n",
    "# pipeline = Pipeline([\n",
    "#     ('vect', CountVectorizer(min_df=40,ngram_range=(1,4))),\n",
    "#     ('tfidf', TfidfTransformer()),\n",
    "#     ('model',LogisticRegression())])\n",
    "# grid = GridSearchCV(pipeline, cv=5, n_jobs=-1, param_grid=params ,scoring='roc_auc')\n",
    "# grid.fit(train['text'], train['output'])\n",
    "# grid.score(test['text'], test['output'])"
   ]
  },
  {
   "cell_type": "code",
   "execution_count": null,
   "metadata": {
    "id": "0Nk-np6MQRnJ"
   },
   "outputs": [],
   "source": [
    "# # Linear SVC:\n",
    "# text_clf_lsvc = Pipeline([('tfidf', TfidfVectorizer()),\n",
    "#                      ('clf', LinearSVC()),\n",
    "# ])"
   ]
  },
  {
   "cell_type": "code",
   "execution_count": null,
   "metadata": {
    "id": "g3aDobkHZ44H"
   },
   "outputs": [],
   "source": [
    "sid.polarity_scores('quite good but not good')"
   ]
  },
  {
   "cell_type": "code",
   "execution_count": null,
   "metadata": {
    "id": "aFhj_d6HaqsV"
   },
   "outputs": [],
   "source": [
    "sid.polarity_scores('intent behind movie great not better')"
   ]
  },
  {
   "cell_type": "code",
   "execution_count": null,
   "metadata": {
    "id": "GC35gP8aa7Bj"
   },
   "outputs": [],
   "source": []
  }
 ],
 "metadata": {
  "accelerator": "GPU",
  "colab": {
   "collapsed_sections": [],
   "name": "Feature Engineering.ipynb",
   "provenance": []
  },
  "kernelspec": {
   "display_name": "Python 3",
   "language": "python",
   "name": "python3"
  },
  "language_info": {
   "codemirror_mode": {
    "name": "ipython",
    "version": 3
   },
   "file_extension": ".py",
   "mimetype": "text/x-python",
   "name": "python",
   "nbconvert_exporter": "python",
   "pygments_lexer": "ipython3",
   "version": "3.7.6"
  }
 },
 "nbformat": 4,
 "nbformat_minor": 1
}
