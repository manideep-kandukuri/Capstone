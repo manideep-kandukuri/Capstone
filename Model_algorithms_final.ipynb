{
 "cells": [
  {
   "cell_type": "code",
   "execution_count": null,
   "metadata": {
    "id": "oGt3zDwra4kf"
   },
   "outputs": [],
   "source": [
    "import pandas as pd\n",
    "import numpy as np\n",
    "import matplotlib.pyplot as plt\n",
    "import seaborn as sns"
   ]
  },
  {
   "cell_type": "code",
   "execution_count": null,
   "metadata": {
    "colab": {
     "base_uri": "https://localhost:8080/"
    },
    "id": "o0o4NYry4wcG",
    "outputId": "049f04f1-262f-446b-d44a-131e351f414a"
   },
   "outputs": [
    {
     "name": "stdout",
     "output_type": "stream",
     "text": [
      "Mounted at /content/drive\n"
     ]
    }
   ],
   "source": [
    "from google.colab import drive\n",
    "drive.mount('/content/drive')"
   ]
  },
  {
   "cell_type": "code",
   "execution_count": null,
   "metadata": {
    "colab": {
     "base_uri": "https://localhost:8080/",
     "height": 412
    },
    "id": "HDaY2BE7bF8A",
    "outputId": "7f5031fa-a664-4093-c067-33a259d5dacf"
   },
   "outputs": [
    {
     "data": {
      "text/html": [
       "<div>\n",
       "<style scoped>\n",
       "    .dataframe tbody tr th:only-of-type {\n",
       "        vertical-align: middle;\n",
       "    }\n",
       "\n",
       "    .dataframe tbody tr th {\n",
       "        vertical-align: top;\n",
       "    }\n",
       "\n",
       "    .dataframe thead th {\n",
       "        text-align: right;\n",
       "    }\n",
       "</style>\n",
       "<table border=\"1\" class=\"dataframe\">\n",
       "  <thead>\n",
       "    <tr style=\"text-align: right;\">\n",
       "      <th></th>\n",
       "      <th>Additional_Number_of_Scoring</th>\n",
       "      <th>Average_Score</th>\n",
       "      <th>Review_Total_Negative_Word_Counts</th>\n",
       "      <th>Total_Number_of_Reviews</th>\n",
       "      <th>Review_Total_Positive_Word_Counts</th>\n",
       "      <th>Total_Number_of_Reviews_Reviewer_Has_Given</th>\n",
       "      <th>Reviewer_Score</th>\n",
       "      <th>Hotel_Country</th>\n",
       "      <th>review_month</th>\n",
       "      <th>Trip</th>\n",
       "      <th>Stayed nights</th>\n",
       "      <th>yr</th>\n",
       "      <th>reviews_processed</th>\n",
       "      <th>Combined_pos</th>\n",
       "      <th>Combined_neg</th>\n",
       "      <th>Combined_neu</th>\n",
       "      <th>Tokenized_Combined</th>\n",
       "      <th>0</th>\n",
       "      <th>1</th>\n",
       "      <th>2</th>\n",
       "      <th>3</th>\n",
       "      <th>4</th>\n",
       "      <th>5</th>\n",
       "      <th>6</th>\n",
       "      <th>7</th>\n",
       "      <th>8</th>\n",
       "      <th>9</th>\n",
       "      <th>10</th>\n",
       "      <th>11</th>\n",
       "      <th>12</th>\n",
       "      <th>13</th>\n",
       "      <th>14</th>\n",
       "      <th>15</th>\n",
       "      <th>16</th>\n",
       "      <th>17</th>\n",
       "      <th>18</th>\n",
       "      <th>19</th>\n",
       "      <th>20</th>\n",
       "      <th>21</th>\n",
       "      <th>22</th>\n",
       "      <th>...</th>\n",
       "      <th>260</th>\n",
       "      <th>261</th>\n",
       "      <th>262</th>\n",
       "      <th>263</th>\n",
       "      <th>264</th>\n",
       "      <th>265</th>\n",
       "      <th>266</th>\n",
       "      <th>267</th>\n",
       "      <th>268</th>\n",
       "      <th>269</th>\n",
       "      <th>270</th>\n",
       "      <th>271</th>\n",
       "      <th>272</th>\n",
       "      <th>273</th>\n",
       "      <th>274</th>\n",
       "      <th>275</th>\n",
       "      <th>276</th>\n",
       "      <th>277</th>\n",
       "      <th>278</th>\n",
       "      <th>279</th>\n",
       "      <th>280</th>\n",
       "      <th>281</th>\n",
       "      <th>282</th>\n",
       "      <th>283</th>\n",
       "      <th>284</th>\n",
       "      <th>285</th>\n",
       "      <th>286</th>\n",
       "      <th>287</th>\n",
       "      <th>288</th>\n",
       "      <th>289</th>\n",
       "      <th>290</th>\n",
       "      <th>291</th>\n",
       "      <th>292</th>\n",
       "      <th>293</th>\n",
       "      <th>294</th>\n",
       "      <th>295</th>\n",
       "      <th>296</th>\n",
       "      <th>297</th>\n",
       "      <th>298</th>\n",
       "      <th>299</th>\n",
       "    </tr>\n",
       "  </thead>\n",
       "  <tbody>\n",
       "    <tr>\n",
       "      <th>0</th>\n",
       "      <td>241</td>\n",
       "      <td>8.2</td>\n",
       "      <td>138</td>\n",
       "      <td>2500</td>\n",
       "      <td>48</td>\n",
       "      <td>8</td>\n",
       "      <td>7.5</td>\n",
       "      <td>4</td>\n",
       "      <td>8</td>\n",
       "      <td>1</td>\n",
       "      <td>6</td>\n",
       "      <td>2016</td>\n",
       "      <td>bathtub sink flush not working properly even t...</td>\n",
       "      <td>0.155</td>\n",
       "      <td>0.024</td>\n",
       "      <td>0.821</td>\n",
       "      <td>[bathtub, sink, flush, not, working, properly,...</td>\n",
       "      <td>0.129054</td>\n",
       "      <td>0.079749</td>\n",
       "      <td>-0.050408</td>\n",
       "      <td>-0.110894</td>\n",
       "      <td>0.102034</td>\n",
       "      <td>-0.064348</td>\n",
       "      <td>-0.012721</td>\n",
       "      <td>-0.248734</td>\n",
       "      <td>-0.054468</td>\n",
       "      <td>2.084704</td>\n",
       "      <td>-0.143764</td>\n",
       "      <td>-0.059989</td>\n",
       "      <td>-0.006257</td>\n",
       "      <td>0.010781</td>\n",
       "      <td>-0.189668</td>\n",
       "      <td>-0.082259</td>\n",
       "      <td>-0.125823</td>\n",
       "      <td>1.207873</td>\n",
       "      <td>-0.002224</td>\n",
       "      <td>-0.024382</td>\n",
       "      <td>-0.108933</td>\n",
       "      <td>0.106985</td>\n",
       "      <td>0.007620</td>\n",
       "      <td>...</td>\n",
       "      <td>0.118776</td>\n",
       "      <td>0.137813</td>\n",
       "      <td>0.059716</td>\n",
       "      <td>-0.039166</td>\n",
       "      <td>0.125360</td>\n",
       "      <td>-0.087997</td>\n",
       "      <td>-0.039846</td>\n",
       "      <td>0.060813</td>\n",
       "      <td>-0.182784</td>\n",
       "      <td>0.050778</td>\n",
       "      <td>-0.196915</td>\n",
       "      <td>-0.083890</td>\n",
       "      <td>-0.053765</td>\n",
       "      <td>-0.196452</td>\n",
       "      <td>-0.044017</td>\n",
       "      <td>0.084974</td>\n",
       "      <td>0.079902</td>\n",
       "      <td>-0.004446</td>\n",
       "      <td>0.018754</td>\n",
       "      <td>0.209559</td>\n",
       "      <td>0.140798</td>\n",
       "      <td>-0.057263</td>\n",
       "      <td>-0.047999</td>\n",
       "      <td>0.111542</td>\n",
       "      <td>-0.080811</td>\n",
       "      <td>-0.027021</td>\n",
       "      <td>0.131718</td>\n",
       "      <td>-0.071210</td>\n",
       "      <td>0.084022</td>\n",
       "      <td>0.105295</td>\n",
       "      <td>-0.071844</td>\n",
       "      <td>-0.008121</td>\n",
       "      <td>0.080809</td>\n",
       "      <td>-0.087931</td>\n",
       "      <td>0.127123</td>\n",
       "      <td>0.123818</td>\n",
       "      <td>-0.025628</td>\n",
       "      <td>-0.064460</td>\n",
       "      <td>0.003954</td>\n",
       "      <td>0.155291</td>\n",
       "    </tr>\n",
       "    <tr>\n",
       "      <th>1</th>\n",
       "      <td>493</td>\n",
       "      <td>8.6</td>\n",
       "      <td>23</td>\n",
       "      <td>2865</td>\n",
       "      <td>9</td>\n",
       "      <td>3</td>\n",
       "      <td>5.4</td>\n",
       "      <td>3</td>\n",
       "      <td>12</td>\n",
       "      <td>0</td>\n",
       "      <td>2</td>\n",
       "      <td>2016</td>\n",
       "      <td>bedroom tight small explain hotel built old fa...</td>\n",
       "      <td>0.000</td>\n",
       "      <td>0.000</td>\n",
       "      <td>1.000</td>\n",
       "      <td>[bedroom, tight, small, explain, hotel, built,...</td>\n",
       "      <td>0.232902</td>\n",
       "      <td>0.022285</td>\n",
       "      <td>-0.259465</td>\n",
       "      <td>-0.089257</td>\n",
       "      <td>0.229690</td>\n",
       "      <td>-0.065396</td>\n",
       "      <td>-0.118838</td>\n",
       "      <td>-0.272194</td>\n",
       "      <td>0.032207</td>\n",
       "      <td>2.370185</td>\n",
       "      <td>-0.279649</td>\n",
       "      <td>-0.102468</td>\n",
       "      <td>0.024799</td>\n",
       "      <td>-0.017472</td>\n",
       "      <td>-0.264171</td>\n",
       "      <td>0.059629</td>\n",
       "      <td>0.012431</td>\n",
       "      <td>1.332335</td>\n",
       "      <td>0.114094</td>\n",
       "      <td>-0.080576</td>\n",
       "      <td>0.012140</td>\n",
       "      <td>-0.018307</td>\n",
       "      <td>0.075269</td>\n",
       "      <td>...</td>\n",
       "      <td>0.115185</td>\n",
       "      <td>-0.022977</td>\n",
       "      <td>0.137514</td>\n",
       "      <td>-0.057224</td>\n",
       "      <td>-0.128971</td>\n",
       "      <td>-0.204318</td>\n",
       "      <td>0.010752</td>\n",
       "      <td>-0.004391</td>\n",
       "      <td>-0.642758</td>\n",
       "      <td>0.019346</td>\n",
       "      <td>-0.233412</td>\n",
       "      <td>0.062402</td>\n",
       "      <td>-0.126798</td>\n",
       "      <td>-0.342792</td>\n",
       "      <td>-0.065422</td>\n",
       "      <td>-0.069778</td>\n",
       "      <td>0.156276</td>\n",
       "      <td>-0.028852</td>\n",
       "      <td>-0.028522</td>\n",
       "      <td>0.106706</td>\n",
       "      <td>0.198023</td>\n",
       "      <td>0.103284</td>\n",
       "      <td>-0.159746</td>\n",
       "      <td>0.080849</td>\n",
       "      <td>-0.027057</td>\n",
       "      <td>0.106564</td>\n",
       "      <td>0.139889</td>\n",
       "      <td>-0.042718</td>\n",
       "      <td>-0.043635</td>\n",
       "      <td>-0.056947</td>\n",
       "      <td>-0.147696</td>\n",
       "      <td>0.035572</td>\n",
       "      <td>0.146923</td>\n",
       "      <td>0.238108</td>\n",
       "      <td>0.158252</td>\n",
       "      <td>0.126047</td>\n",
       "      <td>0.027125</td>\n",
       "      <td>0.062785</td>\n",
       "      <td>-0.010463</td>\n",
       "      <td>0.116023</td>\n",
       "    </tr>\n",
       "    <tr>\n",
       "      <th>2</th>\n",
       "      <td>908</td>\n",
       "      <td>8.5</td>\n",
       "      <td>0</td>\n",
       "      <td>3980</td>\n",
       "      <td>13</td>\n",
       "      <td>8</td>\n",
       "      <td>9.2</td>\n",
       "      <td>5</td>\n",
       "      <td>2</td>\n",
       "      <td>1</td>\n",
       "      <td>1</td>\n",
       "      <td>2016</td>\n",
       "      <td>great ipads room breakfast amazing</td>\n",
       "      <td>0.725</td>\n",
       "      <td>0.000</td>\n",
       "      <td>0.275</td>\n",
       "      <td>[great, ipads, room, breakfast, amazing]</td>\n",
       "      <td>-0.050798</td>\n",
       "      <td>0.298618</td>\n",
       "      <td>0.081325</td>\n",
       "      <td>-0.167925</td>\n",
       "      <td>0.009825</td>\n",
       "      <td>0.048860</td>\n",
       "      <td>0.040483</td>\n",
       "      <td>-0.396028</td>\n",
       "      <td>0.085866</td>\n",
       "      <td>1.622530</td>\n",
       "      <td>-0.009072</td>\n",
       "      <td>0.202159</td>\n",
       "      <td>-0.168738</td>\n",
       "      <td>0.143043</td>\n",
       "      <td>0.006637</td>\n",
       "      <td>-0.212327</td>\n",
       "      <td>-0.216294</td>\n",
       "      <td>1.085710</td>\n",
       "      <td>-0.135042</td>\n",
       "      <td>-0.100572</td>\n",
       "      <td>-0.100984</td>\n",
       "      <td>0.147156</td>\n",
       "      <td>0.093828</td>\n",
       "      <td>...</td>\n",
       "      <td>0.190686</td>\n",
       "      <td>-0.085137</td>\n",
       "      <td>0.000110</td>\n",
       "      <td>-0.050065</td>\n",
       "      <td>-0.121035</td>\n",
       "      <td>-0.017768</td>\n",
       "      <td>-0.081698</td>\n",
       "      <td>0.047383</td>\n",
       "      <td>-0.415252</td>\n",
       "      <td>0.301847</td>\n",
       "      <td>-0.709974</td>\n",
       "      <td>-0.000011</td>\n",
       "      <td>-0.053813</td>\n",
       "      <td>-0.348882</td>\n",
       "      <td>-0.218330</td>\n",
       "      <td>0.044074</td>\n",
       "      <td>-0.156776</td>\n",
       "      <td>-0.114451</td>\n",
       "      <td>0.074144</td>\n",
       "      <td>0.231735</td>\n",
       "      <td>0.106206</td>\n",
       "      <td>-0.085150</td>\n",
       "      <td>-0.334764</td>\n",
       "      <td>0.075018</td>\n",
       "      <td>0.081898</td>\n",
       "      <td>0.054297</td>\n",
       "      <td>0.513510</td>\n",
       "      <td>0.114639</td>\n",
       "      <td>-0.239345</td>\n",
       "      <td>0.294506</td>\n",
       "      <td>-0.077523</td>\n",
       "      <td>0.086594</td>\n",
       "      <td>0.134304</td>\n",
       "      <td>-0.001710</td>\n",
       "      <td>0.050460</td>\n",
       "      <td>0.304261</td>\n",
       "      <td>0.147864</td>\n",
       "      <td>-0.178569</td>\n",
       "      <td>-0.066553</td>\n",
       "      <td>0.253098</td>\n",
       "    </tr>\n",
       "    <tr>\n",
       "      <th>3</th>\n",
       "      <td>117</td>\n",
       "      <td>8.3</td>\n",
       "      <td>47</td>\n",
       "      <td>694</td>\n",
       "      <td>79</td>\n",
       "      <td>1</td>\n",
       "      <td>9.2</td>\n",
       "      <td>1</td>\n",
       "      <td>7</td>\n",
       "      <td>1</td>\n",
       "      <td>6</td>\n",
       "      <td>2017</td>\n",
       "      <td>one small issue room coffee machine come stand...</td>\n",
       "      <td>0.405</td>\n",
       "      <td>0.000</td>\n",
       "      <td>0.595</td>\n",
       "      <td>[one, small, issue, room, coffee, machine, com...</td>\n",
       "      <td>0.057820</td>\n",
       "      <td>0.084160</td>\n",
       "      <td>-0.089397</td>\n",
       "      <td>-0.042833</td>\n",
       "      <td>0.119603</td>\n",
       "      <td>-0.090004</td>\n",
       "      <td>0.039040</td>\n",
       "      <td>-0.231818</td>\n",
       "      <td>0.007156</td>\n",
       "      <td>2.038811</td>\n",
       "      <td>-0.107081</td>\n",
       "      <td>-0.050753</td>\n",
       "      <td>-0.007168</td>\n",
       "      <td>-0.038500</td>\n",
       "      <td>-0.174421</td>\n",
       "      <td>-0.108466</td>\n",
       "      <td>-0.095586</td>\n",
       "      <td>1.105595</td>\n",
       "      <td>-0.014705</td>\n",
       "      <td>-0.018331</td>\n",
       "      <td>-0.124436</td>\n",
       "      <td>0.035957</td>\n",
       "      <td>0.022945</td>\n",
       "      <td>...</td>\n",
       "      <td>-0.023400</td>\n",
       "      <td>0.113343</td>\n",
       "      <td>0.041654</td>\n",
       "      <td>-0.028180</td>\n",
       "      <td>0.048262</td>\n",
       "      <td>-0.048009</td>\n",
       "      <td>0.012427</td>\n",
       "      <td>0.103105</td>\n",
       "      <td>-0.171147</td>\n",
       "      <td>0.118400</td>\n",
       "      <td>-0.273646</td>\n",
       "      <td>-0.017545</td>\n",
       "      <td>-0.005818</td>\n",
       "      <td>-0.297648</td>\n",
       "      <td>-0.137878</td>\n",
       "      <td>0.073372</td>\n",
       "      <td>0.049315</td>\n",
       "      <td>-0.027886</td>\n",
       "      <td>0.079371</td>\n",
       "      <td>0.220657</td>\n",
       "      <td>0.110310</td>\n",
       "      <td>0.075255</td>\n",
       "      <td>-0.069140</td>\n",
       "      <td>0.060093</td>\n",
       "      <td>-0.061836</td>\n",
       "      <td>-0.044726</td>\n",
       "      <td>0.144833</td>\n",
       "      <td>-0.045666</td>\n",
       "      <td>0.058723</td>\n",
       "      <td>0.071528</td>\n",
       "      <td>-0.073542</td>\n",
       "      <td>0.048310</td>\n",
       "      <td>0.121087</td>\n",
       "      <td>0.045395</td>\n",
       "      <td>0.157800</td>\n",
       "      <td>0.140316</td>\n",
       "      <td>0.097595</td>\n",
       "      <td>-0.057159</td>\n",
       "      <td>0.022012</td>\n",
       "      <td>0.141138</td>\n",
       "    </tr>\n",
       "    <tr>\n",
       "      <th>4</th>\n",
       "      <td>300</td>\n",
       "      <td>9.0</td>\n",
       "      <td>68</td>\n",
       "      <td>1254</td>\n",
       "      <td>25</td>\n",
       "      <td>1</td>\n",
       "      <td>9.6</td>\n",
       "      <td>5</td>\n",
       "      <td>3</td>\n",
       "      <td>1</td>\n",
       "      <td>1</td>\n",
       "      <td>2016</td>\n",
       "      <td>price breakfast high went amazing cafe road hi...</td>\n",
       "      <td>0.342</td>\n",
       "      <td>0.077</td>\n",
       "      <td>0.581</td>\n",
       "      <td>[price, breakfast, high, went, amazing, cafe, ...</td>\n",
       "      <td>0.107600</td>\n",
       "      <td>0.279675</td>\n",
       "      <td>-0.087220</td>\n",
       "      <td>-0.105403</td>\n",
       "      <td>0.166572</td>\n",
       "      <td>0.027403</td>\n",
       "      <td>0.019040</td>\n",
       "      <td>-0.164288</td>\n",
       "      <td>-0.041115</td>\n",
       "      <td>2.092286</td>\n",
       "      <td>-0.201163</td>\n",
       "      <td>0.081607</td>\n",
       "      <td>-0.000543</td>\n",
       "      <td>-0.018393</td>\n",
       "      <td>-0.145548</td>\n",
       "      <td>-0.097080</td>\n",
       "      <td>-0.123835</td>\n",
       "      <td>1.218874</td>\n",
       "      <td>-0.071706</td>\n",
       "      <td>-0.076328</td>\n",
       "      <td>-0.071687</td>\n",
       "      <td>0.026098</td>\n",
       "      <td>-0.014527</td>\n",
       "      <td>...</td>\n",
       "      <td>0.097045</td>\n",
       "      <td>0.074463</td>\n",
       "      <td>0.128536</td>\n",
       "      <td>-0.037402</td>\n",
       "      <td>0.057124</td>\n",
       "      <td>-0.070652</td>\n",
       "      <td>0.083820</td>\n",
       "      <td>0.083511</td>\n",
       "      <td>-0.005633</td>\n",
       "      <td>0.158433</td>\n",
       "      <td>-0.329919</td>\n",
       "      <td>0.045875</td>\n",
       "      <td>-0.017567</td>\n",
       "      <td>-0.139160</td>\n",
       "      <td>-0.076024</td>\n",
       "      <td>0.123302</td>\n",
       "      <td>0.060318</td>\n",
       "      <td>-0.057109</td>\n",
       "      <td>0.063125</td>\n",
       "      <td>0.195863</td>\n",
       "      <td>0.126020</td>\n",
       "      <td>0.016282</td>\n",
       "      <td>-0.014043</td>\n",
       "      <td>0.100787</td>\n",
       "      <td>-0.102289</td>\n",
       "      <td>0.066553</td>\n",
       "      <td>0.217190</td>\n",
       "      <td>-0.001552</td>\n",
       "      <td>0.031247</td>\n",
       "      <td>-0.011544</td>\n",
       "      <td>-0.163340</td>\n",
       "      <td>0.149986</td>\n",
       "      <td>0.025859</td>\n",
       "      <td>0.049964</td>\n",
       "      <td>0.169566</td>\n",
       "      <td>0.005540</td>\n",
       "      <td>0.042863</td>\n",
       "      <td>-0.024802</td>\n",
       "      <td>0.030713</td>\n",
       "      <td>0.171618</td>\n",
       "    </tr>\n",
       "  </tbody>\n",
       "</table>\n",
       "<p>5 rows × 317 columns</p>\n",
       "</div>"
      ],
      "text/plain": [
       "   Additional_Number_of_Scoring  Average_Score  ...       298       299\n",
       "0                           241            8.2  ...  0.003954  0.155291\n",
       "1                           493            8.6  ... -0.010463  0.116023\n",
       "2                           908            8.5  ... -0.066553  0.253098\n",
       "3                           117            8.3  ...  0.022012  0.141138\n",
       "4                           300            9.0  ...  0.030713  0.171618\n",
       "\n",
       "[5 rows x 317 columns]"
      ]
     },
     "execution_count": 3,
     "metadata": {
      "tags": []
     },
     "output_type": "execute_result"
    }
   ],
   "source": [
    "df = pd.read_pickle('/content/drive/MyDrive/Machine_Learning/df_glove (1).pkl')\n",
    "df.head()"
   ]
  },
  {
   "cell_type": "code",
   "execution_count": null,
   "metadata": {
    "id": "moIgmC43bY_j"
   },
   "outputs": [],
   "source": [
    "from sklearn.preprocessing import StandardScaler\n",
    "from sklearn.ensemble import BaggingRegressor,RandomForestRegressor,AdaBoostRegressor,GradientBoostingRegressor\n",
    "from sklearn import model_selection\n",
    "from sklearn import metrics\n",
    "from sklearn.preprocessing import StandardScaler\n",
    "from sklearn.impute import KNNImputer\n",
    "from sklearn.tree import DecisionTreeClassifier, DecisionTreeRegressor\n",
    "from sklearn.model_selection import GridSearchCV\n",
    "from sklearn.pipeline import Pipeline\n",
    "from sklearn.neighbors import KNeighborsRegressor\n",
    "from sklearn.compose import ColumnTransformer\n",
    "from sklearn.feature_extraction.text import TfidfVectorizer\n",
    "from sklearn.linear_model import LogisticRegression\n",
    "from sklearn.pipeline import Pipeline\n",
    "from sklearn.preprocessing import OneHotEncoder\n",
    "from warnings import filterwarnings\n",
    "filterwarnings('ignore')"
   ]
  },
  {
   "cell_type": "code",
   "execution_count": null,
   "metadata": {
    "id": "5Kp6BExibZ8c"
   },
   "outputs": [],
   "source": [
    "\n"
   ]
  },
  {
   "cell_type": "code",
   "execution_count": null,
   "metadata": {
    "colab": {
     "base_uri": "https://localhost:8080/"
    },
    "id": "aKILQ_DbfMsp",
    "outputId": "d0a5e432-841f-409e-92cf-cbc447fedfb6"
   },
   "outputs": [
    {
     "data": {
      "text/plain": [
       "Additional_Number_of_Scoring          0\n",
       "Average_Score                         0\n",
       "Review_Total_Negative_Word_Counts     0\n",
       "Total_Number_of_Reviews               0\n",
       "Review_Total_Positive_Word_Counts     0\n",
       "                                     ..\n",
       "295                                  51\n",
       "296                                  51\n",
       "297                                  51\n",
       "298                                  51\n",
       "299                                  51\n",
       "Length: 317, dtype: int64"
      ]
     },
     "execution_count": 5,
     "metadata": {
      "tags": []
     },
     "output_type": "execute_result"
    }
   ],
   "source": [
    "# we have null values as the word's representation in the form of vector is not present in the glove file\n",
    "#hence we can drop as there is < 0.1% of missing vectorization of the words\n",
    "df.isnull().sum()"
   ]
  },
  {
   "cell_type": "code",
   "execution_count": null,
   "metadata": {
    "colab": {
     "base_uri": "https://localhost:8080/"
    },
    "id": "cw3W5KHkf2C1",
    "outputId": "9a0f92ea-5af0-460c-efad-f7450e4e217e"
   },
   "outputs": [
    {
     "data": {
      "text/plain": [
       "(49626, 317)"
      ]
     },
     "execution_count": 6,
     "metadata": {
      "tags": []
     },
     "output_type": "execute_result"
    }
   ],
   "source": [
    "df = df.dropna()\n",
    "df.shape"
   ]
  },
  {
   "cell_type": "code",
   "execution_count": null,
   "metadata": {
    "id": "uqPCl-iQgb4a"
   },
   "outputs": [],
   "source": [
    "X = df.drop(['Combined_pos','Combined_neg','Combined_neu','reviews_processed','Tokenized_Combined','Review_Total_Negative_Word_Counts','Total_Number_of_Reviews','Review_Total_Positive_Word_Counts'],axis=1)\n",
    "y = df['Combined_pos']\n",
    "y1 = df['Combined_neg']"
   ]
  },
  {
   "cell_type": "code",
   "execution_count": null,
   "metadata": {
    "colab": {
     "base_uri": "https://localhost:8080/",
     "height": 260
    },
    "id": "6koAu4o68ZuF",
    "outputId": "76420371-92c3-4067-9a78-ecb03ba9ea2e"
   },
   "outputs": [
    {
     "data": {
      "text/html": [
       "<div>\n",
       "<style scoped>\n",
       "    .dataframe tbody tr th:only-of-type {\n",
       "        vertical-align: middle;\n",
       "    }\n",
       "\n",
       "    .dataframe tbody tr th {\n",
       "        vertical-align: top;\n",
       "    }\n",
       "\n",
       "    .dataframe thead th {\n",
       "        text-align: right;\n",
       "    }\n",
       "</style>\n",
       "<table border=\"1\" class=\"dataframe\">\n",
       "  <thead>\n",
       "    <tr style=\"text-align: right;\">\n",
       "      <th></th>\n",
       "      <th>Additional_Number_of_Scoring</th>\n",
       "      <th>Average_Score</th>\n",
       "      <th>Total_Number_of_Reviews_Reviewer_Has_Given</th>\n",
       "      <th>Reviewer_Score</th>\n",
       "      <th>Hotel_Country</th>\n",
       "      <th>review_month</th>\n",
       "      <th>Trip</th>\n",
       "      <th>Stayed nights</th>\n",
       "      <th>yr</th>\n",
       "      <th>0</th>\n",
       "      <th>1</th>\n",
       "      <th>2</th>\n",
       "      <th>3</th>\n",
       "      <th>4</th>\n",
       "      <th>5</th>\n",
       "      <th>6</th>\n",
       "      <th>7</th>\n",
       "      <th>8</th>\n",
       "      <th>9</th>\n",
       "      <th>10</th>\n",
       "      <th>11</th>\n",
       "      <th>12</th>\n",
       "      <th>13</th>\n",
       "      <th>14</th>\n",
       "      <th>15</th>\n",
       "      <th>16</th>\n",
       "      <th>17</th>\n",
       "      <th>18</th>\n",
       "      <th>19</th>\n",
       "      <th>20</th>\n",
       "      <th>21</th>\n",
       "      <th>22</th>\n",
       "      <th>23</th>\n",
       "      <th>24</th>\n",
       "      <th>25</th>\n",
       "      <th>26</th>\n",
       "      <th>27</th>\n",
       "      <th>28</th>\n",
       "      <th>29</th>\n",
       "      <th>30</th>\n",
       "      <th>...</th>\n",
       "      <th>260</th>\n",
       "      <th>261</th>\n",
       "      <th>262</th>\n",
       "      <th>263</th>\n",
       "      <th>264</th>\n",
       "      <th>265</th>\n",
       "      <th>266</th>\n",
       "      <th>267</th>\n",
       "      <th>268</th>\n",
       "      <th>269</th>\n",
       "      <th>270</th>\n",
       "      <th>271</th>\n",
       "      <th>272</th>\n",
       "      <th>273</th>\n",
       "      <th>274</th>\n",
       "      <th>275</th>\n",
       "      <th>276</th>\n",
       "      <th>277</th>\n",
       "      <th>278</th>\n",
       "      <th>279</th>\n",
       "      <th>280</th>\n",
       "      <th>281</th>\n",
       "      <th>282</th>\n",
       "      <th>283</th>\n",
       "      <th>284</th>\n",
       "      <th>285</th>\n",
       "      <th>286</th>\n",
       "      <th>287</th>\n",
       "      <th>288</th>\n",
       "      <th>289</th>\n",
       "      <th>290</th>\n",
       "      <th>291</th>\n",
       "      <th>292</th>\n",
       "      <th>293</th>\n",
       "      <th>294</th>\n",
       "      <th>295</th>\n",
       "      <th>296</th>\n",
       "      <th>297</th>\n",
       "      <th>298</th>\n",
       "      <th>299</th>\n",
       "    </tr>\n",
       "  </thead>\n",
       "  <tbody>\n",
       "    <tr>\n",
       "      <th>0</th>\n",
       "      <td>241</td>\n",
       "      <td>8.2</td>\n",
       "      <td>8</td>\n",
       "      <td>7.5</td>\n",
       "      <td>4</td>\n",
       "      <td>8</td>\n",
       "      <td>1</td>\n",
       "      <td>6</td>\n",
       "      <td>2016</td>\n",
       "      <td>0.129054</td>\n",
       "      <td>0.079749</td>\n",
       "      <td>-0.050408</td>\n",
       "      <td>-0.110894</td>\n",
       "      <td>0.102034</td>\n",
       "      <td>-0.064348</td>\n",
       "      <td>-0.012721</td>\n",
       "      <td>-0.248734</td>\n",
       "      <td>-0.054468</td>\n",
       "      <td>2.084704</td>\n",
       "      <td>-0.143764</td>\n",
       "      <td>-0.059989</td>\n",
       "      <td>-0.006257</td>\n",
       "      <td>0.010781</td>\n",
       "      <td>-0.189668</td>\n",
       "      <td>-0.082259</td>\n",
       "      <td>-0.125823</td>\n",
       "      <td>1.207873</td>\n",
       "      <td>-0.002224</td>\n",
       "      <td>-0.024382</td>\n",
       "      <td>-0.108933</td>\n",
       "      <td>0.106985</td>\n",
       "      <td>0.007620</td>\n",
       "      <td>-0.081260</td>\n",
       "      <td>0.009534</td>\n",
       "      <td>-0.032365</td>\n",
       "      <td>-0.127256</td>\n",
       "      <td>-0.088589</td>\n",
       "      <td>-0.010015</td>\n",
       "      <td>0.015200</td>\n",
       "      <td>0.035668</td>\n",
       "      <td>...</td>\n",
       "      <td>0.118776</td>\n",
       "      <td>0.137813</td>\n",
       "      <td>0.059716</td>\n",
       "      <td>-0.039166</td>\n",
       "      <td>0.125360</td>\n",
       "      <td>-0.087997</td>\n",
       "      <td>-0.039846</td>\n",
       "      <td>0.060813</td>\n",
       "      <td>-0.182784</td>\n",
       "      <td>0.050778</td>\n",
       "      <td>-0.196915</td>\n",
       "      <td>-0.083890</td>\n",
       "      <td>-0.053765</td>\n",
       "      <td>-0.196452</td>\n",
       "      <td>-0.044017</td>\n",
       "      <td>0.084974</td>\n",
       "      <td>0.079902</td>\n",
       "      <td>-0.004446</td>\n",
       "      <td>0.018754</td>\n",
       "      <td>0.209559</td>\n",
       "      <td>0.140798</td>\n",
       "      <td>-0.057263</td>\n",
       "      <td>-0.047999</td>\n",
       "      <td>0.111542</td>\n",
       "      <td>-0.080811</td>\n",
       "      <td>-0.027021</td>\n",
       "      <td>0.131718</td>\n",
       "      <td>-0.071210</td>\n",
       "      <td>0.084022</td>\n",
       "      <td>0.105295</td>\n",
       "      <td>-0.071844</td>\n",
       "      <td>-0.008121</td>\n",
       "      <td>0.080809</td>\n",
       "      <td>-0.087931</td>\n",
       "      <td>0.127123</td>\n",
       "      <td>0.123818</td>\n",
       "      <td>-0.025628</td>\n",
       "      <td>-0.064460</td>\n",
       "      <td>0.003954</td>\n",
       "      <td>0.155291</td>\n",
       "    </tr>\n",
       "    <tr>\n",
       "      <th>1</th>\n",
       "      <td>493</td>\n",
       "      <td>8.6</td>\n",
       "      <td>3</td>\n",
       "      <td>5.4</td>\n",
       "      <td>3</td>\n",
       "      <td>12</td>\n",
       "      <td>0</td>\n",
       "      <td>2</td>\n",
       "      <td>2016</td>\n",
       "      <td>0.232902</td>\n",
       "      <td>0.022285</td>\n",
       "      <td>-0.259465</td>\n",
       "      <td>-0.089257</td>\n",
       "      <td>0.229690</td>\n",
       "      <td>-0.065396</td>\n",
       "      <td>-0.118838</td>\n",
       "      <td>-0.272194</td>\n",
       "      <td>0.032207</td>\n",
       "      <td>2.370185</td>\n",
       "      <td>-0.279649</td>\n",
       "      <td>-0.102468</td>\n",
       "      <td>0.024799</td>\n",
       "      <td>-0.017472</td>\n",
       "      <td>-0.264171</td>\n",
       "      <td>0.059629</td>\n",
       "      <td>0.012431</td>\n",
       "      <td>1.332335</td>\n",
       "      <td>0.114094</td>\n",
       "      <td>-0.080576</td>\n",
       "      <td>0.012140</td>\n",
       "      <td>-0.018307</td>\n",
       "      <td>0.075269</td>\n",
       "      <td>0.071007</td>\n",
       "      <td>0.167984</td>\n",
       "      <td>-0.057332</td>\n",
       "      <td>-0.124668</td>\n",
       "      <td>0.003925</td>\n",
       "      <td>-0.135837</td>\n",
       "      <td>0.247754</td>\n",
       "      <td>0.180954</td>\n",
       "      <td>...</td>\n",
       "      <td>0.115185</td>\n",
       "      <td>-0.022977</td>\n",
       "      <td>0.137514</td>\n",
       "      <td>-0.057224</td>\n",
       "      <td>-0.128971</td>\n",
       "      <td>-0.204318</td>\n",
       "      <td>0.010752</td>\n",
       "      <td>-0.004391</td>\n",
       "      <td>-0.642758</td>\n",
       "      <td>0.019346</td>\n",
       "      <td>-0.233412</td>\n",
       "      <td>0.062402</td>\n",
       "      <td>-0.126798</td>\n",
       "      <td>-0.342792</td>\n",
       "      <td>-0.065422</td>\n",
       "      <td>-0.069778</td>\n",
       "      <td>0.156276</td>\n",
       "      <td>-0.028852</td>\n",
       "      <td>-0.028522</td>\n",
       "      <td>0.106706</td>\n",
       "      <td>0.198023</td>\n",
       "      <td>0.103284</td>\n",
       "      <td>-0.159746</td>\n",
       "      <td>0.080849</td>\n",
       "      <td>-0.027057</td>\n",
       "      <td>0.106564</td>\n",
       "      <td>0.139889</td>\n",
       "      <td>-0.042718</td>\n",
       "      <td>-0.043635</td>\n",
       "      <td>-0.056947</td>\n",
       "      <td>-0.147696</td>\n",
       "      <td>0.035572</td>\n",
       "      <td>0.146923</td>\n",
       "      <td>0.238108</td>\n",
       "      <td>0.158252</td>\n",
       "      <td>0.126047</td>\n",
       "      <td>0.027125</td>\n",
       "      <td>0.062785</td>\n",
       "      <td>-0.010463</td>\n",
       "      <td>0.116023</td>\n",
       "    </tr>\n",
       "    <tr>\n",
       "      <th>2</th>\n",
       "      <td>908</td>\n",
       "      <td>8.5</td>\n",
       "      <td>8</td>\n",
       "      <td>9.2</td>\n",
       "      <td>5</td>\n",
       "      <td>2</td>\n",
       "      <td>1</td>\n",
       "      <td>1</td>\n",
       "      <td>2016</td>\n",
       "      <td>-0.050798</td>\n",
       "      <td>0.298618</td>\n",
       "      <td>0.081325</td>\n",
       "      <td>-0.167925</td>\n",
       "      <td>0.009825</td>\n",
       "      <td>0.048860</td>\n",
       "      <td>0.040483</td>\n",
       "      <td>-0.396028</td>\n",
       "      <td>0.085866</td>\n",
       "      <td>1.622530</td>\n",
       "      <td>-0.009072</td>\n",
       "      <td>0.202159</td>\n",
       "      <td>-0.168738</td>\n",
       "      <td>0.143043</td>\n",
       "      <td>0.006637</td>\n",
       "      <td>-0.212327</td>\n",
       "      <td>-0.216294</td>\n",
       "      <td>1.085710</td>\n",
       "      <td>-0.135042</td>\n",
       "      <td>-0.100572</td>\n",
       "      <td>-0.100984</td>\n",
       "      <td>0.147156</td>\n",
       "      <td>0.093828</td>\n",
       "      <td>-0.334318</td>\n",
       "      <td>0.003712</td>\n",
       "      <td>-0.006436</td>\n",
       "      <td>-0.149122</td>\n",
       "      <td>-0.158501</td>\n",
       "      <td>-0.229424</td>\n",
       "      <td>0.082491</td>\n",
       "      <td>0.126938</td>\n",
       "      <td>...</td>\n",
       "      <td>0.190686</td>\n",
       "      <td>-0.085137</td>\n",
       "      <td>0.000110</td>\n",
       "      <td>-0.050065</td>\n",
       "      <td>-0.121035</td>\n",
       "      <td>-0.017768</td>\n",
       "      <td>-0.081698</td>\n",
       "      <td>0.047383</td>\n",
       "      <td>-0.415252</td>\n",
       "      <td>0.301847</td>\n",
       "      <td>-0.709974</td>\n",
       "      <td>-0.000011</td>\n",
       "      <td>-0.053813</td>\n",
       "      <td>-0.348882</td>\n",
       "      <td>-0.218330</td>\n",
       "      <td>0.044074</td>\n",
       "      <td>-0.156776</td>\n",
       "      <td>-0.114451</td>\n",
       "      <td>0.074144</td>\n",
       "      <td>0.231735</td>\n",
       "      <td>0.106206</td>\n",
       "      <td>-0.085150</td>\n",
       "      <td>-0.334764</td>\n",
       "      <td>0.075018</td>\n",
       "      <td>0.081898</td>\n",
       "      <td>0.054297</td>\n",
       "      <td>0.513510</td>\n",
       "      <td>0.114639</td>\n",
       "      <td>-0.239345</td>\n",
       "      <td>0.294506</td>\n",
       "      <td>-0.077523</td>\n",
       "      <td>0.086594</td>\n",
       "      <td>0.134304</td>\n",
       "      <td>-0.001710</td>\n",
       "      <td>0.050460</td>\n",
       "      <td>0.304261</td>\n",
       "      <td>0.147864</td>\n",
       "      <td>-0.178569</td>\n",
       "      <td>-0.066553</td>\n",
       "      <td>0.253098</td>\n",
       "    </tr>\n",
       "    <tr>\n",
       "      <th>3</th>\n",
       "      <td>117</td>\n",
       "      <td>8.3</td>\n",
       "      <td>1</td>\n",
       "      <td>9.2</td>\n",
       "      <td>1</td>\n",
       "      <td>7</td>\n",
       "      <td>1</td>\n",
       "      <td>6</td>\n",
       "      <td>2017</td>\n",
       "      <td>0.057820</td>\n",
       "      <td>0.084160</td>\n",
       "      <td>-0.089397</td>\n",
       "      <td>-0.042833</td>\n",
       "      <td>0.119603</td>\n",
       "      <td>-0.090004</td>\n",
       "      <td>0.039040</td>\n",
       "      <td>-0.231818</td>\n",
       "      <td>0.007156</td>\n",
       "      <td>2.038811</td>\n",
       "      <td>-0.107081</td>\n",
       "      <td>-0.050753</td>\n",
       "      <td>-0.007168</td>\n",
       "      <td>-0.038500</td>\n",
       "      <td>-0.174421</td>\n",
       "      <td>-0.108466</td>\n",
       "      <td>-0.095586</td>\n",
       "      <td>1.105595</td>\n",
       "      <td>-0.014705</td>\n",
       "      <td>-0.018331</td>\n",
       "      <td>-0.124436</td>\n",
       "      <td>0.035957</td>\n",
       "      <td>0.022945</td>\n",
       "      <td>-0.143455</td>\n",
       "      <td>0.016697</td>\n",
       "      <td>-0.038881</td>\n",
       "      <td>-0.081588</td>\n",
       "      <td>-0.097506</td>\n",
       "      <td>-0.037626</td>\n",
       "      <td>-0.075746</td>\n",
       "      <td>0.050078</td>\n",
       "      <td>...</td>\n",
       "      <td>-0.023400</td>\n",
       "      <td>0.113343</td>\n",
       "      <td>0.041654</td>\n",
       "      <td>-0.028180</td>\n",
       "      <td>0.048262</td>\n",
       "      <td>-0.048009</td>\n",
       "      <td>0.012427</td>\n",
       "      <td>0.103105</td>\n",
       "      <td>-0.171147</td>\n",
       "      <td>0.118400</td>\n",
       "      <td>-0.273646</td>\n",
       "      <td>-0.017545</td>\n",
       "      <td>-0.005818</td>\n",
       "      <td>-0.297648</td>\n",
       "      <td>-0.137878</td>\n",
       "      <td>0.073372</td>\n",
       "      <td>0.049315</td>\n",
       "      <td>-0.027886</td>\n",
       "      <td>0.079371</td>\n",
       "      <td>0.220657</td>\n",
       "      <td>0.110310</td>\n",
       "      <td>0.075255</td>\n",
       "      <td>-0.069140</td>\n",
       "      <td>0.060093</td>\n",
       "      <td>-0.061836</td>\n",
       "      <td>-0.044726</td>\n",
       "      <td>0.144833</td>\n",
       "      <td>-0.045666</td>\n",
       "      <td>0.058723</td>\n",
       "      <td>0.071528</td>\n",
       "      <td>-0.073542</td>\n",
       "      <td>0.048310</td>\n",
       "      <td>0.121087</td>\n",
       "      <td>0.045395</td>\n",
       "      <td>0.157800</td>\n",
       "      <td>0.140316</td>\n",
       "      <td>0.097595</td>\n",
       "      <td>-0.057159</td>\n",
       "      <td>0.022012</td>\n",
       "      <td>0.141138</td>\n",
       "    </tr>\n",
       "    <tr>\n",
       "      <th>4</th>\n",
       "      <td>300</td>\n",
       "      <td>9.0</td>\n",
       "      <td>1</td>\n",
       "      <td>9.6</td>\n",
       "      <td>5</td>\n",
       "      <td>3</td>\n",
       "      <td>1</td>\n",
       "      <td>1</td>\n",
       "      <td>2016</td>\n",
       "      <td>0.107600</td>\n",
       "      <td>0.279675</td>\n",
       "      <td>-0.087220</td>\n",
       "      <td>-0.105403</td>\n",
       "      <td>0.166572</td>\n",
       "      <td>0.027403</td>\n",
       "      <td>0.019040</td>\n",
       "      <td>-0.164288</td>\n",
       "      <td>-0.041115</td>\n",
       "      <td>2.092286</td>\n",
       "      <td>-0.201163</td>\n",
       "      <td>0.081607</td>\n",
       "      <td>-0.000543</td>\n",
       "      <td>-0.018393</td>\n",
       "      <td>-0.145548</td>\n",
       "      <td>-0.097080</td>\n",
       "      <td>-0.123835</td>\n",
       "      <td>1.218874</td>\n",
       "      <td>-0.071706</td>\n",
       "      <td>-0.076328</td>\n",
       "      <td>-0.071687</td>\n",
       "      <td>0.026098</td>\n",
       "      <td>-0.014527</td>\n",
       "      <td>-0.134299</td>\n",
       "      <td>0.043193</td>\n",
       "      <td>0.090234</td>\n",
       "      <td>-0.097431</td>\n",
       "      <td>-0.163667</td>\n",
       "      <td>-0.100003</td>\n",
       "      <td>0.013889</td>\n",
       "      <td>0.122834</td>\n",
       "      <td>...</td>\n",
       "      <td>0.097045</td>\n",
       "      <td>0.074463</td>\n",
       "      <td>0.128536</td>\n",
       "      <td>-0.037402</td>\n",
       "      <td>0.057124</td>\n",
       "      <td>-0.070652</td>\n",
       "      <td>0.083820</td>\n",
       "      <td>0.083511</td>\n",
       "      <td>-0.005633</td>\n",
       "      <td>0.158433</td>\n",
       "      <td>-0.329919</td>\n",
       "      <td>0.045875</td>\n",
       "      <td>-0.017567</td>\n",
       "      <td>-0.139160</td>\n",
       "      <td>-0.076024</td>\n",
       "      <td>0.123302</td>\n",
       "      <td>0.060318</td>\n",
       "      <td>-0.057109</td>\n",
       "      <td>0.063125</td>\n",
       "      <td>0.195863</td>\n",
       "      <td>0.126020</td>\n",
       "      <td>0.016282</td>\n",
       "      <td>-0.014043</td>\n",
       "      <td>0.100787</td>\n",
       "      <td>-0.102289</td>\n",
       "      <td>0.066553</td>\n",
       "      <td>0.217190</td>\n",
       "      <td>-0.001552</td>\n",
       "      <td>0.031247</td>\n",
       "      <td>-0.011544</td>\n",
       "      <td>-0.163340</td>\n",
       "      <td>0.149986</td>\n",
       "      <td>0.025859</td>\n",
       "      <td>0.049964</td>\n",
       "      <td>0.169566</td>\n",
       "      <td>0.005540</td>\n",
       "      <td>0.042863</td>\n",
       "      <td>-0.024802</td>\n",
       "      <td>0.030713</td>\n",
       "      <td>0.171618</td>\n",
       "    </tr>\n",
       "  </tbody>\n",
       "</table>\n",
       "<p>5 rows × 309 columns</p>\n",
       "</div>"
      ],
      "text/plain": [
       "   Additional_Number_of_Scoring  Average_Score  ...       298       299\n",
       "0                           241            8.2  ...  0.003954  0.155291\n",
       "1                           493            8.6  ... -0.010463  0.116023\n",
       "2                           908            8.5  ... -0.066553  0.253098\n",
       "3                           117            8.3  ...  0.022012  0.141138\n",
       "4                           300            9.0  ...  0.030713  0.171618\n",
       "\n",
       "[5 rows x 309 columns]"
      ]
     },
     "execution_count": 8,
     "metadata": {
      "tags": []
     },
     "output_type": "execute_result"
    }
   ],
   "source": [
    "X.head()"
   ]
  },
  {
   "cell_type": "code",
   "execution_count": null,
   "metadata": {
    "colab": {
     "base_uri": "https://localhost:8080/"
    },
    "id": "oA4j7xXJhL6q",
    "outputId": "ad92185b-d507-4e73-ccd2-5c7a0e99fcec"
   },
   "outputs": [
    {
     "data": {
      "text/plain": [
       "0    0.155\n",
       "1    0.000\n",
       "2    0.725\n",
       "3    0.405\n",
       "4    0.342\n",
       "Name: Combined_pos, dtype: float64"
      ]
     },
     "execution_count": 9,
     "metadata": {
      "tags": []
     },
     "output_type": "execute_result"
    }
   ],
   "source": [
    "y.head()"
   ]
  },
  {
   "cell_type": "code",
   "execution_count": null,
   "metadata": {
    "id": "zZuSNazFdCew"
   },
   "outputs": [],
   "source": [
    "# # DecisionTree\n",
    "\n",
    "# # #sub model1: where target variable is 'Combined_pos'\n",
    "\n",
    "# param ={'dt__max_depth':np.arange(1,100)}\n",
    "\n",
    "# # preprocessor.fit_transform(df)\n",
    "# pipeline = Pipeline([\n",
    "#                     #  ('preprocessor', preprocessor),\n",
    "#                    ('sc',StandardScaler()),\n",
    "#                    ('dt', DecisionTreeRegressor()),\n",
    "# ])\n",
    "# grid = GridSearchCV(pipeline, param_grid= param,cv=3,scoring='neg_mean_squared_error')\n",
    "# grid.fit(X,y)\n",
    "# grid.best_params_\n",
    "# # grid.get_params().keys()"
   ]
  },
  {
   "cell_type": "code",
   "execution_count": null,
   "metadata": {
    "id": "GWWMUbs0dLBe"
   },
   "outputs": [],
   "source": [
    "\n",
    "# full_model1 = Pipeline([\n",
    "#                         # ('preprocessor', preprocessor),\n",
    "#                    ('sc',StandardScaler()),\n",
    "#                    ('dt', DecisionTreeRegressor(max_depth=36)),\n",
    "# ])\n",
    "# full_model1.fit(X,y)\n",
    "# scores = model_selection.cross_val_score(full_model1, X, y, cv= 3, scoring='neg_mean_squared_error')\n",
    "# rmse = np.sqrt(np.abs(scores))\n",
    "# print('bias_error',np.mean(rmse))\n",
    "# print('var_error',np.std(rmse,ddof=1))"
   ]
  },
  {
   "cell_type": "code",
   "execution_count": null,
   "metadata": {
    "id": "4buezno3dadF"
   },
   "outputs": [],
   "source": [
    "# # #sub model2: where target variable is 'Combined_neg'\n",
    "\n",
    "# param ={'dt__max_depth':np.arange(1,100)}\n",
    "# pipeline = Pipeline([\n",
    "#                     #  ('preprocessor', preprocessor),\n",
    "#                    ('sc',StandardScaler()),\n",
    "#                    ('dt', DecisionTreeRegressor()),\n",
    "# ])\n",
    "# grid = GridSearchCV(pipeline, param_grid= param,cv=3,scoring='neg_mean_squared_error')\n",
    "# grid.fit(X,y1)\n",
    "# grid.best_params_\n",
    "# # grid.get_params().keys()"
   ]
  },
  {
   "cell_type": "code",
   "execution_count": null,
   "metadata": {
    "id": "vOalw3-9dktz"
   },
   "outputs": [],
   "source": [
    "# full_model2 = Pipeline([\n",
    "#                         # ('preprocessor', preprocessor),\n",
    "#                    ('sc',StandardScaler()),\n",
    "#                    ('dt', DecisionTreeRegressor(max_depth=22)),\n",
    "# ])\n",
    "# full_model2.fit(X,y1)\n",
    "# scores = model_selection.cross_val_score(full_model2, X, y1, cv= 3, scoring='neg_mean_squared_error')\n",
    "# rmse = np.sqrt(np.abs(scores))\n",
    "# print('bias_error',np.mean(rmse))\n",
    "# print('var_error',np.std(rmse,ddof=1))"
   ]
  },
  {
   "cell_type": "code",
   "execution_count": null,
   "metadata": {
    "id": "oO3VzwW9en0h"
   },
   "outputs": [],
   "source": []
  },
  {
   "cell_type": "code",
   "execution_count": null,
   "metadata": {
    "id": "4HeMOVeZen9V"
   },
   "outputs": [],
   "source": [
    "# #Random Forest model :\n",
    "# #sub model1 : where target variable is 'Combined_pos'\n",
    "# rf_be=[]\n",
    "# rf_ve=[]\n",
    "# for n in np.arange(1,25):\n",
    "#   rf = RandomForestRegressor(n_estimators=n)\n",
    "#   kf=model_selection.KFold(shuffle=True,n_splits=3,random_state=0)\n",
    "#   score=model_selection.cross_val_score(rf,X,y,cv=kf,scoring='neg_mean_squared_error')\n",
    "#   rmse = np.sqrt(np.abs(score))\n",
    "#   rf_be.append(np.mean(rmse)),rf_ve.append(np.std(rmse,ddof=1))"
   ]
  },
  {
   "cell_type": "code",
   "execution_count": null,
   "metadata": {
    "id": "v8cyPdoJ5efQ"
   },
   "outputs": [],
   "source": [
    "# x_axis=np.arange(len(rf_ve))\n",
    "# plt.plot(x_axis,rf_ve)\n",
    "# np.min(rf_ve),np.argmin(rf_ve)"
   ]
  },
  {
   "cell_type": "code",
   "execution_count": null,
   "metadata": {
    "id": "cn9NxxmHoHwR"
   },
   "outputs": [],
   "source": [
    "# rf_ve"
   ]
  },
  {
   "cell_type": "code",
   "execution_count": null,
   "metadata": {
    "id": "in8Mljek3Gnn"
   },
   "outputs": [],
   "source": [
    "# rf_ve,np.argmin(rf_ve)"
   ]
  },
  {
   "cell_type": "code",
   "execution_count": null,
   "metadata": {
    "id": "OCKYR6Tlen_D"
   },
   "outputs": [],
   "source": [
    "# #sub model2 : where target variable is 'Combined_neg'\n",
    "# #Random Forest model :\n",
    "# #sub model1 : where target variable is 'Combined_pos'\n",
    "# rf_be1=[]\n",
    "# rf_ve1=[]\n",
    "# for n in np.arange(1,25):\n",
    "#   rf1 = RandomForestRegressor(n_estimators=n)\n",
    "#   kf=model_selection.KFold(shuffle=True,n_splits=3,random_state=0)\n",
    "#   # kf=model_selection.KFold(shuffle=True,n_splits=3,random_state=0)\n",
    "#   score=model_selection.cross_val_score(rf1,X,y1,cv=kf,scoring='neg_mean_squared_error')\n",
    "#   rmse = np.sqrt(np.abs(score))\n",
    "#   rf_be1.append(np.mean(rmse)),rf_ve1.append(np.std(rmse,ddof=1))\n",
    "#   # rf_be1.append(np.mean(score)),rf_ve1.append(np.std(score,ddof=1))"
   ]
  },
  {
   "cell_type": "code",
   "execution_count": null,
   "metadata": {
    "id": "_PXr2z8y52UG"
   },
   "outputs": [],
   "source": [
    "# x_axis=np.arange(len(rf_ve1))\n",
    "# plt.plot(x_axis,rf_ve1)\n",
    "# np.min(rf_ve1),np.argmin(rf_ve1)"
   ]
  },
  {
   "cell_type": "code",
   "execution_count": null,
   "metadata": {
    "id": "mF7PWKEXuZ3E"
   },
   "outputs": [],
   "source": [
    "# plt.plot([1,2,3,4,5,6,7,8,9],rf_be1,label='BE')\n",
    "# plt.plot([1,2,3,4,5,6,7,8,9],rf_ve1,label = 'VE')\n",
    "# plt.legend()"
   ]
  },
  {
   "cell_type": "code",
   "execution_count": null,
   "metadata": {
    "id": "72xFQUqOuGJc"
   },
   "outputs": [],
   "source": [
    "#with best n_estimators:\n",
    "# rf1 = RandomForestRegressor(n_estimators=2)\n",
    "# score=model_selection.cross_val_score(rf1,X,y1,cv= 3,scoring='neg_mean_squared_error')\n",
    "# rmse=np.sqrt(np.abs(score))\n",
    "# np.mean(rmse),np.std(rmse,ddof=1)"
   ]
  },
  {
   "cell_type": "code",
   "execution_count": null,
   "metadata": {
    "colab": {
     "base_uri": "https://localhost:8080/"
    },
    "id": "79vRHwxpuSJb",
    "outputId": "8220d31c-07ad-48a8-ea65-b3461b4e299c"
   },
   "outputs": [
    {
     "data": {
      "text/plain": [
       "{'ab__n_estimators': 6}"
      ]
     },
     "execution_count": 96,
     "metadata": {
      "tags": []
     },
     "output_type": "execute_result"
    }
   ],
   "source": [
    "#ada_boost_default_pos\n",
    "param ={'ab__n_estimators':np.arange(1,25)}\n",
    "\n",
    "# preprocessor.fit_transform(df)\n",
    "pipeline = Pipeline([\n",
    "                    #  ('preprocessor', preprocessor),\n",
    "                   ('sc',StandardScaler()),\n",
    "                   ('ab', AdaBoostRegressor()),\n",
    "])\n",
    "kf=model_selection.KFold(shuffle=True,n_splits=3,random_state=0)\n",
    "grid = GridSearchCV(pipeline, param_grid= param,cv=kf,scoring='neg_mean_squared_error')\n",
    "grid.fit(X,y)\n",
    "grid.best_params_"
   ]
  },
  {
   "cell_type": "code",
   "execution_count": null,
   "metadata": {
    "colab": {
     "base_uri": "https://localhost:8080/"
    },
    "id": "IN8S4KV1evvJ",
    "outputId": "3854fe28-75f9-4730-e855-a2d6cbe85d8a"
   },
   "outputs": [
    {
     "data": {
      "text/plain": [
       "{'ab__n_estimators': 1}"
      ]
     },
     "execution_count": 97,
     "metadata": {
      "tags": []
     },
     "output_type": "execute_result"
    }
   ],
   "source": [
    "#ada_boost_default_neg\n",
    "\n",
    "param ={'ab__n_estimators':np.arange(1,25)}\n",
    "\n",
    "# preprocessor.fit_transform(df)\n",
    "pipeline = Pipeline([\n",
    "                    #  ('preprocessor', preprocessor),\n",
    "                   ('sc',StandardScaler()),\n",
    "                   ('ab', AdaBoostRegressor()),\n",
    "])\n",
    "kf=model_selection.KFold(shuffle=True,n_splits=3,random_state=0)\n",
    "grid = GridSearchCV(pipeline, param_grid= param,cv=kf,scoring='neg_mean_squared_error')\n",
    "grid.fit(X,y1)\n",
    "grid.best_params_"
   ]
  },
  {
   "cell_type": "code",
   "execution_count": null,
   "metadata": {
    "colab": {
     "base_uri": "https://localhost:8080/"
    },
    "id": "qBPqk2NHAeDR",
    "outputId": "d86a0e69-7f23-4af2-ca2e-fa3a3fed4176"
   },
   "outputs": [
    {
     "data": {
      "text/plain": [
       "{'grad_boost_pos__n_estimators': 24}"
      ]
     },
     "execution_count": 99,
     "metadata": {
      "tags": []
     },
     "output_type": "execute_result"
    }
   ],
   "source": [
    "#Manideep\n",
    "\n",
    "#Gradient_Boosting_Regressor : Combined_pos\n",
    "\n",
    "param ={'grad_boost_pos__n_estimators':np.arange(1,25)}\n",
    "pipeline = Pipeline([\n",
    "                    #  ('preprocessor', preprocessor),\n",
    "                   ('sc',StandardScaler()),\n",
    "                   ('grad_boost_pos', GradientBoostingRegressor()),\n",
    "])\n",
    "grid = GridSearchCV(pipeline, param_grid= param,cv=3,scoring='neg_mean_squared_error')\n",
    "grid.fit(X,y)\n",
    "grid.best_params_"
   ]
  },
  {
   "cell_type": "code",
   "execution_count": null,
   "metadata": {
    "colab": {
     "base_uri": "https://localhost:8080/"
    },
    "id": "XigBRXCcAeHW",
    "outputId": "79ec5193-4bdd-41cb-baba-a1b508340d88"
   },
   "outputs": [
    {
     "data": {
      "text/plain": [
       "{'grad_boost_neg__n_estimators': 24}"
      ]
     },
     "execution_count": 98,
     "metadata": {
      "tags": []
     },
     "output_type": "execute_result"
    }
   ],
   "source": [
    "#Manideep\n",
    "\n",
    "#Gradient_Boosting_Regressor : Combined_neg\n",
    "\n",
    "param ={'grad_boost_neg__n_estimators':np.arange(1,25)}\n",
    "pipeline = Pipeline([\n",
    "                    #  ('preprocessor', preprocessor),\n",
    "                   ('sc',StandardScaler()),\n",
    "                   ('grad_boost_neg', GradientBoostingRegressor()),\n",
    "])\n",
    "grid = GridSearchCV(pipeline, param_grid= param,cv=3,scoring='neg_mean_squared_error')\n",
    "grid.fit(X,y1)\n",
    "grid.best_params_"
   ]
  },
  {
   "cell_type": "code",
   "execution_count": null,
   "metadata": {
    "id": "YT5yo7sheo0m"
   },
   "outputs": [],
   "source": [
    "#finalized_Models_ALL"
   ]
  },
  {
   "cell_type": "markdown",
   "metadata": {
    "id": "ZOx6v74leyuQ"
   },
   "source": [
    "# #finalized_Models_ALL"
   ]
  },
  {
   "cell_type": "markdown",
   "metadata": {
    "id": "aa6jS92dewV6"
   },
   "source": []
  },
  {
   "cell_type": "code",
   "execution_count": null,
   "metadata": {
    "id": "Fb52zwFreo_K"
   },
   "outputs": [],
   "source": []
  },
  {
   "cell_type": "code",
   "execution_count": null,
   "metadata": {
    "id": "h1IK8ZK0uSLm"
   },
   "outputs": [],
   "source": [
    "#FINALIZED_MODELS:\n",
    "# Srujan\n",
    "\n",
    "#Decision_tree_regressor: Combined_pos \n",
    "param ={'dt__max_depth':np.arange(1,25)}\n",
    "\n",
    "# preprocessor.fit_transform(df)\n",
    "pipeline = Pipeline([\n",
    "                    #  ('preprocessor', preprocessor),\n",
    "                   ('sc',StandardScaler()),\n",
    "                   ('dt', DecisionTreeRegressor()),\n",
    "])\n",
    "kf=model_selection.KFold(shuffle=True,n_splits=3,random_state=0)\n",
    "grid = GridSearchCV(pipeline, param_grid= param,cv=kf,scoring='neg_mean_squared_error')\n",
    "grid.fit(X,y)\n",
    "grid.best_params_\n",
    "#srujan ran this : got best params as 8"
   ]
  },
  {
   "cell_type": "code",
   "execution_count": null,
   "metadata": {
    "id": "zPfW3gaicklj"
   },
   "outputs": [],
   "source": [
    "# Srujan\n",
    "\n",
    "#Decision_tree_regressor: Combined_neg\n",
    "param ={'dt__max_depth':np.arange(1,25)}\n",
    "\n",
    "# preprocessor.fit_transform(df)\n",
    "pipeline = Pipeline([\n",
    "                    #  ('preprocessor', preprocessor),\n",
    "                   ('sc',StandardScaler()),\n",
    "                   ('dt', DecisionTreeRegressor()),\n",
    "])\n",
    "kf=model_selection.KFold(shuffle=True,n_splits=3,random_state=0)\n",
    "grid = GridSearchCV(pipeline, param_grid= param,cv=kf,scoring='neg_mean_squared_error')\n",
    "grid.fit(X,y1)\n",
    "grid.best_params_\n",
    "#srujan ran this : got best params as 6"
   ]
  },
  {
   "cell_type": "code",
   "execution_count": null,
   "metadata": {
    "id": "rNvyqoDYckoy"
   },
   "outputs": [],
   "source": [
    "# Srujan\n",
    "\n",
    "# KNN Regressor : Combined_pos\n",
    "# customised grid search CV\n",
    "knn_be=[]\n",
    "knn_ve=[]\n",
    "for i in np.arange(1,25):\n",
    "  knn=KNeighborsRegressor(n_neighbors=i)\n",
    "  kf=model_selection.KFold(shuffle=True,n_splits=3,random_state=0)\n",
    "  score=model_selection.cross_val_score(knn,X,y,cv=kf,scoring='neg_mean_squared_error')\n",
    "  rmse = np.sqrt(np.abs(score))\n",
    "  knn_be.append(np.mean(rmse)),knn_ve.append(np.std(rmse,ddof=1))\n",
    "\n",
    "# Srujan\n",
    "\n",
    "print(np.min(knn_ve))       #0.001411085759125044\n",
    "arg_var = np.argmin(knn_ve)\n",
    "print(arg_var) #17\n",
    "print(knn_be[arg_var]) #0.21614155248966016"
   ]
  },
  {
   "cell_type": "code",
   "execution_count": null,
   "metadata": {
    "id": "I6D6t5tPckrt"
   },
   "outputs": [],
   "source": []
  },
  {
   "cell_type": "code",
   "execution_count": null,
   "metadata": {
    "id": "jTOHP8rMckum"
   },
   "outputs": [],
   "source": [
    "# Godwin\n",
    "\n",
    "# KNN Regressor : Combined_neg\n",
    "# customised grid search CV\n",
    "knn_be1=[]\n",
    "knn_ve1=[]\n",
    "for i in np.arange(1,25):\n",
    "  knn=KNeighborsRegressor(n_neighbors=i)\n",
    "  kf=model_selection.KFold(shuffle=True,n_splits=3,random_state=0)\n",
    "  score=model_selection.cross_val_score(knn,X,y1,cv=kf,scoring='neg_mean_squared_error')\n",
    "  rmse = np.sqrt(np.abs(score))\n",
    "  knn_be1.append(np.mean(rmse)),knn_ve1.append(np.std(rmse,ddof=1))\n",
    "\n",
    "# Godwin\n",
    "\n",
    "print(np.min(knn_ve1)) #0.00133\n",
    "arg_var1 = np.argmin(knn_ve1) \n",
    "print(arg_var1) #2\n",
    "print(knn_be1[arg_var1]) 0.141168"
   ]
  },
  {
   "cell_type": "code",
   "execution_count": null,
   "metadata": {
    "id": "QuJIqEHodM4c"
   },
   "outputs": [],
   "source": []
  },
  {
   "cell_type": "code",
   "execution_count": null,
   "metadata": {
    "colab": {
     "base_uri": "https://localhost:8080/"
    },
    "id": "l-rSCEK1dM7p",
    "outputId": "e6155f40-67ad-42ff-b252-c54d5adf8638"
   },
   "outputs": [
    {
     "data": {
      "text/plain": [
       "{'grad_boost_neg__n_estimators': 49}"
      ]
     },
     "execution_count": 12,
     "metadata": {
      "tags": []
     },
     "output_type": "execute_result"
    }
   ],
   "source": [
    "#Sai\n",
    "\n",
    "#Gradient_Boosting_Regressor : Combined_neg\n",
    "\n",
    "param ={'grad_boost_neg__n_estimators':np.arange(25,50)}\n",
    "pipeline = Pipeline([\n",
    "                    #  ('preprocessor', preprocessor),\n",
    "                   ('sc',StandardScaler()),\n",
    "                   ('grad_boost_neg', GradientBoostingRegressor()),\n",
    "])\n",
    "grid = GridSearchCV(pipeline, param_grid= param,cv=3,scoring='neg_mean_squared_error')\n",
    "grid.fit(X,y1)\n",
    "grid.best_params_"
   ]
  },
  {
   "cell_type": "code",
   "execution_count": null,
   "metadata": {
    "id": "RBauINAndM-q"
   },
   "outputs": [],
   "source": [
    "# RF_Boosting_Regressor : Combined_pos\n",
    "\n",
    "RF_pos = RandomForestRegressor(n_estimators = 5)  # Random_Forest : n_estimators = 5 (already tuned), combined_pos\n",
    "\n",
    "param ={'rf_boost_pos__n_estimators':np.arange(1,25)}\n",
    "pipeline = Pipeline([\n",
    "                    #  ('preprocessor', preprocessor),\n",
    "                   ('sc',StandardScaler()),\n",
    "                   ('rf_boost_pos', AdaBoostRegressor(base_estimator= RF_pos)),\n",
    "])\n",
    "grid = GridSearchCV(pipeline, param_grid= param,cv=3,scoring='neg_mean_squared_error')\n",
    "grid.fit(X,y)\n",
    "grid.best_params_"
   ]
  },
  {
   "cell_type": "code",
   "execution_count": null,
   "metadata": {
    "id": "8RKAVveQdNB4"
   },
   "outputs": [],
   "source": []
  },
  {
   "cell_type": "code",
   "execution_count": null,
   "metadata": {
    "id": "fZBJFw1dckyg"
   },
   "outputs": [],
   "source": []
  },
  {
   "cell_type": "code",
   "execution_count": null,
   "metadata": {
    "id": "9Hmjpek1S9P-"
   },
   "outputs": [],
   "source": [
    "#Summarize all tuned models\n",
    "dt_reg_pos=DecisionTreeRegressor(max_depth=8,random_state=0) # updated\n",
    "dt_reg_neg=DecisionTreeRegressor(max_depth=6,random_state=0) # updated\n",
    "KNN_pos=KNeighborsRegressor(n_neighbors=2) #updated\n",
    "KNN_neg=KNeighborsRegressor(n_neighbors=1) #updated\n",
    "ada_boost_pos = AdaBoostRegressor(n_estimators=7,random_state=0) #updated\n",
    "ada_boost_neg = AdaBoostRegressor(n_estimators=2,random_state=0) #updated\n",
    "rf_pos = RandomForestRegressor(n_estimators=5,random_state=0) #updated\n",
    "rf_neg = RandomForestRegressor(n_estimators=2,random_state=0) #updated\n",
    "KNN_bagging_pos = BaggingRegressor(base_estimator = KNN_pos,n_estimators=23) #updated\n",
    "KNN_bagging_neg = BaggingRegressor(base_estimator = KNN_neg,n_estimators=2) \n",
    "RF_boost_pos=AdaBoostRegressor(base_estimator=rf_pos,n_estimators=24,random_state=0) #updatd\n",
    "RF_boost_neg=AdaBoostRegressor(base_estimator=rf_neg,n_estimators=24,random_state=0) #updated\n",
    "GBoost_pos=GradientBoostingRegressor(n_estimators=25,random_state=0) #updated\n",
    "GBoost_neg=GradientBoostingRegressor(n_estimators=25,random_state=0) #updated\n",
    "\n",
    "\n",
    "# stacked = VotingClassifier(estimators = [('Bagged_LR',LR_bag),('Logistic', LR), ('BoostedDT', dt_boost)],voting='soft')"
   ]
  },
  {
   "cell_type": "code",
   "execution_count": null,
   "metadata": {
    "id": "U8yYxL4dEZgf"
   },
   "outputs": [],
   "source": [
    "models=[]\n",
    "models.append(('DecTree_Pos',dt_reg_pos))\n",
    "models.append(('DecTree_Neg',dt_reg_neg))\n",
    "models.append(('KNN_Pos',KNN_pos))\n",
    "models.append(('KNN_neg',KNN_neg))\n",
    "models.append(('AdaBoost_pos',ada_boost_pos))\n",
    "models.append(('Adaboost_neg',ada_boost_neg))\n",
    "models.append(('RF_pos',rf_pos))\n",
    "models.append(('RF_neg',rf_neg))\n",
    "models.append(('Bagged_KNN_pos',KNN_bagging_pos))\n",
    "models.append(('Bagged_KNN_neg',KNN_bagging_neg))\n",
    "models.append(('Boosted_RF_pos',RF_boost_pos))\n",
    "models.append(('Boosted_RF_neg',RF_boost_neg))\n",
    "models.append(('Gboost_pos',GBoost_pos))\n",
    "models.append(('Gboost_neg',GBoost_neg))\n",
    "\n"
   ]
  },
  {
   "cell_type": "code",
   "execution_count": null,
   "metadata": {
    "id": "lOujYk0lxze-"
   },
   "outputs": [],
   "source": []
  },
  {
   "cell_type": "code",
   "execution_count": null,
   "metadata": {
    "colab": {
     "base_uri": "https://localhost:8080/",
     "height": 544
    },
    "id": "ImjLJxg8tMrp",
    "outputId": "81e8485a-07f8-47b3-b76c-5d4d375e73d0"
   },
   "outputs": [
    {
     "name": "stdout",
     "output_type": "stream",
     "text": [
      "DecTree_Pos         -->bias_error: 0.166688-->variance_error: 0.001243\n",
      "DecTree_Neg         -->bias_error: 0.169561-->variance_error: 0.000465\n",
      "KNN_Pos             -->bias_error: 0.236571-->variance_error: 0.001355\n",
      "KNN_neg             -->bias_error: 0.261692-->variance_error: 0.001726\n",
      "AdaBoost_pos        -->bias_error: 0.175734-->variance_error: 0.000627\n",
      "Adaboost_neg        -->bias_error: 0.185128-->variance_error: 0.001105\n",
      "RF_pos              -->bias_error: 0.150233-->variance_error: 0.001260\n",
      "RF_neg              -->bias_error: 0.171533-->variance_error: 0.001042\n",
      "Bagged_KNN_pos      -->bias_error: 0.225945-->variance_error: 0.001406\n",
      "Bagged_KNN_neg      -->bias_error: 0.250554-->variance_error: 0.000814\n",
      "Boosted_RF_pos      -->bias_error: 0.130985-->variance_error: 0.000999\n",
      "Boosted_RF_neg      -->bias_error: 0.132480-->variance_error: 0.000624\n",
      "Gboost_pos          -->bias_error: 0.156774-->variance_error: 0.001246\n",
      "Gboost_neg          -->bias_error: 0.156774-->variance_error: 0.001246\n"
     ]
    },
    {
     "data": {
      "image/png": "[encoded data removed]",
      "text/plain": [
       "<Figure size 432x288 with 1 Axes>"
      ]
     },
     "metadata": {
      "needs_background": "light",
      "tags": []
     },
     "output_type": "display_data"
    }
   ],
   "source": [
    "results = []\n",
    "names = []\n",
    "for name, model in models:\n",
    "\tkfold = model_selection.KFold(shuffle=True,n_splits=3,random_state=0)\n",
    "\tcv_results = model_selection.cross_val_score(model, X, y,cv=kfold,scoring='neg_mean_squared_error')\n",
    "\trmse = np.sqrt((np.abs(cv_results)))\n",
    "\tresults.append(rmse)\n",
    "\tnames.append(name)\n",
    "\tprint('{:20s}-->bias_error: {:2f}-->variance_error: {:2f}'.format(name, np.mean(rmse),np.std(rmse,ddof=1)))\n",
    "   # boxplot algorithm comparison\n",
    "fig = plt.figure()\n",
    "fig.suptitle('Algorithm Comparison')\n",
    "ax = fig.add_subplot(111)\n",
    "plt.boxplot(results)\n",
    "ax.set_xticklabels(names)\n",
    "plt.show()"
   ]
  },
  {
   "cell_type": "code",
   "execution_count": null,
   "metadata": {
    "id": "VMpwdSBMtk1T"
   },
   "outputs": [],
   "source": [
    "all_positive_models = results[0::2]\n",
    "all_positive_names = names[0::2]"
   ]
  },
  {
   "cell_type": "code",
   "execution_count": null,
   "metadata": {
    "id": "WBi3J0kvuug_"
   },
   "outputs": [],
   "source": []
  },
  {
   "cell_type": "code",
   "execution_count": null,
   "metadata": {
    "colab": {
     "base_uri": "https://localhost:8080/",
     "height": 618
    },
    "id": "_4p7V9fxr-fi",
    "outputId": "c2e5e23e-8658-4656-bee9-fbda41f9d3f7"
   },
   "outputs": [
    {
     "data": {
      "image/png": "[encoded data removed]",
      "text/plain": [
       "<Figure size 864x576 with 1 Axes>"
      ]
     },
     "metadata": {
      "needs_background": "light",
      "tags": []
     },
     "output_type": "display_data"
    }
   ],
   "source": [
    "fig = plt.figure(figsize=(12,8))\n",
    "fig.suptitle('Algorithm Comparison')\n",
    "ax = fig.add_subplot(111)\n",
    "plt.boxplot(all_positive_models)\n",
    "ax.set_xticklabels(all_positive_names)\n",
    "plt.xticks(rotation=90)\n",
    "plt.ylabel('Bias_Error')\n",
    "plt.show()"
   ]
  },
  {
   "cell_type": "code",
   "execution_count": null,
   "metadata": {
    "id": "Emq1dDUCutIP"
   },
   "outputs": [],
   "source": []
  },
  {
   "cell_type": "code",
   "execution_count": null,
   "metadata": {
    "id": "4TWVRUM3r-i0"
   },
   "outputs": [],
   "source": []
  },
  {
   "cell_type": "code",
   "execution_count": null,
   "metadata": {
    "id": "f_r8CHxCr-mE"
   },
   "outputs": [],
   "source": []
  },
  {
   "cell_type": "code",
   "execution_count": null,
   "metadata": {
    "id": "-hkApkBTr-pK"
   },
   "outputs": [],
   "source": []
  },
  {
   "cell_type": "code",
   "execution_count": null,
   "metadata": {
    "id": "RaLnbkCLr-uK"
   },
   "outputs": [],
   "source": []
  },
  {
   "cell_type": "code",
   "execution_count": null,
   "metadata": {
    "id": "QpkqHTtdAeMU"
   },
   "outputs": [],
   "source": [
    "import seaborn as sns"
   ]
  },
  {
   "cell_type": "code",
   "execution_count": null,
   "metadata": {
    "colab": {
     "base_uri": "https://localhost:8080/"
    },
    "id": "YoL95KursH-U",
    "outputId": "012ff2c4-b78f-4cf9-c8a9-6ebc46ca0e03"
   },
   "outputs": [
    {
     "data": {
      "text/plain": [
       "-0.024928963573496384"
      ]
     },
     "execution_count": 74,
     "metadata": {
      "tags": []
     },
     "output_type": "execute_result"
    }
   ],
   "source": [
    "np.mean(results[0])"
   ]
  },
  {
   "cell_type": "code",
   "execution_count": null,
   "metadata": {
    "colab": {
     "base_uri": "https://localhost:8080/"
    },
    "id": "W7Uurr9StmsF",
    "outputId": "73748896-eb9a-443d-e66a-ceaa05e21937"
   },
   "outputs": [
    {
     "data": {
      "text/plain": [
       "0.15788297085346556"
      ]
     },
     "execution_count": 76,
     "metadata": {
      "tags": []
     },
     "output_type": "execute_result"
    }
   ],
   "source": [
    "np.mean(results[0])"
   ]
  },
  {
   "cell_type": "code",
   "execution_count": null,
   "metadata": {
    "colab": {
     "base_uri": "https://localhost:8080/",
     "height": 265
    },
    "id": "WLm537tjpMB5",
    "outputId": "6154a1c0-dbe7-40e1-f6a7-c9bc1e59f6ca"
   },
   "outputs": [
    {
     "data": {
      "image/png": "[encoded data removed]",
      "text/plain": [
       "<Figure size 432x288 with 1 Axes>"
      ]
     },
     "metadata": {
      "needs_background": "light",
      "tags": []
     },
     "output_type": "display_data"
    }
   ],
   "source": [
    "plt.boxplot(results)\n",
    "plt.show()"
   ]
  },
  {
   "cell_type": "code",
   "execution_count": null,
   "metadata": {
    "id": "2AE0ZruAsFVm"
   },
   "outputs": [],
   "source": []
  }
 ],
 "metadata": {
  "accelerator": "GPU",
  "colab": {
   "collapsed_sections": [],
   "name": "Model_algorithms_final.ipynb",
   "provenance": []
  },
  "kernelspec": {
   "display_name": "Python 3",
   "language": "python",
   "name": "python3"
  },
  "language_info": {
   "codemirror_mode": {
    "name": "ipython",
    "version": 3
   },
   "file_extension": ".py",
   "mimetype": "text/x-python",
   "name": "python",
   "nbconvert_exporter": "python",
   "pygments_lexer": "ipython3",
   "version": "3.7.6"
  }
 },
 "nbformat": 4,
 "nbformat_minor": 1
}
